{
 "cells": [
  {
   "cell_type": "markdown",
   "metadata": {
    "id": "G2FVAsCikIY6"
   },
   "source": [
    "# GPT Prompt 생성\n",
    "\n",
    "\n",
    "> **주제: 한국 보험 약관의 해석 및 비판적 분석** <br/><br/>\n",
    "Topic: Interpretation and critical analysis of Korean insurance terms\n",
    "\n"
   ]
  },
  {
   "cell_type": "markdown",
   "metadata": {
    "id": "oHx_Y58YQwG0"
   },
   "source": [
    "\n",
    "\n",
    "---\n",
    "\n"
   ]
  },
  {
   "cell_type": "markdown",
   "metadata": {
    "id": "ez3ndoRYkID0"
   },
   "source": [
    "> *약관의 '깊이 있는 이해와 논리적 분석' (CoT) 과 '다양한 문제점 및 해결책 발상' (ToT)*"
   ]
  },
  {
   "cell_type": "markdown",
   "metadata": {
    "id": "rhsaNfPdlG7p"
   },
   "source": [
    "1.  약관 문구 '심층 이해' (CoT 집중): 주어진 약관 문구 CoT통해 단계별 분석, 글자 그대로의 의미, 핵심 용어, 적용 조건 등 정확히 파악(ToT의 첫 '생각'이 심층 이해)\n",
    "2. 잠재적 '문제점 발상' 및 근거 제시 (ToT 발상 + CoT 근거): 1단계에서 이해한 내용을 바탕으로, 이 약관이 소비자에게 어떤 잠재적인 문제(오해, 불이익, 허점 등)일으킬 수 있는지 여러 가지 아이디어 발상. 각 문제점 아이디어를 낼 때, 왜 그게 문제라고 생각했는지 약관 내용에 기반해서 CoT처럼 논리적으로 근거 제시(ToT 발상 과정 안에 CoT 추론 포함)\n",
    "3. 문제점 '평가' 및 중요 문제 선정 (ToT 평가): 발상된 여러 문제점들을 심각성, 발생 가능성, 모호성 등의 기준으로 평가해서, 가장 중요하고 시급한 문제점 하나(또는 몇 개) 선택\n",
    "4. '개선 방안 발상' 및 효과 설명 (ToT 발상 + CoT 효과): 3단계에서 선택된 핵심 문제점을 해결하기 위한 여러 가지 개선 방안(약관 문구 수정, 추가 설명, 절차 개선 등) 아이디어 발상. 각 개선 방안 아이디어 낼 때, 왜 이 방안이 문제를 해결할 수 있는지 CoT처럼 논리적으로 설명하게 함. (ToT 발상 과정 안에 CoT 설명 포함)\n",
    "5. 개선 방안 '평가' 및 최적 방안 선정 (ToT 평가): 발상된 개선 방안들을 효과성, 실현 가능성, 보험사/소비자 영향 등의 기준으로 평가, 가장 현실적이고 효과적인 최적 방안을 선택"
   ]
  },
  {
   "cell_type": "markdown",
   "metadata": {
    "id": "_qRd8Y9YRBCX"
   },
   "source": [
    "\n",
    "\n",
    "---\n",
    "\n"
   ]
  },
  {
   "cell_type": "markdown",
   "metadata": {
    "id": "tAOlFtZIkqIx"
   },
   "source": [
    "## Basic Setting"
   ]
  },
  {
   "cell_type": "code",
   "execution_count": 2,
   "metadata": {
    "id": "LbpCFOTmj9Ws",
    "colab": {
     "base_uri": "https://localhost:8080/"
    },
    "executionInfo": {
     "status": "ok",
     "timestamp": 1748838919958,
     "user_tz": -540,
     "elapsed": 35852,
     "user": {
      "displayName": "Junhee Choi",
      "userId": "01054653513821718568"
     }
    },
    "outputId": "f2bcae1e-699d-40a1-8853-f1a1fe5a8414"
   },
   "outputs": [
    {
     "output_type": "stream",
     "name": "stdout",
     "text": [
      "Drive already mounted at /content/drive; to attempt to forcibly remount, call drive.mount(\"/content/drive\", force_remount=True).\n",
      "Collecting streamlit\n",
      "  Downloading streamlit-1.45.1-py3-none-any.whl.metadata (8.9 kB)\n",
      "Requirement already satisfied: altair<6,>=4.0 in /usr/local/lib/python3.11/dist-packages (from streamlit) (5.5.0)\n",
      "Requirement already satisfied: blinker<2,>=1.5.0 in /usr/local/lib/python3.11/dist-packages (from streamlit) (1.9.0)\n",
      "Requirement already satisfied: cachetools<6,>=4.0 in /usr/local/lib/python3.11/dist-packages (from streamlit) (5.5.2)\n",
      "Requirement already satisfied: click<9,>=7.0 in /usr/local/lib/python3.11/dist-packages (from streamlit) (8.2.1)\n",
      "Requirement already satisfied: numpy<3,>=1.23 in /usr/local/lib/python3.11/dist-packages (from streamlit) (2.0.2)\n",
      "Requirement already satisfied: packaging<25,>=20 in /usr/local/lib/python3.11/dist-packages (from streamlit) (24.2)\n",
      "Requirement already satisfied: pandas<3,>=1.4.0 in /usr/local/lib/python3.11/dist-packages (from streamlit) (2.2.2)\n",
      "Requirement already satisfied: pillow<12,>=7.1.0 in /usr/local/lib/python3.11/dist-packages (from streamlit) (11.2.1)\n",
      "Requirement already satisfied: protobuf<7,>=3.20 in /usr/local/lib/python3.11/dist-packages (from streamlit) (5.29.4)\n",
      "Requirement already satisfied: pyarrow>=7.0 in /usr/local/lib/python3.11/dist-packages (from streamlit) (18.1.0)\n",
      "Requirement already satisfied: requests<3,>=2.27 in /usr/local/lib/python3.11/dist-packages (from streamlit) (2.32.3)\n",
      "Requirement already satisfied: tenacity<10,>=8.1.0 in /usr/local/lib/python3.11/dist-packages (from streamlit) (9.1.2)\n",
      "Requirement already satisfied: toml<2,>=0.10.1 in /usr/local/lib/python3.11/dist-packages (from streamlit) (0.10.2)\n",
      "Requirement already satisfied: typing-extensions<5,>=4.4.0 in /usr/local/lib/python3.11/dist-packages (from streamlit) (4.13.2)\n",
      "Collecting watchdog<7,>=2.1.5 (from streamlit)\n",
      "  Downloading watchdog-6.0.0-py3-none-manylinux2014_x86_64.whl.metadata (44 kB)\n",
      "\u001B[2K     \u001B[90m━━━━━━━━━━━━━━━━━━━━━━━━━━━━━━━━━━━━━━━━\u001B[0m \u001B[32m44.3/44.3 kB\u001B[0m \u001B[31m2.3 MB/s\u001B[0m eta \u001B[36m0:00:00\u001B[0m\n",
      "\u001B[?25hRequirement already satisfied: gitpython!=3.1.19,<4,>=3.0.7 in /usr/local/lib/python3.11/dist-packages (from streamlit) (3.1.44)\n",
      "Collecting pydeck<1,>=0.8.0b4 (from streamlit)\n",
      "  Downloading pydeck-0.9.1-py2.py3-none-any.whl.metadata (4.1 kB)\n",
      "Requirement already satisfied: tornado<7,>=6.0.3 in /usr/local/lib/python3.11/dist-packages (from streamlit) (6.4.2)\n",
      "Requirement already satisfied: jinja2 in /usr/local/lib/python3.11/dist-packages (from altair<6,>=4.0->streamlit) (3.1.6)\n",
      "Requirement already satisfied: jsonschema>=3.0 in /usr/local/lib/python3.11/dist-packages (from altair<6,>=4.0->streamlit) (4.23.0)\n",
      "Requirement already satisfied: narwhals>=1.14.2 in /usr/local/lib/python3.11/dist-packages (from altair<6,>=4.0->streamlit) (1.40.0)\n",
      "Requirement already satisfied: gitdb<5,>=4.0.1 in /usr/local/lib/python3.11/dist-packages (from gitpython!=3.1.19,<4,>=3.0.7->streamlit) (4.0.12)\n",
      "Requirement already satisfied: python-dateutil>=2.8.2 in /usr/local/lib/python3.11/dist-packages (from pandas<3,>=1.4.0->streamlit) (2.9.0.post0)\n",
      "Requirement already satisfied: pytz>=2020.1 in /usr/local/lib/python3.11/dist-packages (from pandas<3,>=1.4.0->streamlit) (2025.2)\n",
      "Requirement already satisfied: tzdata>=2022.7 in /usr/local/lib/python3.11/dist-packages (from pandas<3,>=1.4.0->streamlit) (2025.2)\n",
      "Requirement already satisfied: charset-normalizer<4,>=2 in /usr/local/lib/python3.11/dist-packages (from requests<3,>=2.27->streamlit) (3.4.2)\n",
      "Requirement already satisfied: idna<4,>=2.5 in /usr/local/lib/python3.11/dist-packages (from requests<3,>=2.27->streamlit) (3.10)\n",
      "Requirement already satisfied: urllib3<3,>=1.21.1 in /usr/local/lib/python3.11/dist-packages (from requests<3,>=2.27->streamlit) (2.4.0)\n",
      "Requirement already satisfied: certifi>=2017.4.17 in /usr/local/lib/python3.11/dist-packages (from requests<3,>=2.27->streamlit) (2025.4.26)\n",
      "Requirement already satisfied: smmap<6,>=3.0.1 in /usr/local/lib/python3.11/dist-packages (from gitdb<5,>=4.0.1->gitpython!=3.1.19,<4,>=3.0.7->streamlit) (5.0.2)\n",
      "Requirement already satisfied: MarkupSafe>=2.0 in /usr/local/lib/python3.11/dist-packages (from jinja2->altair<6,>=4.0->streamlit) (3.0.2)\n",
      "Requirement already satisfied: attrs>=22.2.0 in /usr/local/lib/python3.11/dist-packages (from jsonschema>=3.0->altair<6,>=4.0->streamlit) (25.3.0)\n",
      "Requirement already satisfied: jsonschema-specifications>=2023.03.6 in /usr/local/lib/python3.11/dist-packages (from jsonschema>=3.0->altair<6,>=4.0->streamlit) (2025.4.1)\n",
      "Requirement already satisfied: referencing>=0.28.4 in /usr/local/lib/python3.11/dist-packages (from jsonschema>=3.0->altair<6,>=4.0->streamlit) (0.36.2)\n",
      "Requirement already satisfied: rpds-py>=0.7.1 in /usr/local/lib/python3.11/dist-packages (from jsonschema>=3.0->altair<6,>=4.0->streamlit) (0.25.1)\n",
      "Requirement already satisfied: six>=1.5 in /usr/local/lib/python3.11/dist-packages (from python-dateutil>=2.8.2->pandas<3,>=1.4.0->streamlit) (1.17.0)\n",
      "Downloading streamlit-1.45.1-py3-none-any.whl (9.9 MB)\n",
      "\u001B[2K   \u001B[90m━━━━━━━━━━━━━━━━━━━━━━━━━━━━━━━━━━━━━━━━\u001B[0m \u001B[32m9.9/9.9 MB\u001B[0m \u001B[31m74.6 MB/s\u001B[0m eta \u001B[36m0:00:00\u001B[0m\n",
      "\u001B[?25hDownloading pydeck-0.9.1-py2.py3-none-any.whl (6.9 MB)\n",
      "\u001B[2K   \u001B[90m━━━━━━━━━━━━━━━━━━━━━━━━━━━━━━━━━━━━━━━━\u001B[0m \u001B[32m6.9/6.9 MB\u001B[0m \u001B[31m95.1 MB/s\u001B[0m eta \u001B[36m0:00:00\u001B[0m\n",
      "\u001B[?25hDownloading watchdog-6.0.0-py3-none-manylinux2014_x86_64.whl (79 kB)\n",
      "\u001B[2K   \u001B[90m━━━━━━━━━━━━━━━━━━━━━━━━━━━━━━━━━━━━━━━━\u001B[0m \u001B[32m79.1/79.1 kB\u001B[0m \u001B[31m6.8 MB/s\u001B[0m eta \u001B[36m0:00:00\u001B[0m\n",
      "\u001B[?25hInstalling collected packages: watchdog, pydeck, streamlit\n",
      "Successfully installed pydeck-0.9.1 streamlit-1.45.1 watchdog-6.0.0\n"
     ]
    }
   ],
   "source": [
    "import openai\n",
    "import time\n",
    "import os\n",
    "from google.colab import drive\n",
    "drive.mount('/content/drive')\n",
    "!pip install streamlit\n",
    "import streamlit as st"
   ]
  },
  {
   "cell_type": "code",
   "execution_count": 3,
   "metadata": {
    "id": "TOpud2SckEfe",
    "executionInfo": {
     "status": "ok",
     "timestamp": 1748838924217,
     "user_tz": -540,
     "elapsed": 976,
     "user": {
      "displayName": "Junhee Choi",
      "userId": "01054653513821718568"
     }
    }
   },
   "outputs": [],
   "source": "client = openai.OpenAI(api_key = xx)"
  },
  {
   "cell_type": "code",
   "execution_count": 4,
   "metadata": {
    "colab": {
     "base_uri": "https://localhost:8080/"
    },
    "executionInfo": {
     "elapsed": 12657,
     "status": "ok",
     "timestamp": 1748838936909,
     "user": {
      "displayName": "Junhee Choi",
      "userId": "01054653513821718568"
     },
     "user_tz": -540
    },
    "id": "B-QDrHT_kYU3",
    "outputId": "a8776a84-de20-43f1-91c8-24c5284afecb"
   },
   "outputs": [
    {
     "output_type": "stream",
     "name": "stdout",
     "text": [
      "Collecting PyMuPDF\n",
      "  Downloading pymupdf-1.26.0-cp39-abi3-manylinux2014_x86_64.manylinux_2_17_x86_64.whl.metadata (3.4 kB)\n",
      "Downloading pymupdf-1.26.0-cp39-abi3-manylinux2014_x86_64.manylinux_2_17_x86_64.whl (24.1 MB)\n",
      "\u001B[2K   \u001B[90m━━━━━━━━━━━━━━━━━━━━━━━━━━━━━━━━━━━━━━━━\u001B[0m \u001B[32m24.1/24.1 MB\u001B[0m \u001B[31m36.6 MB/s\u001B[0m eta \u001B[36m0:00:00\u001B[0m\n",
      "\u001B[?25hInstalling collected packages: PyMuPDF\n",
      "Successfully installed PyMuPDF-1.26.0\n"
     ]
    }
   ],
   "source": [
    "from collections import defaultdict\n",
    "import re\n",
    "import json\n",
    "!pip install PyMuPDF\n",
    "import fitz"
   ]
  },
  {
   "cell_type": "markdown",
   "metadata": {
    "id": "2WqfGIMsEp_P"
   },
   "source": [
    "## 1. 약관 내용 심층 이해"
   ]
  },
  {
   "cell_type": "markdown",
   "metadata": {
    "id": "bFX7w721EtB5"
   },
   "source": [
    "### 약관 내용을 구조별로 정리\n",
    "- 약관 파일 읽음\n",
    "- 약관 내용 구조별로 나누기\n",
    "- 각 구조의 주요 내용을 계약자가 이해하기 쉬운 말로 바꾸기\n",
    "- 어떻게 쉬운 말로 바꾸었는지 보여주기\n",
    "- self-consistency로 여러 번 시도하여 가장 잘 정리된 결과 선택\n",
    "- 결과 구조화, 혹은 표로 시각화"
   ]
  },
  {
   "cell_type": "markdown",
   "metadata": {
    "id": "GKrZTGiPIum0"
   },
   "source": [
    "### 약관 pdf파일에서 텍스트 추출"
   ]
  },
  {
   "cell_type": "code",
   "execution_count": 5,
   "metadata": {
    "id": "7K1NNqYz_BfZ",
    "executionInfo": {
     "status": "ok",
     "timestamp": 1748838936961,
     "user_tz": -540,
     "elapsed": 41,
     "user": {
      "displayName": "Junhee Choi",
      "userId": "01054653513821718568"
     }
    }
   },
   "outputs": [],
   "source": [
    "import fitz  # PyMuPDF 임포트\n",
    "\n",
    "def extract_text_from_pdf(pdf_path):\n",
    "    \"\"\"PDF 파일 경로를 받아 텍스트를 추출하여 반환\"\"\"\n",
    "    text = \"\"\n",
    "    try:\n",
    "        doc = fitz.open(pdf_path)\n",
    "        print(f\"PDF 파일 로드 성공: {pdf_path}, 총 {doc.page_count} 페이지\")\n",
    "        for page_num in range(doc.page_count):\n",
    "            page = doc.load_page(page_num)\n",
    "            text += page.get_text()\n",
    "\n",
    "        doc.close()\n",
    "        print(\"PDF 텍스트 추출 완료.\")\n",
    "    except FileNotFoundError:\n",
    "        print(f\"오류: 파일을 찾을 수 없습니다 - {pdf_path}\")\n",
    "        return None\n",
    "    except Exception as e:\n",
    "        print(f\"PDF 텍스트 추출 중 오류 발생: {e}\")\n",
    "        return None\n",
    "    text = text.replace('\\t', '').replace('\\n', '').replace('\\r', '')\n",
    "    return text\n"
   ]
  },
  {
   "cell_type": "code",
   "execution_count": null,
   "metadata": {
    "colab": {
     "base_uri": "https://localhost:8080/"
    },
    "executionInfo": {
     "elapsed": 2835,
     "status": "ok",
     "timestamp": 1748433807867,
     "user": {
      "displayName": "Junhee Choi",
      "userId": "01054653513821718568"
     },
     "user_tz": -540
    },
    "id": "wkdmrZUvIeq-",
    "outputId": "117fe450-b36f-41a3-98a7-f8aca649d06b"
   },
   "outputs": [
    {
     "name": "stdout",
     "output_type": "stream",
     "text": [
      "PDF 텍스트 추출 중 오류 발생: no such file: '/content/drive/MyDrive/UNIV./25-1/컴퓨터네트워크/cn_api_project/무배당 삼성화재 다이렉트보험약관.pdf'\n",
      "텍스트 추출 실패.\n"
     ]
    }
   ],
   "source": [
    "pdf_file_path = '/content/drive/MyDrive/UNIV./25-1/컴퓨터네트워크/cn_api_project/무배당 삼성화재 다이렉트보험약관.pdf'\n",
    "\n",
    "\n",
    "extracted_text = extract_text_from_pdf(pdf_file_path)\n",
    "if extracted_text:\n",
    "    print(f\"추출된 텍스트 일부:\\n{extracted_text[:500]}...\")\n",
    "else:\n",
    "    print(\"텍스트 추출 실패.\")\n",
    "#     # 에러 처리: 텍스트 추출 실패 시 분석 진행 불가\n"
   ]
  },
  {
   "cell_type": "markdown",
   "metadata": {
    "id": "GaHHUF06GUZ7"
   },
   "source": [
    "#### 폴더 내 파일들 순회하며 pdf는 txt로 변환하고 txt는 그대로 두어  txt 파일 목록 반환"
   ]
  },
  {
   "cell_type": "code",
   "execution_count": 7,
   "metadata": {
    "id": "C0BZf8KiF0cb",
    "executionInfo": {
     "status": "ok",
     "timestamp": 1748838945340,
     "user_tz": -540,
     "elapsed": 47,
     "user": {
      "displayName": "Junhee Choi",
      "userId": "01054653513821718568"
     }
    }
   },
   "outputs": [],
   "source": [
    "base_drive_folder_path = '/content/drive/MyDrive/PROJECT/cn_api_project/data'"
   ]
  },
  {
   "cell_type": "code",
   "execution_count": 6,
   "metadata": {
    "id": "EwR2EtLaEOaQ",
    "executionInfo": {
     "status": "ok",
     "timestamp": 1748838941450,
     "user_tz": -540,
     "elapsed": 39,
     "user": {
      "displayName": "Junhee Choi",
      "userId": "01054653513821718568"
     }
    }
   },
   "outputs": [],
   "source": [
    "# --- Google Drive 폴더 내 파일 처리 및 RAG 문서 목록 생성 함수 ---\n",
    "def process_drive_folder_for_rag(base_drive_folder_path):\n",
    "    \"\"\"\n",
    "    Google Drive의 특정 폴더를 탐색하며 PDF는 TXT로 변환하고,\n",
    "    RAG 입력으로 사용할 모든 TXT 파일 경로 목록을 반환합니다.\n",
    "    \"\"\"\n",
    "    txt_list = []\n",
    "\n",
    "    print(f\"--- Google Drive 폴더 탐색 및 파일 처리 시작: '{base_drive_folder_path}' ---\")\n",
    "\n",
    "    if not os.path.isdir(base_drive_folder_path):\n",
    "        print(f\"!!! 오류: 지정된 경로가 폴더가 아니거나 존재하지 않습니다 - '{base_drive_folder_path}' !!!\")\n",
    "        print(\"Google Drive 마운트 상태와 경로를 확인해주세요.\")\n",
    "        return [] # 오류 시 빈 리스트 반환\n",
    "\n",
    "\n",
    "    # os.walk()를 사용하여 폴더 및 하위 폴더 순회\n",
    "    for root, dirs, files in os.walk(base_drive_folder_path):\n",
    "        print(f\"\\n폴더 탐색 중: {root}\")\n",
    "\n",
    "        for file in files:\n",
    "            file_path = os.path.join(root, file)\n",
    "            file_name, file_ext = os.path.splitext(file) # 파일 이름과 확장자 분리\n",
    "            file_ext = file_ext.lower() # 확장자를 소문자로 변환하여 비교 (대소문자 구분 없이)\n",
    "\n",
    "            # PDF 파일인 경우\n",
    "            if file_ext == '.pdf':\n",
    "                output_txt_path = os.path.join(root, file_name + '.txt') # 원본 PDF와 같은 폴더에 .txt로 저장\n",
    "\n",
    "                # 이미 같은 이름의 TXT 파일이 있는지 확인 (옵션: 덮어쓸지 물어보거나 스킵)\n",
    "                if os.path.exists(output_txt_path):\n",
    "                    print(f\"TXT 파일 이미 존재: '{os.path.basename(file)}' -> '{os.path.basename(output_txt_path)}'. 변환을 스킵합니다.\")\n",
    "                    txt_list.append(output_txt_path)\n",
    "                    continue # 다음 파일로 넘어감\n",
    "\n",
    "                print(f\"PDF 발견: '{os.path.basename(file)}'. 텍스트 추출 및 TXT 변환 중...\")\n",
    "                extracted_text = extract_text_from_pdf(file_path)\n",
    "\n",
    "                if extracted_text:\n",
    "                    try:\n",
    "                        # 추출된 텍스트를 TXT 파일로 저장\n",
    "                        with open(output_txt_path, 'w', encoding='utf-8') as f:\n",
    "                            f.write(extracted_text)\n",
    "                        print(f\"'{os.path.basename(file)}' -> '{os.path.basename(output_txt_path)}' 변환 및 저장 완료.\")\n",
    "                        txt_list.append(output_txt_path) # TXT 파일 경로 목록에 추가\n",
    "                    except Exception as e:\n",
    "                        print(f\"TXT 파일 저장 오류 ({os.path.basename(output_txt_path)}): {e}\")\n",
    "                else:\n",
    "                    print(f\"'{os.path.basename(file)}' 텍스트 추출 실패. 변환 건너뜁니다.\")\n",
    "\n",
    "            # TXT 파일인 경우 (PDF에서 변환된 TXT 포함)\n",
    "            elif file_ext == '.txt':\n",
    "                print(f\"TXT 파일 발견: '{os.path.basename(file)}'\")\n",
    "                txt_list.append(file_path) # TXT 파일 경로 목록에 추가\n",
    "\n",
    "\n",
    "            # 그 외 파일 형식인 경우\n",
    "            else:\n",
    "                # print(f\"알 수 없는 파일 형식: '{os.path.basename(file)}'. 건너뜁니다.\") # 디버깅 시 출력\n",
    "\n",
    "                pass # PDF, TXT가 아니면 무시\n",
    "\n",
    "    print(f\"\\n--- Google Drive 폴더 탐색 및 파일 처리 완료. ---\")\n",
    "\n",
    "    # print(\"확보된 TXT 파일 경로 목록 (일부):\", txt_list[:10]) # 디버깅용\n",
    "\n",
    "    return txt_list # RAG 입력으로 사용할 TXT 파일 경로 목록 반환"
   ]
  },
  {
   "cell_type": "code",
   "execution_count": 10,
   "metadata": {
    "colab": {
     "base_uri": "https://localhost:8080/"
    },
    "executionInfo": {
     "elapsed": 1496,
     "status": "ok",
     "timestamp": 1748829887442,
     "user": {
      "displayName": "Junhee Choi",
      "userId": "01054653513821718568"
     },
     "user_tz": -540
    },
    "id": "TO7JancrHI8q",
    "outputId": "8c8147e1-1ca7-4756-cba5-4d1639ccd224"
   },
   "outputs": [
    {
     "output_type": "stream",
     "name": "stdout",
     "text": [
      "--- Google Drive 폴더 탐색 및 파일 처리 시작: '/content/drive/MyDrive/PROJECT/cn_api_project/data' ---\n",
      "\n",
      "폴더 탐색 중: /content/drive/MyDrive/PROJECT/cn_api_project/data\n",
      "\n",
      "폴더 탐색 중: /content/drive/MyDrive/PROJECT/cn_api_project/data/보험약관\n",
      "TXT 파일 이미 존재: '무배당 삼성화재 다이렉트보험약관.pdf' -> '무배당 삼성화재 다이렉트보험약관.txt'. 변환을 스킵합니다.\n",
      "TXT 파일 이미 존재: '삼성화재_반려묘보험_애니펫.pdf' -> '삼성화재_반려묘보험_애니펫.txt'. 변환을 스킵합니다.\n",
      "TXT 파일 이미 존재: '삼성화재_반려묘보험_의기냥냥.pdf' -> '삼성화재_반려묘보험_의기냥냥.txt'. 변환을 스킵합니다.\n",
      "TXT 파일 이미 존재: '한화_스마일펫보험.pdf' -> '한화_스마일펫보험.txt'. 변환을 스킵합니다.\n",
      "TXT 파일 이미 존재: 'samsung_anicar_terms.pdf' -> 'samsung_anicar_terms.txt'. 변환을 스킵합니다.\n",
      "TXT 파일 이미 존재: 'samsung_anicar_direct_terms.pdf' -> 'samsung_anicar_direct_terms.txt'. 변환을 스킵합니다.\n",
      "TXT 파일 이미 존재: 'samsung_child_terms.pdf' -> 'samsung_child_terms.txt'. 변환을 스킵합니다.\n",
      "TXT 파일 이미 존재: 'db_personal_car_terms.pdf' -> 'db_personal_car_terms.txt'. 변환을 스킵합니다.\n",
      "TXT 파일 이미 존재: 'db_cat_terms.pdf' -> 'db_cat_terms.txt'. 변환을 스킵합니다.\n",
      "TXT 파일 이미 존재: 'db_injury_terms.pdf' -> 'db_injury_terms.txt'. 변환을 스킵합니다.\n",
      "TXT 파일 이미 존재: 'db_health_terms.pdf' -> 'db_health_terms.txt'. 변환을 스킵합니다.\n",
      "TXT 파일 이미 존재: 'db_teeth_terms.pdf' -> 'db_teeth_terms.txt'. 변환을 스킵합니다.\n",
      "TXT 파일 이미 존재: 'Readycar개인용자동차보험약관.pdf' -> 'Readycar개인용자동차보험약관.txt'. 변환을 스킵합니다.\n",
      "TXT 파일 이미 존재: '무배당 메리츠 실손의료비보험2504약관.pdf' -> '무배당 메리츠 실손의료비보험2504약관.txt'. 변환을 스킵합니다.\n",
      "TXT 파일 이미 존재: '무배당 내Mom같은 어린이보험2504약관.pdf' -> '무배당 내Mom같은 어린이보험2504약관.txt'. 변환을 스킵합니다.\n",
      "TXT 파일 이미 존재: '무배당 메리츠 통합간편건강보험2504(일반심사형)약관.pdf' -> '무배당 메리츠 통합간편건강보험2504(일반심사형)약관.txt'. 변환을 스킵합니다.\n",
      "TXT 파일 이미 존재: '메리츠 반려동물보험약관.pdf' -> '메리츠 반려동물보험약관.txt'. 변환을 스킵합니다.\n",
      "TXT 파일 이미 존재: '메리츠 마음든든 반려동물보험약관.pdf' -> '메리츠 마음든든 반려동물보험약관.txt'. 변환을 스킵합니다.\n",
      "TXT 파일 이미 존재: 'samsung_direct_cat_terms.pdf' -> 'samsung_direct_cat_terms.txt'. 변환을 스킵합니다.\n",
      "TXT 파일 이미 존재: 'meritz_direct_cat_terms.pdf' -> 'meritz_direct_cat_terms.txt'. 변환을 스킵합니다.\n",
      "TXT 파일 이미 존재: 'hyundai_cat_direct_terms.pdf' -> 'hyundai_cat_direct_terms.txt'. 변환을 스킵합니다.\n",
      "TXT 파일 이미 존재: 'KB_cat_direct_terms.pdf' -> 'KB_cat_direct_terms.txt'. 변환을 스킵합니다.\n",
      "TXT 파일 발견: '무배당 삼성화재 다이렉트보험약관.txt'\n",
      "TXT 파일 발견: '삼성화재_반려묘보험_애니펫.txt'\n",
      "TXT 파일 발견: '삼성화재_반려묘보험_의기냥냥.txt'\n",
      "TXT 파일 발견: '한화_스마일펫보험.txt'\n",
      "TXT 파일 발견: 'samsung_anicar_terms.txt'\n",
      "TXT 파일 발견: 'samsung_anicar_direct_terms.txt'\n",
      "TXT 파일 발견: 'samsung_child_terms.txt'\n",
      "TXT 파일 발견: 'db_personal_car_terms.txt'\n",
      "TXT 파일 발견: 'db_cat_terms.txt'\n",
      "TXT 파일 발견: 'db_injury_terms.txt'\n",
      "TXT 파일 발견: 'db_health_terms.txt'\n",
      "TXT 파일 발견: 'db_teeth_terms.txt'\n",
      "TXT 파일 발견: 'Readycar개인용자동차보험약관.txt'\n",
      "TXT 파일 발견: '무배당 메리츠 실손의료비보험2504약관.txt'\n",
      "TXT 파일 발견: '무배당 내Mom같은 어린이보험2504약관.txt'\n",
      "TXT 파일 발견: '무배당 메리츠 통합간편건강보험2504(일반심사형)약관.txt'\n",
      "TXT 파일 발견: '메리츠 반려동물보험약관.txt'\n",
      "TXT 파일 발견: '메리츠 마음든든 반려동물보험약관.txt'\n",
      "TXT 파일 발견: 'samsung_direct_cat_terms.txt'\n",
      "TXT 파일 발견: 'meritz_direct_cat_terms.txt'\n",
      "TXT 파일 발견: 'hyundai_cat_direct_terms.txt'\n",
      "TXT 파일 발견: 'KB_cat_direct_terms.txt'\n",
      "\n",
      "폴더 탐색 중: /content/drive/MyDrive/PROJECT/cn_api_project/data/보험약관/summary\n",
      "TXT 파일 발견: 'full_summary.txt'\n",
      "TXT 파일 발견: 'db_cat_terms_summary.txt'\n",
      "TXT 파일 발견: 'samsung_cat_anipet_terms_summary.txt'\n",
      "TXT 파일 발견: 'hanhwa_pet_terms_summary.txt'\n",
      "TXT 파일 발견: '무배당 삼성화재 다이렉트보험약관_summary.txt'\n",
      "TXT 파일 발견: '삼성화재_반려묘보험_애니펫_summary.txt'\n",
      "TXT 파일 발견: '삼성화재_반려묘보험_의기냥냥_summary.txt'\n",
      "TXT 파일 발견: '한화_스마일펫보험_summary.txt'\n",
      "TXT 파일 발견: 'samsung_anicar_terms_summary.txt'\n",
      "TXT 파일 발견: 'samsung_anicar_direct_terms_summary.txt'\n",
      "TXT 파일 발견: 'meritz_cat_1_terms_summary.txt'\n",
      "TXT 파일 발견: 'meritz_cat_2_terms_summary.txt'\n",
      "\n",
      "폴더 탐색 중: /content/drive/MyDrive/PROJECT/cn_api_project/data/law\n",
      "TXT 파일 이미 존재: '보험계약법_상법제4편.pdf' -> '보험계약법_상법제4편.txt'. 변환을 스킵합니다.\n",
      "TXT 파일 발견: '보험계약법_상법제4편.txt'\n",
      "TXT 파일 이미 존재: '약관의 규제에 관한 법률(법률)(제20239호)(20240807).pdf' -> '약관의 규제에 관한 법률(법률)(제20239호)(20240807).txt'. 변환을 스킵합니다.\n",
      "TXT 파일 발견: '약관의 규제에 관한 법률(법률)(제20239호)(20240807).txt'\n",
      "\n",
      "폴더 탐색 중: /content/drive/MyDrive/PROJECT/cn_api_project/data/dispute\n",
      "TXT 파일 발견: '판례1.txt'\n",
      "TXT 파일 발견: '판례2.txt'\n",
      "TXT 파일 발견: '판례3.txt'\n",
      "TXT 파일 발견: '판례4.txt'\n",
      "TXT 파일 발견: '판례5.txt'\n",
      "TXT 파일 발견: '판례6.txt'\n",
      "TXT 파일 발견: '판례7.txt'\n",
      "TXT 파일 발견: '판례8.txt'\n",
      "TXT 파일 발견: '판례9.txt'\n",
      "TXT 파일 발견: '판례10.txt'\n",
      "TXT 파일 발견: '판례11.txt'\n",
      "TXT 파일 발견: '판례12.txt'\n",
      "TXT 파일 이미 존재: '24년_3분기_민원_분쟁_사례_기준.pdf' -> '24년_3분기_민원_분쟁_사례_기준.txt'. 변환을 스킵합니다.\n",
      "TXT 파일 이미 존재: '암보험_주요_분쟁_사례.pdf' -> '암보험_주요_분쟁_사례.txt'. 변환을 스킵합니다.\n",
      "TXT 파일 발견: '24년_3분기_민원_분쟁_사례_기준.txt'\n",
      "TXT 파일 발견: '암보험_주요_분쟁_사례.txt'\n",
      "\n",
      "폴더 탐색 중: /content/drive/MyDrive/PROJECT/cn_api_project/data/dispute/kca\n",
      "TXT 파일 발견: 'kca_financial_insurance_cases_details.txt'\n",
      "TXT 파일 발견: 'kca_financial_insurance_cases.txt'\n",
      "\n",
      "폴더 탐색 중: /content/drive/MyDrive/PROJECT/cn_api_project/data/papers\n",
      "TXT 파일 이미 존재: '실손의료보험 현황과 개선방안 연구.pdf' -> '실손의료보험 현황과 개선방안 연구.txt'. 변환을 스킵합니다.\n",
      "TXT 파일 이미 존재: '실손보험을 둘러싼 소비자의 궁금증 3가지.pdf' -> '실손보험을 둘러싼 소비자의 궁금증 3가지.txt'. 변환을 스킵합니다.\n",
      "TXT 파일 이미 존재: '보험약관의 객관적·획일적 해석과 그 적용.pdf' -> '보험약관의 객관적·획일적 해석과 그 적용.txt'. 변환을 스킵합니다.\n",
      "TXT 파일 이미 존재: '실손보험, 제대로 알고 활용하기.pdf' -> '실손보험, 제대로 알고 활용하기.txt'. 변환을 스킵합니다.\n",
      "TXT 파일 이미 존재: '[논란의 5세대 실손보험] 부담금 대폭 올려…정부 1세대도 갈아타라.pdf' -> '[논란의 5세대 실손보험] 부담금 대폭 올려…정부 1세대도 갈아타라.txt'. 변환을 스킵합니다.\n",
      "TXT 파일 이미 존재: '‘알쏭달쏭’ 5세대 실손보험 완전정복.pdf' -> '‘알쏭달쏭’ 5세대 실손보험 완전정복.txt'. 변환을 스킵합니다.\n",
      "TXT 파일 이미 존재: '[2025 베스트 보험 상품] 2025년 놓치지 말아야 할 베스트 보험 상품.pdf' -> '[2025 베스트 보험 상품] 2025년 놓치지 말아야 할 베스트 보험 상품.txt'. 변환을 스킵합니다.\n",
      "TXT 파일 이미 존재: '[보험테크] 여보! ‘100세’ 보장 어린이보험 가입할까.pdf' -> '[보험테크] 여보! ‘100세’ 보장 어린이보험 가입할까.txt'. 변환을 스킵합니다.\n",
      "TXT 파일 이미 존재: '[보험테크] 고양이도 20년 질병 보장 이색 펫보험 챙겨보세요.pdf' -> '[보험테크] 고양이도 20년 질병 보장 이색 펫보험 챙겨보세요.txt'. 변환을 스킵합니다.\n",
      "TXT 파일 이미 존재: '[보험테크] 펫보험 눈부신 ‘진화’ 장례비·해외여행 위탁 돌봄 추가 지원.pdf' -> '[보험테크] 펫보험 눈부신 ‘진화’ 장례비·해외여행 위탁 돌봄 추가 지원.txt'. 변환을 스킵합니다.\n",
      "TXT 파일 이미 존재: '[보험테크] 펫보험 전성시대 개물림·유병력 보장에 장례비까지.pdf' -> '[보험테크] 펫보험 전성시대 개물림·유병력 보장에 장례비까지.txt'. 변환을 스킵합니다.\n",
      "TXT 파일 이미 존재: '[KCA 소통 Report 15-8호] 보험서비스 - 자동차보험을 제외한 나머지 보험서비스.pdf' -> '[KCA 소통 Report 15-8호] 보험서비스 - 자동차보험을 제외한 나머지 보험서비스.txt'. 변환을 스킵합니다.\n",
      "TXT 파일 이미 존재: '[보험] 오래 묵혀 둔 보험 재설계해도, 2009년 이전 가입한 암 보험은 유지해야.pdf' -> '[보험] 오래 묵혀 둔 보험 재설계해도, 2009년 이전 가입한 암 보험은 유지해야.txt'. 변환을 스킵합니다.\n",
      "TXT 파일 이미 존재: '[FINANCE] 새로워진 ‘자동차보험 비교·추천 서비스’  내 차보험 ‘선택 장애’ 시원.pdf' -> '[FINANCE] 새로워진 ‘자동차보험 비교·추천 서비스’  내 차보험 ‘선택 장애’ 시원.txt'. 변환을 스킵합니다.\n",
      "TXT 파일 이미 존재: '[베인의 위닝 전략] 글로벌 보험산업 5대 메가 트렌드, 위기 속 생존전략.pdf' -> '[베인의 위닝 전략] 글로벌 보험산업 5대 메가 트렌드, 위기 속 생존전략.txt'. 변환을 스킵합니다.\n",
      "TXT 파일 이미 존재: '보험 I 우리나라 의료보험제도와 DRG의 이해.pdf' -> '보험 I 우리나라 의료보험제도와 DRG의 이해.txt'. 변환을 스킵합니다.\n",
      "TXT 파일 발견: '실손의료보험 현황과 개선방안 연구.txt'\n",
      "TXT 파일 발견: '실손보험을 둘러싼 소비자의 궁금증 3가지.txt'\n",
      "TXT 파일 발견: '보험약관의 객관적·획일적 해석과 그 적용.txt'\n",
      "TXT 파일 발견: '실손보험, 제대로 알고 활용하기.txt'\n",
      "TXT 파일 발견: '[논란의 5세대 실손보험] 부담금 대폭 올려…정부 1세대도 갈아타라.txt'\n",
      "TXT 파일 발견: '‘알쏭달쏭’ 5세대 실손보험 완전정복.txt'\n",
      "TXT 파일 발견: '[2025 베스트 보험 상품] 2025년 놓치지 말아야 할 베스트 보험 상품.txt'\n",
      "TXT 파일 발견: '[보험테크] 여보! ‘100세’ 보장 어린이보험 가입할까.txt'\n",
      "TXT 파일 발견: '[보험테크] 고양이도 20년 질병 보장 이색 펫보험 챙겨보세요.txt'\n",
      "TXT 파일 발견: '[보험테크] 펫보험 눈부신 ‘진화’ 장례비·해외여행 위탁 돌봄 추가 지원.txt'\n",
      "TXT 파일 발견: '[보험테크] 펫보험 전성시대 개물림·유병력 보장에 장례비까지.txt'\n",
      "TXT 파일 발견: '[KCA 소통 Report 15-8호] 보험서비스 - 자동차보험을 제외한 나머지 보험서비스.txt'\n",
      "TXT 파일 발견: '[보험] 오래 묵혀 둔 보험 재설계해도, 2009년 이전 가입한 암 보험은 유지해야.txt'\n",
      "TXT 파일 발견: '[FINANCE] 새로워진 ‘자동차보험 비교·추천 서비스’  내 차보험 ‘선택 장애’ 시원.txt'\n",
      "TXT 파일 발견: '[베인의 위닝 전략] 글로벌 보험산업 5대 메가 트렌드, 위기 속 생존전략.txt'\n",
      "TXT 파일 발견: '보험 I 우리나라 의료보험제도와 DRG의 이해.txt'\n",
      "\n",
      "--- Google Drive 폴더 탐색 및 파일 처리 완료. ---\n"
     ]
    },
    {
     "output_type": "execute_result",
     "data": {
      "text/plain": [
       "['/content/drive/MyDrive/PROJECT/cn_api_project/data/보험약관/무배당 삼성화재 다이렉트보험약관.txt',\n",
       " '/content/drive/MyDrive/PROJECT/cn_api_project/data/보험약관/삼성화재_반려묘보험_애니펫.txt',\n",
       " '/content/drive/MyDrive/PROJECT/cn_api_project/data/보험약관/삼성화재_반려묘보험_의기냥냥.txt',\n",
       " '/content/drive/MyDrive/PROJECT/cn_api_project/data/보험약관/한화_스마일펫보험.txt',\n",
       " '/content/drive/MyDrive/PROJECT/cn_api_project/data/보험약관/samsung_anicar_terms.txt',\n",
       " '/content/drive/MyDrive/PROJECT/cn_api_project/data/보험약관/samsung_anicar_direct_terms.txt',\n",
       " '/content/drive/MyDrive/PROJECT/cn_api_project/data/보험약관/samsung_child_terms.txt',\n",
       " '/content/drive/MyDrive/PROJECT/cn_api_project/data/보험약관/db_personal_car_terms.txt',\n",
       " '/content/drive/MyDrive/PROJECT/cn_api_project/data/보험약관/db_cat_terms.txt',\n",
       " '/content/drive/MyDrive/PROJECT/cn_api_project/data/보험약관/db_injury_terms.txt',\n",
       " '/content/drive/MyDrive/PROJECT/cn_api_project/data/보험약관/db_health_terms.txt',\n",
       " '/content/drive/MyDrive/PROJECT/cn_api_project/data/보험약관/db_teeth_terms.txt',\n",
       " '/content/drive/MyDrive/PROJECT/cn_api_project/data/보험약관/Readycar개인용자동차보험약관.txt',\n",
       " '/content/drive/MyDrive/PROJECT/cn_api_project/data/보험약관/무배당 메리츠 실손의료비보험2504약관.txt',\n",
       " '/content/drive/MyDrive/PROJECT/cn_api_project/data/보험약관/무배당 내Mom같은 어린이보험2504약관.txt',\n",
       " '/content/drive/MyDrive/PROJECT/cn_api_project/data/보험약관/무배당 메리츠 통합간편건강보험2504(일반심사형)약관.txt',\n",
       " '/content/drive/MyDrive/PROJECT/cn_api_project/data/보험약관/메리츠 반려동물보험약관.txt',\n",
       " '/content/drive/MyDrive/PROJECT/cn_api_project/data/보험약관/메리츠 마음든든 반려동물보험약관.txt',\n",
       " '/content/drive/MyDrive/PROJECT/cn_api_project/data/보험약관/samsung_direct_cat_terms.txt',\n",
       " '/content/drive/MyDrive/PROJECT/cn_api_project/data/보험약관/meritz_direct_cat_terms.txt',\n",
       " '/content/drive/MyDrive/PROJECT/cn_api_project/data/보험약관/hyundai_cat_direct_terms.txt',\n",
       " '/content/drive/MyDrive/PROJECT/cn_api_project/data/보험약관/KB_cat_direct_terms.txt',\n",
       " '/content/drive/MyDrive/PROJECT/cn_api_project/data/보험약관/무배당 삼성화재 다이렉트보험약관.txt',\n",
       " '/content/drive/MyDrive/PROJECT/cn_api_project/data/보험약관/삼성화재_반려묘보험_애니펫.txt',\n",
       " '/content/drive/MyDrive/PROJECT/cn_api_project/data/보험약관/삼성화재_반려묘보험_의기냥냥.txt',\n",
       " '/content/drive/MyDrive/PROJECT/cn_api_project/data/보험약관/한화_스마일펫보험.txt',\n",
       " '/content/drive/MyDrive/PROJECT/cn_api_project/data/보험약관/samsung_anicar_terms.txt',\n",
       " '/content/drive/MyDrive/PROJECT/cn_api_project/data/보험약관/samsung_anicar_direct_terms.txt',\n",
       " '/content/drive/MyDrive/PROJECT/cn_api_project/data/보험약관/samsung_child_terms.txt',\n",
       " '/content/drive/MyDrive/PROJECT/cn_api_project/data/보험약관/db_personal_car_terms.txt',\n",
       " '/content/drive/MyDrive/PROJECT/cn_api_project/data/보험약관/db_cat_terms.txt',\n",
       " '/content/drive/MyDrive/PROJECT/cn_api_project/data/보험약관/db_injury_terms.txt',\n",
       " '/content/drive/MyDrive/PROJECT/cn_api_project/data/보험약관/db_health_terms.txt',\n",
       " '/content/drive/MyDrive/PROJECT/cn_api_project/data/보험약관/db_teeth_terms.txt',\n",
       " '/content/drive/MyDrive/PROJECT/cn_api_project/data/보험약관/Readycar개인용자동차보험약관.txt',\n",
       " '/content/drive/MyDrive/PROJECT/cn_api_project/data/보험약관/무배당 메리츠 실손의료비보험2504약관.txt',\n",
       " '/content/drive/MyDrive/PROJECT/cn_api_project/data/보험약관/무배당 내Mom같은 어린이보험2504약관.txt',\n",
       " '/content/drive/MyDrive/PROJECT/cn_api_project/data/보험약관/무배당 메리츠 통합간편건강보험2504(일반심사형)약관.txt',\n",
       " '/content/drive/MyDrive/PROJECT/cn_api_project/data/보험약관/메리츠 반려동물보험약관.txt',\n",
       " '/content/drive/MyDrive/PROJECT/cn_api_project/data/보험약관/메리츠 마음든든 반려동물보험약관.txt',\n",
       " '/content/drive/MyDrive/PROJECT/cn_api_project/data/보험약관/samsung_direct_cat_terms.txt',\n",
       " '/content/drive/MyDrive/PROJECT/cn_api_project/data/보험약관/meritz_direct_cat_terms.txt',\n",
       " '/content/drive/MyDrive/PROJECT/cn_api_project/data/보험약관/hyundai_cat_direct_terms.txt',\n",
       " '/content/drive/MyDrive/PROJECT/cn_api_project/data/보험약관/KB_cat_direct_terms.txt',\n",
       " '/content/drive/MyDrive/PROJECT/cn_api_project/data/보험약관/summary/full_summary.txt',\n",
       " '/content/drive/MyDrive/PROJECT/cn_api_project/data/보험약관/summary/db_cat_terms_summary.txt',\n",
       " '/content/drive/MyDrive/PROJECT/cn_api_project/data/보험약관/summary/samsung_cat_anipet_terms_summary.txt',\n",
       " '/content/drive/MyDrive/PROJECT/cn_api_project/data/보험약관/summary/hanhwa_pet_terms_summary.txt',\n",
       " '/content/drive/MyDrive/PROJECT/cn_api_project/data/보험약관/summary/무배당 삼성화재 다이렉트보험약관_summary.txt',\n",
       " '/content/drive/MyDrive/PROJECT/cn_api_project/data/보험약관/summary/삼성화재_반려묘보험_애니펫_summary.txt',\n",
       " '/content/drive/MyDrive/PROJECT/cn_api_project/data/보험약관/summary/삼성화재_반려묘보험_의기냥냥_summary.txt',\n",
       " '/content/drive/MyDrive/PROJECT/cn_api_project/data/보험약관/summary/한화_스마일펫보험_summary.txt',\n",
       " '/content/drive/MyDrive/PROJECT/cn_api_project/data/보험약관/summary/samsung_anicar_terms_summary.txt',\n",
       " '/content/drive/MyDrive/PROJECT/cn_api_project/data/보험약관/summary/samsung_anicar_direct_terms_summary.txt',\n",
       " '/content/drive/MyDrive/PROJECT/cn_api_project/data/보험약관/summary/meritz_cat_1_terms_summary.txt',\n",
       " '/content/drive/MyDrive/PROJECT/cn_api_project/data/보험약관/summary/meritz_cat_2_terms_summary.txt',\n",
       " '/content/drive/MyDrive/PROJECT/cn_api_project/data/law/보험계약법_상법제4편.txt',\n",
       " '/content/drive/MyDrive/PROJECT/cn_api_project/data/law/보험계약법_상법제4편.txt',\n",
       " '/content/drive/MyDrive/PROJECT/cn_api_project/data/law/약관의 규제에 관한 법률(법률)(제20239호)(20240807).txt',\n",
       " '/content/drive/MyDrive/PROJECT/cn_api_project/data/law/약관의 규제에 관한 법률(법률)(제20239호)(20240807).txt',\n",
       " '/content/drive/MyDrive/PROJECT/cn_api_project/data/dispute/판례1.txt',\n",
       " '/content/drive/MyDrive/PROJECT/cn_api_project/data/dispute/판례2.txt',\n",
       " '/content/drive/MyDrive/PROJECT/cn_api_project/data/dispute/판례3.txt',\n",
       " '/content/drive/MyDrive/PROJECT/cn_api_project/data/dispute/판례4.txt',\n",
       " '/content/drive/MyDrive/PROJECT/cn_api_project/data/dispute/판례5.txt',\n",
       " '/content/drive/MyDrive/PROJECT/cn_api_project/data/dispute/판례6.txt',\n",
       " '/content/drive/MyDrive/PROJECT/cn_api_project/data/dispute/판례7.txt',\n",
       " '/content/drive/MyDrive/PROJECT/cn_api_project/data/dispute/판례8.txt',\n",
       " '/content/drive/MyDrive/PROJECT/cn_api_project/data/dispute/판례9.txt',\n",
       " '/content/drive/MyDrive/PROJECT/cn_api_project/data/dispute/판례10.txt',\n",
       " '/content/drive/MyDrive/PROJECT/cn_api_project/data/dispute/판례11.txt',\n",
       " '/content/drive/MyDrive/PROJECT/cn_api_project/data/dispute/판례12.txt',\n",
       " '/content/drive/MyDrive/PROJECT/cn_api_project/data/dispute/24년_3분기_민원_분쟁_사례_기준.txt',\n",
       " '/content/drive/MyDrive/PROJECT/cn_api_project/data/dispute/암보험_주요_분쟁_사례.txt',\n",
       " '/content/drive/MyDrive/PROJECT/cn_api_project/data/dispute/24년_3분기_민원_분쟁_사례_기준.txt',\n",
       " '/content/drive/MyDrive/PROJECT/cn_api_project/data/dispute/암보험_주요_분쟁_사례.txt',\n",
       " '/content/drive/MyDrive/PROJECT/cn_api_project/data/dispute/kca/kca_financial_insurance_cases_details.txt',\n",
       " '/content/drive/MyDrive/PROJECT/cn_api_project/data/dispute/kca/kca_financial_insurance_cases.txt',\n",
       " '/content/drive/MyDrive/PROJECT/cn_api_project/data/papers/실손의료보험 현황과 개선방안 연구.txt',\n",
       " '/content/drive/MyDrive/PROJECT/cn_api_project/data/papers/실손보험을 둘러싼 소비자의 궁금증 3가지.txt',\n",
       " '/content/drive/MyDrive/PROJECT/cn_api_project/data/papers/보험약관의 객관적·획일적 해석과 그 적용.txt',\n",
       " '/content/drive/MyDrive/PROJECT/cn_api_project/data/papers/실손보험, 제대로 알고 활용하기.txt',\n",
       " '/content/drive/MyDrive/PROJECT/cn_api_project/data/papers/[논란의 5세대 실손보험] 부담금 대폭 올려…정부 1세대도 갈아타라.txt',\n",
       " '/content/drive/MyDrive/PROJECT/cn_api_project/data/papers/‘알쏭달쏭’ 5세대 실손보험 완전정복.txt',\n",
       " '/content/drive/MyDrive/PROJECT/cn_api_project/data/papers/[2025 베스트 보험 상품] 2025년 놓치지 말아야 할 베스트 보험 상품.txt',\n",
       " '/content/drive/MyDrive/PROJECT/cn_api_project/data/papers/[보험테크] 여보! ‘100세’ 보장 어린이보험 가입할까.txt',\n",
       " '/content/drive/MyDrive/PROJECT/cn_api_project/data/papers/[보험테크] 고양이도 20년 질병 보장 이색 펫보험 챙겨보세요.txt',\n",
       " '/content/drive/MyDrive/PROJECT/cn_api_project/data/papers/[보험테크] 펫보험 눈부신 ‘진화’ 장례비·해외여행 위탁 돌봄 추가 지원.txt',\n",
       " '/content/drive/MyDrive/PROJECT/cn_api_project/data/papers/[보험테크] 펫보험 전성시대 개물림·유병력 보장에 장례비까지.txt',\n",
       " '/content/drive/MyDrive/PROJECT/cn_api_project/data/papers/[KCA 소통 Report 15-8호] 보험서비스 - 자동차보험을 제외한 나머지 보험서비스.txt',\n",
       " '/content/drive/MyDrive/PROJECT/cn_api_project/data/papers/[보험] 오래 묵혀 둔 보험 재설계해도, 2009년 이전 가입한 암 보험은 유지해야.txt',\n",
       " '/content/drive/MyDrive/PROJECT/cn_api_project/data/papers/[FINANCE] 새로워진 ‘자동차보험 비교·추천 서비스’  내 차보험 ‘선택 장애’ 시원.txt',\n",
       " '/content/drive/MyDrive/PROJECT/cn_api_project/data/papers/[베인의 위닝 전략] 글로벌 보험산업 5대 메가 트렌드, 위기 속 생존전략.txt',\n",
       " '/content/drive/MyDrive/PROJECT/cn_api_project/data/papers/보험 I 우리나라 의료보험제도와 DRG의 이해.txt',\n",
       " '/content/drive/MyDrive/PROJECT/cn_api_project/data/papers/실손의료보험 현황과 개선방안 연구.txt',\n",
       " '/content/drive/MyDrive/PROJECT/cn_api_project/data/papers/실손보험을 둘러싼 소비자의 궁금증 3가지.txt',\n",
       " '/content/drive/MyDrive/PROJECT/cn_api_project/data/papers/보험약관의 객관적·획일적 해석과 그 적용.txt',\n",
       " '/content/drive/MyDrive/PROJECT/cn_api_project/data/papers/실손보험, 제대로 알고 활용하기.txt',\n",
       " '/content/drive/MyDrive/PROJECT/cn_api_project/data/papers/[논란의 5세대 실손보험] 부담금 대폭 올려…정부 1세대도 갈아타라.txt',\n",
       " '/content/drive/MyDrive/PROJECT/cn_api_project/data/papers/‘알쏭달쏭’ 5세대 실손보험 완전정복.txt',\n",
       " '/content/drive/MyDrive/PROJECT/cn_api_project/data/papers/[2025 베스트 보험 상품] 2025년 놓치지 말아야 할 베스트 보험 상품.txt',\n",
       " '/content/drive/MyDrive/PROJECT/cn_api_project/data/papers/[보험테크] 여보! ‘100세’ 보장 어린이보험 가입할까.txt',\n",
       " '/content/drive/MyDrive/PROJECT/cn_api_project/data/papers/[보험테크] 고양이도 20년 질병 보장 이색 펫보험 챙겨보세요.txt',\n",
       " '/content/drive/MyDrive/PROJECT/cn_api_project/data/papers/[보험테크] 펫보험 눈부신 ‘진화’ 장례비·해외여행 위탁 돌봄 추가 지원.txt',\n",
       " '/content/drive/MyDrive/PROJECT/cn_api_project/data/papers/[보험테크] 펫보험 전성시대 개물림·유병력 보장에 장례비까지.txt',\n",
       " '/content/drive/MyDrive/PROJECT/cn_api_project/data/papers/[KCA 소통 Report 15-8호] 보험서비스 - 자동차보험을 제외한 나머지 보험서비스.txt',\n",
       " '/content/drive/MyDrive/PROJECT/cn_api_project/data/papers/[보험] 오래 묵혀 둔 보험 재설계해도, 2009년 이전 가입한 암 보험은 유지해야.txt',\n",
       " '/content/drive/MyDrive/PROJECT/cn_api_project/data/papers/[FINANCE] 새로워진 ‘자동차보험 비교·추천 서비스’  내 차보험 ‘선택 장애’ 시원.txt',\n",
       " '/content/drive/MyDrive/PROJECT/cn_api_project/data/papers/[베인의 위닝 전략] 글로벌 보험산업 5대 메가 트렌드, 위기 속 생존전략.txt',\n",
       " '/content/drive/MyDrive/PROJECT/cn_api_project/data/papers/보험 I 우리나라 의료보험제도와 DRG의 이해.txt']"
      ]
     },
     "metadata": {},
     "execution_count": 10
    }
   ],
   "source": [
    "process_drive_folder_for_rag(base_drive_folder_path)"
   ]
  },
  {
   "cell_type": "markdown",
   "metadata": {
    "id": "pSvjK8BOIx-7"
   },
   "source": [
    "### 추출한 텍스트 읽고 정리"
   ]
  },
  {
   "cell_type": "markdown",
   "metadata": {
    "id": "e2N7ZOs4HPWk"
   },
   "source": [
    "### summary template"
   ]
  },
  {
   "cell_type": "markdown",
   "metadata": {
    "id": "MAEYael0CsQ1"
   },
   "source": [
    "#### summarization template"
   ]
  },
  {
   "cell_type": "code",
   "execution_count": 7,
   "metadata": {
    "id": "KeXniATwIkUM",
    "executionInfo": {
     "status": "ok",
     "timestamp": 1748813960537,
     "user_tz": -540,
     "elapsed": 99,
     "user": {
      "displayName": "Junhee Choi",
      "userId": "01054653513821718568"
     }
    }
   },
   "outputs": [],
   "source": [
    "summarization_template = '''\n",
    "## Role: 소비자 권익 보호 보험 전문가\n",
    "\n",
    "## Task:\n",
    "아래 삼성화재 실손의료보험 약관 텍스트를 읽고, 다음 지침에 따라 소비자가 이해하기 쉬운 언어로 핵심 내용을 요약하고 구조화해 주세요. 목표는 일반인이 약관의 주요 내용을 빠르고 정확하게 이해하도록 돕는 것입니다.\n",
    "\n",
    "## 지침:\n",
    "1.  **약관 구조 파악:** 제공된 약관 텍스트의 전체적인 구조(관, 조항, 항, 호 등)를 꼼꼼히 파악합니다. 특히 '제1관', '제2조', '(1)', '①', '1.' 과 같은 구조 표시를 중심으로 파악해 주세요.\n",
    "2.  **목차 및 내용 요약:** 파악한 구조를 바탕으로 주요 '관', '조항', 그리고 중요한 하위 내용(항, 호, 표 등)을 구분하여 목차를 만들고 각 목차별 핵심 내용을 소비자가 이해하기 쉬운 일상적인 언어로 요약합니다.\n",
    "3.  **쉽게 바꾸는 과정 설명 (CoT):** 약관 원문이 복잡하거나 전문 용어가 많아서 소비자가 이해하기 어렵다고 판단되는 **핵심적인 내용**에 대해서는, **어떻게 복잡한 원문 표현을 이해하고 어떤 과정을 거쳐 쉬운 언어로 단순화했는지 그 사고 과정을 간략히 설명**해 주세요. 이 설명은 해당 요약 바로 뒤에 `[단순화 과정]: 원문 \"...\"을 -> 이렇게 이해하고 -> 이렇게 쉬운 표현으로 바꿈` 형태로 포함해 주세요. 모든 요약에 포함할 필요는 없으며, 특히 중요하거나 복잡한 부분에만 적용합니다.\n",
    "4.  **출력 구조화:** 목차와 요약 내용을 Markdown 형식으로 구조화하여 제시합니다.\n",
    "    *   최상위 제목은 약관 이름으로 (예: `# 삼성화재 기본형 실손의료보험 약관 요약`)\n",
    "    *   그 아래는 '관' 제목 (예: `## 제1관 일반사항 및 용어의 정의`)\n",
    "    *   그 아래는 '조항' 제목 (예: `### 제3조 (보장종목별 보상내용)`)\n",
    "    *   각 조항의 하위 내용(항, 호, 표)은 Markdown 리스트(`- `)나 하위 제목(`####`)으로 표현합니다.\n",
    "    *   필요하다면 중요한 용어는 별도 섹션으로 정리해 주세요.\n",
    "5.  **출력 내용:** 약관의 모든 내용을 상세히 요약하기보다, 소비자가 보험금을 청구하거나 약관을 이해하는 데 꼭 필요한 **핵심적인 내용(보상 내용, 보상하지 않는 내용, 보험금 계산 방법, 중요 조건 등)** 위주로 정리해 주세요.\n",
    "\n",
    "## 출력 형식:\n",
    "Markdown\n",
    "\n",
    "## 분석 대상 약관 텍스트:\n",
    "{clause_text}\n",
    "\n",
    "## 출력 시작:\n",
    "'''"
   ]
  },
  {
   "cell_type": "markdown",
   "metadata": {
    "id": "nH58K6vJD7II"
   },
   "source": [
    "#### modified summarization template\n",
    "\n",
    "-> refer to the following summary content\n",
    "\n"
   ]
  },
  {
   "cell_type": "code",
   "execution_count": 8,
   "metadata": {
    "id": "1KoiDJwrEci_",
    "executionInfo": {
     "status": "ok",
     "timestamp": 1748838953222,
     "user_tz": -540,
     "elapsed": 57,
     "user": {
      "displayName": "Junhee Choi",
      "userId": "01054653513821718568"
     }
    }
   },
   "outputs": [],
   "source": [
    "summarization_template_with_context = '''\n",
    "## 역할: 일반 소비자를 위한 보험 약관 통역사 (연속 작업 모드)\n",
    "\n",
    "## 임무:\n",
    "아래 **현재 분석 대상인 약관 텍스트 부분**을 읽고, **[이전 약관 내용 요약] 부분을 참고**하여 전체 약관 구조의 흐름을 놓치지 않으면서, 보험에 대해 잘 모르는 사람도 쉽고 명확하게 이해할 수 있도록 요약하고 구조화해 주세요. 이전 요약과 자연스럽게 이어지도록 Markdown 구조 레벨을 조정하고, 이미 설명된 내용은 반복하지 않거나 간략히 언급해 주세요.\n",
    "\n",
    "[이전 약관 내용 요약]:\n",
    "{previous_summary}\n",
    "\n",
    "## 지침:\n",
    "1.  **구조 파악:** 제공된 **현재 텍스트**의 주요 목차와 하위 구조를 정확히 인식합니다. **이전 요약**과 어떻게 이어지는지 고려하며 전체 약관 구조 내에서 현재 부분이 어디에 해당하는지 파악합니다.\n",
    "    *   제공된 약관 텍스트의 전체적인 구조(관, 조항, 항, 호 등)를 꼼꼼히 파악합니다. 특히 '제1관', '제2조', '(1)', '①', '1.' 과 같은 구조 표시를 중심으로 파악해 주세요.\n",
    "    *   파악한 구조를 바탕으로 주요 '관', '조항', 그리고 중요한 하위 내용(항, 호, 표 등)을 구분하여 목차를 만들고 각 목차별 핵심 내용을 소비자가 이해하기 쉬운 일상적인 언어로 요약합니다.\n",
    "2.  **핵심 내용 추출 및 단순화:** **현재 텍스트 부분**에서 가장 중요한 정보(무엇을 보상하는지, 어떻게 계산하는지, 어떤 조건이 있는지 등)를 찾아냅니다. 약관의 어려운 전문 용어나 복잡한 표현을 볼 때마다, '이걸 초등학생도 이해하게 설명하려면?' 같은 마음으로 최대한 쉬운 일상 언어로 바꿔서 요약합니다.\n",
    "3.  **용어 쉽게 설명:** 현재 텍스트에 나오는 소비자가 헷갈릴 만한 중요한 용어나 조건은 요약 내용 안에 자연스럽게 포함하여 쉽게 풀어서 설명해 줍니다. **단, 이전 요약에서 이미 자세히 설명된 용어라면 현재 요약에서는 간단히 언급만 하거나 생략해도 좋습니다.**\n",
    "4.  **간결하고 명확하게:** 문장은 짧고 간결하게 작성합니다. 모호하거나 이중적인 표현은 피합니다.\n",
    "5.  **쉽게 바꾸는 과정 설명 (CoT):** 약관 원문이 복잡하거나 전문 용어가 많아서 소비자가 이해하기 어렵다고 판단되는 **핵심적인 내용**에 대해서는, **어떻게 복잡한 원문 표현을 이해하고 어떤 과정을 거쳐 쉬운 언어로 단순화했는지 그 사고 과정을 간략히 설명**해 주세요. 이 설명은 해당 요약 바로 뒤에 `[단순화 과정]: 원문 \"...\"을 -> 이렇게 이해하고 -> 이렇게 쉬운 표현으로 바꿈` 형태로 포함해 주세요. 모든 요약에 포함할 필요는 없으며, 특히 중요하거나 복잡한 부분에만 적용합니다.\n",
    "6.  **출력 구조화:** 목차와 요약 내용을 Markdown 형식으로 구조화하여 제시합니다. **이전 요약과 자연스럽게 이어지도록 적절한 Markdown 제목 레벨을 사용하세요.** (예: 이전 요약이 ##으로 끝났다면 현재 요약은 ###으로 시작하거나, 이전과 같은 레벨의 다음 목차라면 ##으로 시작)\n",
    "    *   최상위 제목은 약관 이름으로 (예: `# 삼성화재 기본형 실손의료보험 약관 요약`)\n",
    "    *   그 아래는 '관' 제목 (예: `## 제1관 일반사항 및 용어의 정의`)\n",
    "    *   그 아래는 '조항' 제목 (예: `### 제3조 (보장종목별 보상내용)`)\n",
    "    *   각 조항의 하위 내용(항, 호, 표)은 Markdown 리스트(`- `)나 하위 제목(`####`)으로 표현합니다.\n",
    "    *   필요하다면 중요한 용어는 별도 섹션으로 정리해 주세요.\n",
    "7.  **출력 내용:** 제공된 **현재 약관 텍스트** 내에 포함된 모든 주요 목차와 핵심 내용을 놓치지 않고 다룹니다. 약관의 모든 내용을 상세히 요약하기보다, 소비자가 보험금을 청구하거나 약관을 이해하는 데 꼭 필요한 **핵심적인 내용(보상 내용, 보상하지 않는 내용, 보험금 계산 방법, 중요 조건 등)** 위주로 정리해 주세요.\n",
    "\n",
    "\n",
    "## 출력 형식:\n",
    "Markdown (현재 부분 요약 내용만)\n",
    "\n",
    "## 분석 대상 현재 약관 텍스트:\n",
    "{current_clause_text}\n",
    "\n",
    "## 출력 시작:\n",
    "'''"
   ]
  },
  {
   "cell_type": "markdown",
   "metadata": {
    "id": "Rwi5thT0LAXs"
   },
   "source": [
    "## 요약 코드 실행\n",
    "* 실행1: 3000자씩 나누어 직접 셀 10개씩 따로 요약, 이전 요약 결과를 참고하여 요약하게 함\n",
    "* 실행 2: 이전 청크 요약 참고하되 요약 반복 자동화\n",
    "* self-consistency 적용 코드\n",
    "* 분석 text가 너무 길어서 나누어 요약하며 구조화"
   ]
  },
  {
   "cell_type": "markdown",
   "metadata": {
    "id": "kLTEe7JEHhNQ"
   },
   "source": [
    "### **get_most_consistent_summary**"
   ]
  },
  {
   "cell_type": "code",
   "execution_count": 9,
   "metadata": {
    "id": "wRm29wyIII2e",
    "executionInfo": {
     "status": "ok",
     "timestamp": 1748838956149,
     "user_tz": -540,
     "elapsed": 52,
     "user": {
      "displayName": "Junhee Choi",
      "userId": "01054653513821718568"
     }
    }
   },
   "outputs": [],
   "source": [
    "# summarization_template_with_context사용\n",
    "# previous_summary인자 추가 및 modifying code\n",
    "\"\"\"\n",
    "약관 텍스트 청크에 대해 CoT 기반 쉬운 요약 프롬프트를 여러 번 실행하고\n",
    "이전 요약 내용을 참고하여 가장 일관적인 요약 결과를 선택.\n",
    "\"\"\"\n",
    "\n",
    "def get_most_consistent_summary(clause_text, previous_summary=\"\", iterations=7, model=\"gpt-4o-2024-05-13\", temperature=0.7):\n",
    "    summary_counts = defaultdict(int)\n",
    "    full_summaries = {}\n",
    "\n",
    "    # print(f\"\\n===== 청크 요약 Self-consistency 분석 시작 ({iterations}회 반복) =====\") # 이 메시지는 외부 루프에서 출력\n",
    "\n",
    "    target_clause_text = clause_text\n",
    "\n",
    "    for i in range(iterations):\n",
    "        # print(f\"----- [{i+1}/{iterations} 번째 요약 시도 중] -----\") # 반복 시도 메시지 (디버깅용)\n",
    "\n",
    "        # 수정된 템플릿 사용 및 인자 전달\n",
    "        message = summarization_template_with_context.format(\n",
    "            current_clause_text=target_clause_text,\n",
    "            previous_summary=previous_summary if previous_summary else \"없음 (이전 내용 없음)\" # 첫 청크는 빈 문자열 전달\n",
    "            )\n",
    "\n",
    "        try:\n",
    "            response = client.chat.completions.create(\n",
    "                model=model,\n",
    "                messages=[{\"role\": \"user\", \"content\": message}],\n",
    "                temperature=temperature,\n",
    "                response_format={\"type\": \"text\"}\n",
    "            ).model_dump()\n",
    "\n",
    "            summary_content = response['choices'][0]['message']['content']\n",
    "\n",
    "            # Markdown 코드 블록 안의 내용만 추출 시도\n",
    "            match = re.search(r\"```markdown\\n(.*)```\", summary_content, re.DOTALL)\n",
    "            if match:\n",
    "                clean_summary_content = match.group(1).strip()\n",
    "            else:\n",
    "                clean_summary_content = summary_content.strip() # 없으면 전체 사용\n",
    "\n",
    "            # 결과가 너무 짧거나 이상하면 건너뛸 수도 있음\n",
    "            if len(clean_summary_content) < 50 and iterations > 1: # 최소 글자 수 기준 (조절 필요, 반복 1회 시는 검사 X)\n",
    "                # print(\"생성된 요약이 너무 짧거나 이상하여 스킵합니다.\") # 디버깅용\n",
    "                continue # 이번 결과는 무시하고 다음 반복으로\n",
    "\n",
    "            # print(f\"--- 생성된 요약 (일부) ---\\n{clean_summary_content[:200].replace('\\n', ' ')}...\\n--------------------\") # 디버깅용\n",
    "\n",
    "\n",
    "            # 생성된 Markdown 텍스트 전체를 키로 사용하여 빈도 계산\n",
    "            summary_counts[clean_summary_content] += 1\n",
    "            # 첫 번째 나온 상세 결과 저장\n",
    "            if clean_summary_content not in full_summaries:\n",
    "                full_summaries[clean_summary_content] = clean_summary_content\n",
    "\n",
    "        except Exception as e:\n",
    "            print(f\"API 호출 중 오류 발생: {e}\")\n",
    "            # 오류 발생 시 오류 메시지를 결과로 기록\n",
    "            error_key = f\"[API 오류: {e}]\"\n",
    "            summary_counts[error_key] += 1\n",
    "            if error_key not in full_summaries:\n",
    "                full_summaries[error_key] = error_key\n",
    "\n",
    "    # --- Self-consistency 결과 처리 ---\n",
    "    if not summary_counts:\n",
    "        print(\"요약 결과가 없습니다.\")\n",
    "        return \"요약 실패: 결과 없음\", {} # 빈 문자열과 빈 딕셔너리 반환\n",
    "\n",
    "    # 빈도 기준으로 정렬\n",
    "    sorted_results = sorted(summary_counts.items(), key=lambda x: x[1], reverse=True)\n",
    "    # for key, count in sorted_results: # 빈도표 출력은 메인 루프에서\n",
    "    #      display_key = key[:100].replace('\\n', ' ') + '...' if len(key) > 100 else key\n",
    "    #      print(f\"'{display_key}': {count}회\")\n",
    "\n",
    "    # 가장 빈도가 높은 요약 텍스트 선택\n",
    "    most_frequent_summary_text = sorted_results[0][0]\n",
    "\n",
    "    # print(f\"\\n--- 최적 요약 선정 (빈도 {sorted_results[0][1]}회) ---\") # 최적 요약 선정 메시지 (디버깅용)\n",
    "    # print(most_frequent_summary_text[:200].replace('\\n', ' ') + '...') # 최적 요약 일부 출력 (디버깅용)\n",
    "\n",
    "    return most_frequent_summary_text, full_summaries.get(most_frequent_summary_text, \"상세 결과 없음\")\n"
   ]
  },
  {
   "cell_type": "markdown",
   "metadata": {
    "id": "daoVVQ2UG2jG"
   },
   "source": [
    "#### 3000자씩, text가 끝날 때까지 요약 반복"
   ]
  },
  {
   "cell_type": "code",
   "execution_count": 13,
   "metadata": {
    "id": "PPB_555PY-V2",
    "colab": {
     "base_uri": "https://localhost:8080/",
     "height": 219
    },
    "executionInfo": {
     "status": "error",
     "timestamp": 1748829902669,
     "user_tz": -540,
     "elapsed": 602,
     "user": {
      "displayName": "Junhee Choi",
      "userId": "01054653513821718568"
     }
    },
    "outputId": "f74ce6b2-6219-433d-cd4f-9096ab16e24d"
   },
   "outputs": [
    {
     "output_type": "error",
     "ename": "NameError",
     "evalue": "name 'extracted_text' is not defined",
     "traceback": [
      "\u001B[0;31m---------------------------------------------------------------------------\u001B[0m",
      "\u001B[0;31mNameError\u001B[0m                                 Traceback (most recent call last)",
      "\u001B[0;32m<ipython-input-13-992494079d0e>\u001B[0m in \u001B[0;36m<cell line: 0>\u001B[0;34m()\u001B[0m\n\u001B[1;32m      2\u001B[0m \u001B[0mall_chunk_summaries\u001B[0m \u001B[0;34m=\u001B[0m \u001B[0;34m[\u001B[0m\u001B[0;34m]\u001B[0m \u001B[0;31m# 각 3000자 청크별 요약 결과를 저장할 리스트\u001B[0m\u001B[0;34m\u001B[0m\u001B[0;34m\u001B[0m\u001B[0m\n\u001B[1;32m      3\u001B[0m \u001B[0mstart_index\u001B[0m \u001B[0;34m=\u001B[0m \u001B[0;36m0\u001B[0m \u001B[0;31m# 텍스트를 자르기 시작할 위치\u001B[0m\u001B[0;34m\u001B[0m\u001B[0;34m\u001B[0m\u001B[0m\n\u001B[0;32m----> 4\u001B[0;31m \u001B[0mtotal_text_length\u001B[0m \u001B[0;34m=\u001B[0m \u001B[0mlen\u001B[0m\u001B[0;34m(\u001B[0m\u001B[0mextracted_text\u001B[0m\u001B[0;34m)\u001B[0m \u001B[0;32mif\u001B[0m \u001B[0mextracted_text\u001B[0m \u001B[0;32melse\u001B[0m \u001B[0;36m0\u001B[0m \u001B[0;31m# 전체 텍스트 길이 확인 (None 또는 빈 문자열 방지)\u001B[0m\u001B[0;34m\u001B[0m\u001B[0;34m\u001B[0m\u001B[0m\n\u001B[0m\u001B[1;32m      5\u001B[0m \u001B[0mchunk_count\u001B[0m \u001B[0;34m=\u001B[0m \u001B[0;36m0\u001B[0m \u001B[0;31m# 몇 번째 청크인지 기록\u001B[0m\u001B[0;34m\u001B[0m\u001B[0;34m\u001B[0m\u001B[0m\n",
      "\u001B[0;31mNameError\u001B[0m: name 'extracted_text' is not defined"
     ]
    }
   ],
   "source": [
    "# --- 텍스트 분할 및 요약 실행 ---\n",
    "all_chunk_summaries = [] # 각 3000자 청크별 요약 결과를 저장할 리스트\n",
    "start_index = 0 # 텍스트를 자르기 시작할 위치\n",
    "total_text_length = len(extracted_text) if extracted_text else 0 # 전체 텍스트 길이 확인 (None 또는 빈 문자열 방지)\n",
    "chunk_count = 0 # 몇 번째 청크인지 기록"
   ]
  },
  {
   "cell_type": "markdown",
   "metadata": {
    "id": "ILnjm4tyyZKp"
   },
   "source": [
    "### 실행1\n",
    "> 3000자씩 나누어 반복 요약, 이전 요약 결과 참고하며 요약 반복 -> 셀 10개"
   ]
  },
  {
   "cell_type": "markdown",
   "metadata": {
    "id": "WcupfIzLNG7a"
   },
   "source": [
    "#### split the text and set code block"
   ]
  },
  {
   "cell_type": "code",
   "execution_count": 10,
   "metadata": {
    "id": "-PFwmZ-vII4-",
    "executionInfo": {
     "status": "ok",
     "timestamp": 1748838966485,
     "user_tz": -540,
     "elapsed": 90,
     "user": {
      "displayName": "Junhee Choi",
      "userId": "01054653513821718568"
     }
    }
   },
   "outputs": [],
   "source": [
    "# --- 설정 ---\n",
    "chunk_size = 2000 # 한 번에 요약할 텍스트의 문자 수\n",
    "summary_iterations = 5 # 각 청크별 Self-consistency 반복 횟수\n",
    "gpt_model = \"gpt-4o-2024-05-13\" # 요약에 사용할 GPT 모델\n",
    "gpt_temperature = 0.7 # 요약 내용 다양성을 위한 온도 설정"
   ]
  },
  {
   "cell_type": "code",
   "execution_count": 8,
   "metadata": {
    "colab": {
     "base_uri": "https://localhost:8080/",
     "height": 237
    },
    "executionInfo": {
     "elapsed": 199,
     "status": "error",
     "timestamp": 1748769943417,
     "user": {
      "displayName": "Junhee Choi",
      "userId": "01054653513821718568"
     },
     "user_tz": -540
    },
    "id": "0LHlwLIyNO4X",
    "outputId": "b7298992-230b-4828-ad77-780504268a33"
   },
   "outputs": [
    {
     "output_type": "error",
     "ename": "NameError",
     "evalue": "name 'extracted_text' is not defined",
     "traceback": [
      "\u001B[0;31m---------------------------------------------------------------------------\u001B[0m",
      "\u001B[0;31mNameError\u001B[0m                                 Traceback (most recent call last)",
      "\u001B[0;32m<ipython-input-8-f85941944026>\u001B[0m in \u001B[0;36m<cell line: 0>\u001B[0;34m()\u001B[0m\n\u001B[1;32m      1\u001B[0m \u001B[0mnum_chunks\u001B[0m \u001B[0;34m=\u001B[0m \u001B[0;36m10\u001B[0m \u001B[0;31m# 나눌 청크 개수\u001B[0m\u001B[0;34m\u001B[0m\u001B[0;34m\u001B[0m\u001B[0m\n\u001B[0;32m----> 2\u001B[0;31m \u001B[0mtotal_text_length\u001B[0m \u001B[0;34m=\u001B[0m \u001B[0mlen\u001B[0m\u001B[0;34m(\u001B[0m\u001B[0mextracted_text\u001B[0m\u001B[0;34m)\u001B[0m \u001B[0;32mif\u001B[0m \u001B[0mextracted_text\u001B[0m \u001B[0;32melse\u001B[0m \u001B[0;36m0\u001B[0m\u001B[0;34m\u001B[0m\u001B[0;34m\u001B[0m\u001B[0m\n\u001B[0m\u001B[1;32m      3\u001B[0m \u001B[0;34m\u001B[0m\u001B[0m\n\u001B[1;32m      4\u001B[0m \u001B[0;32mif\u001B[0m \u001B[0mtotal_text_length\u001B[0m \u001B[0;34m==\u001B[0m \u001B[0;36m0\u001B[0m\u001B[0;34m:\u001B[0m\u001B[0;34m\u001B[0m\u001B[0;34m\u001B[0m\u001B[0m\n\u001B[1;32m      5\u001B[0m     \u001B[0mprint\u001B[0m\u001B[0;34m(\u001B[0m\u001B[0;34m\"오류: extracted_text 변수가 비어있습니다. 약관 전체 텍스트를 넣어주세요.\"\u001B[0m\u001B[0;34m)\u001B[0m\u001B[0;34m\u001B[0m\u001B[0;34m\u001B[0m\u001B[0m\n",
      "\u001B[0;31mNameError\u001B[0m: name 'extracted_text' is not defined"
     ]
    }
   ],
   "source": [
    "num_chunks = 10 # 나눌 청크 개수\n",
    "total_text_length = len(extracted_text) if extracted_text else 0\n",
    "\n",
    "if total_text_length == 0:\n",
    "    print(\"오류: extracted_text 변수가 비어있습니다. 약관 전체 텍스트를 넣어주세요.\")\n",
    "else:\n",
    "    print(f\"--- 전체 텍스트 길이: {total_text_length} 문자 ---\")\n",
    "# 각 청크의 대략적인 크기 계산\n",
    "base_chunk_size = total_text_length // num_chunks\n",
    "remainder = total_text_length % num_chunks"
   ]
  },
  {
   "cell_type": "code",
   "execution_count": 11,
   "metadata": {
    "colab": {
     "base_uri": "https://localhost:8080/",
     "height": 219
    },
    "executionInfo": {
     "elapsed": 186,
     "status": "error",
     "timestamp": 1748838980046,
     "user": {
      "displayName": "Junhee Choi",
      "userId": "01054653513821718568"
     },
     "user_tz": -540
    },
    "id": "IWMsiD4iII7O",
    "outputId": "85840cd0-ed69-434a-a935-ff126d65b895"
   },
   "outputs": [
    {
     "output_type": "error",
     "ename": "NameError",
     "evalue": "name 'num_chunks' is not defined",
     "traceback": [
      "\u001B[0;31m---------------------------------------------------------------------------\u001B[0m",
      "\u001B[0;31mNameError\u001B[0m                                 Traceback (most recent call last)",
      "\u001B[0;32m<ipython-input-11-8794f69e576f>\u001B[0m in \u001B[0;36m<cell line: 0>\u001B[0;34m()\u001B[0m\n\u001B[1;32m      2\u001B[0m \u001B[0mchunk_indices\u001B[0m \u001B[0;34m=\u001B[0m \u001B[0;34m[\u001B[0m\u001B[0;34m]\u001B[0m\u001B[0;34m\u001B[0m\u001B[0;34m\u001B[0m\u001B[0m\n\u001B[1;32m      3\u001B[0m \u001B[0mcurrent_start\u001B[0m \u001B[0;34m=\u001B[0m \u001B[0;36m0\u001B[0m\u001B[0;34m\u001B[0m\u001B[0;34m\u001B[0m\u001B[0m\n\u001B[0;32m----> 4\u001B[0;31m \u001B[0;32mfor\u001B[0m \u001B[0mi\u001B[0m \u001B[0;32min\u001B[0m \u001B[0mrange\u001B[0m\u001B[0;34m(\u001B[0m\u001B[0mnum_chunks\u001B[0m\u001B[0;34m)\u001B[0m\u001B[0;34m:\u001B[0m\u001B[0;34m\u001B[0m\u001B[0;34m\u001B[0m\u001B[0m\n\u001B[0m\u001B[1;32m      5\u001B[0m     \u001B[0mcurrent_end\u001B[0m \u001B[0;34m=\u001B[0m \u001B[0mcurrent_start\u001B[0m \u001B[0;34m+\u001B[0m \u001B[0mbase_chunk_size\u001B[0m\u001B[0;34m\u001B[0m\u001B[0;34m\u001B[0m\u001B[0m\n\u001B[1;32m      6\u001B[0m     \u001B[0;32mif\u001B[0m \u001B[0mi\u001B[0m \u001B[0;34m<\u001B[0m \u001B[0mremainder\u001B[0m\u001B[0;34m:\u001B[0m \u001B[0;31m# 나머지 글자는 앞쪽 청크에 1자씩 추가\u001B[0m\u001B[0;34m\u001B[0m\u001B[0;34m\u001B[0m\u001B[0m\n",
      "\u001B[0;31mNameError\u001B[0m: name 'num_chunks' is not defined"
     ]
    }
   ],
   "source": [
    "# 각 청크의 시작 및 끝 인덱스 계산\n",
    "chunk_indices = []\n",
    "current_start = 0\n",
    "for i in range(num_chunks):\n",
    "    current_end = current_start + base_chunk_size\n",
    "    if i < remainder: # 나머지 글자는 앞쪽 청크에 1자씩 추가\n",
    "        current_end += 1\n",
    "    chunk_indices.append((current_start, current_end))\n",
    "    current_start = current_end\n",
    "\n",
    "print(f\"--- 전체 텍스트 ({total_text_length} 자)를 {num_chunks} 개의 청크로 분할 ---\")\n",
    "# print(f\"각 청크 인덱스: {chunk_indices}\") # 디버깅용"
   ]
  },
  {
   "cell_type": "markdown",
   "metadata": {
    "id": "i5w76z6plmlX"
   },
   "source": [
    "#### 함수 실행\n",
    "> summary with 10 code chunks divided"
   ]
  },
  {
   "cell_type": "code",
   "execution_count": null,
   "metadata": {
    "colab": {
     "base_uri": "https://localhost:8080/",
     "height": 219
    },
    "executionInfo": {
     "elapsed": 10,
     "status": "error",
     "timestamp": 1748433828803,
     "user": {
      "displayName": "Junhee Choi",
      "userId": "01054653513821718568"
     },
     "user_tz": -540
    },
    "id": "A1X6vPy9II9x",
    "outputId": "c8de9033-ab21-418e-84db-ceb939aed7bf"
   },
   "outputs": [
    {
     "ename": "TypeError",
     "evalue": "'NoneType' object is not subscriptable",
     "output_type": "error",
     "traceback": [
      "\u001B[0;31m---------------------------------------------------------------------------\u001B[0m",
      "\u001B[0;31mTypeError\u001B[0m                                 Traceback (most recent call last)",
      "\u001B[0;32m<ipython-input-17-125c74401172>\u001B[0m in \u001B[0;36m<cell line: 0>\u001B[0;34m()\u001B[0m\n\u001B[1;32m      4\u001B[0m \u001B[0mstart_index\u001B[0m\u001B[0;34m,\u001B[0m \u001B[0mend_index\u001B[0m \u001B[0;34m=\u001B[0m \u001B[0mchunk_indices\u001B[0m\u001B[0;34m[\u001B[0m\u001B[0;36m0\u001B[0m\u001B[0;34m]\u001B[0m\u001B[0;34m\u001B[0m\u001B[0;34m\u001B[0m\u001B[0m\n\u001B[1;32m      5\u001B[0m \u001B[0;31m# 약관 텍스트 청크 추출\u001B[0m\u001B[0;34m\u001B[0m\u001B[0;34m\u001B[0m\u001B[0m\n\u001B[0;32m----> 6\u001B[0;31m \u001B[0mclause_chunk_1\u001B[0m \u001B[0;34m=\u001B[0m \u001B[0mextracted_text\u001B[0m\u001B[0;34m[\u001B[0m\u001B[0mstart_index\u001B[0m\u001B[0;34m:\u001B[0m\u001B[0mend_index\u001B[0m\u001B[0;34m]\u001B[0m\u001B[0;34m\u001B[0m\u001B[0;34m\u001B[0m\u001B[0m\n\u001B[0m\u001B[1;32m      7\u001B[0m \u001B[0;34m\u001B[0m\u001B[0m\n\u001B[1;32m      8\u001B[0m \u001B[0mprint\u001B[0m\u001B[0;34m(\u001B[0m\u001B[0;34mf\"\\n===== [청크 1/10] {start_index} 부터 {end_index} 까지 요약 시작 =====\"\u001B[0m\u001B[0;34m)\u001B[0m\u001B[0;34m\u001B[0m\u001B[0;34m\u001B[0m\u001B[0m\n",
      "\u001B[0;31mTypeError\u001B[0m: 'NoneType' object is not subscriptable"
     ]
    }
   ],
   "source": [
    "start = time.time()\n",
    "# summarization with chunk 1\n",
    "# get 1st chunk index\n",
    "start_index, end_index = chunk_indices[0]\n",
    "# 약관 텍스트 청크 추출\n",
    "clause_chunk_1 = extracted_text[start_index:end_index]\n",
    "\n",
    "print(f\"\\n===== [청크 1/10] {start_index} 부터 {end_index} 까지 요약 시작 =====\")\n",
    "# get_most_consistent_summary 함수를 사용하여 현재 청크 요약\n",
    "# 첫 번째 청크는 이전 요약이 없으므로 previous_summary는 빈 문자열('')\n",
    "summary_chunk_1, _ = get_most_consistent_summary(\n",
    "    clause_text=clause_chunk_1,\n",
    "    previous_summary=\"\", # 이전 요약 없음\n",
    "    iterations=summary_iterations, # 셀 1에서 설정한 반복 횟수 사용\n",
    "    model=gpt_model, # 셀 1에서 설정한 모델 사용\n",
    "    temperature=gpt_temperature # 셀 1에서 설정한 온도 사용\n",
    ")\n",
    "\n",
    "print(f\"\\n--- 청크 1/10 요약 완료. 결과가 summary_chunk_1 변수에 저장되었습니다. ---\")\n",
    "end = time.time()\n",
    "print(f\"--- {end - start} 초 걸림 ---\")"
   ]
  },
  {
   "cell_type": "code",
   "execution_count": null,
   "metadata": {
    "id": "wAXeAW3_QLlh"
   },
   "outputs": [],
   "source": [
    "start = time.time()\n",
    "# summary 2\n",
    "start_index, end_index = chunk_indices[1]\n",
    "\n",
    "# 약관 텍스트 청크 추출\n",
    "clause_chunk_2 = extracted_text[start_index:end_index]\n",
    "\n",
    "print(f\"\\n===== [청크 2/10] {start_index} 부터 {end_index} 까지 요약 시작 =====\")\n",
    "# get_most_consistent_summary 함수를 사용하여 현재 청크 요약\n",
    "# 이전 청크 요약 결과인 summary_chunk_1를 previous_summary로 전달\n",
    "summary_chunk_2, _ = get_most_consistent_summary(\n",
    "    clause_text=clause_chunk_2,\n",
    "    previous_summary=summary_chunk_1, # 이전 요약 결과 전달!\n",
    "    iterations=summary_iterations,\n",
    "    model=gpt_model,\n",
    "    temperature=gpt_temperature\n",
    ")\n",
    "\n",
    "print(f\"\\n--- 청크 2/10 요약 완료. 결과가 summary_chunk_2 변수에 저장되었습니다. ---\")\n",
    "end = time.time()\n",
    "print(f\"--- {end - start} 초 걸림 ---\")"
   ]
  },
  {
   "cell_type": "code",
   "execution_count": null,
   "metadata": {
    "id": "mt22wH-sIJAH"
   },
   "outputs": [],
   "source": [
    "start = time.time()\n",
    "# summary 3\n",
    "start_index, end_index = chunk_indices[2]\n",
    "\n",
    "# 약관 텍스트 청크 추출\n",
    "clause_chunk_3 = extracted_text[start_index:end_index]\n",
    "\n",
    "print(f\"\\n===== [청크 3/10] {start_index} 부터 {end_index} 까지 요약 시작 =====\")\n",
    "# get_most_consistent_summary 함수를 사용하여 현재 청크 요약\n",
    "# 이전 청크 요약 결과인 summary_chunk_2를 previous_summary로 전달\n",
    "summary_chunk_3, _ = get_most_consistent_summary(\n",
    "    clause_text=clause_chunk_3,\n",
    "    previous_summary=summary_chunk_2, # 이전 요약 결과 전달!\n",
    "    iterations=summary_iterations,\n",
    "    model=gpt_model,\n",
    "    temperature=gpt_temperature\n",
    ")\n",
    "\n",
    "print(f\"\\n--- 청크 3/10 요약 완료. 결과가 summary_chunk_3 변수에 저장되었습니다. ---\")\n",
    "end = time.time()\n",
    "print(f\"--- {end - start} 초 걸림 ---\")"
   ]
  },
  {
   "cell_type": "code",
   "execution_count": null,
   "metadata": {
    "id": "UwQ6R29GQ-lU"
   },
   "outputs": [],
   "source": [
    "start = time.time()\n",
    "# summary 4\n",
    "start_index, end_index = chunk_indices[3]\n",
    "\n",
    "# 약관 텍스트 청크 추출\n",
    "clause_chunk_4 = extracted_text[start_index:end_index]\n",
    "\n",
    "print(f\"\\n===== [청크 4/10] {start_index} 부터 {end_index} 까지 요약 시작 =====\")\n",
    "# get_most_consistent_summary 함수를 사용하여 현재 청크 요약\n",
    "# 이전 청크 요약 결과인 summary_chunk_3을 previous_summary로 전달\n",
    "summary_chunk_4, _ = get_most_consistent_summary(\n",
    "    clause_text=clause_chunk_4,\n",
    "    previous_summary=summary_chunk_3, # 이전 요약 결과 전달!\n",
    "    iterations=summary_iterations,\n",
    "    model=gpt_model,\n",
    "    temperature=gpt_temperature\n",
    ")\n",
    "\n",
    "print(f\"\\n--- 청크 4/10 요약 완료. 결과가 summary_chunk_4 변수에 저장되었습니다. ---\")\n",
    "end = time.time()\n",
    "print(f\"--- {end - start} 초 걸림 ---\")"
   ]
  },
  {
   "cell_type": "code",
   "execution_count": null,
   "metadata": {
    "id": "5yApvkFYQ-p4"
   },
   "outputs": [],
   "source": [
    "start = time.time()\n",
    "# summary 5\n",
    "start_index, end_index = chunk_indices[4]\n",
    "\n",
    "# 약관 텍스트 청크 추출\n",
    "clause_chunk_5 = extracted_text[start_index:end_index]\n",
    "\n",
    "print(f\"\\n===== [청크 5/10] {start_index} 부터 {end_index} 까지 요약 시작 =====\")\n",
    "# get_most_consistent_summary 함수를 사용하여 현재 청크 요약\n",
    "# 이전 청크 요약 결과인 summary_chunk_4를 previous_summary로 전달\n",
    "summary_chunk_5, _ = get_most_consistent_summary(\n",
    "    clause_text=clause_chunk_5,\n",
    "    previous_summary=summary_chunk_4, # 이전 요약 결과 전달!\n",
    "    iterations=summary_iterations,\n",
    "    model=gpt_model,\n",
    "    temperature=gpt_temperature\n",
    ")\n",
    "\n",
    "print(f\"\\n--- 청크 5/10 요약 완료. 결과가 summary_chunk_5 변수에 저장되었습니다. ---\")\n",
    "end = time.time()\n",
    "print(f\"--- {end - start} 초 걸림 ---\")"
   ]
  },
  {
   "cell_type": "code",
   "execution_count": null,
   "metadata": {
    "id": "6o2FlO6sQ-sx"
   },
   "outputs": [],
   "source": [
    "start = time.time()\n",
    "# summary 6\n",
    "start_index, end_index = chunk_indices[5]\n",
    "\n",
    "# 약관 텍스트 청크 추출\n",
    "clause_chunk_6 = extracted_text[start_index:end_index]\n",
    "\n",
    "print(f\"\\n===== [청크 6/10] {start_index} 부터 {end_index} 까지 요약 시작 =====\")\n",
    "# get_most_consistent_summary 함수를 사용하여 현재 청크 요약\n",
    "# 이전 청크 요약 결과인 summary_chunk_5를 previous_summary로 전달\n",
    "summary_chunk_6, _ = get_most_consistent_summary(\n",
    "    clause_text=clause_chunk_6,\n",
    "    previous_summary=summary_chunk_5, # 이전 요약 결과 전달!\n",
    "    iterations=summary_iterations,\n",
    "    model=gpt_model,\n",
    "    temperature=gpt_temperature\n",
    ")\n",
    "\n",
    "print(f\"\\n--- 청크 6/10 요약 완료. 결과가 summary_chunk_6 변수에 저장되었습니다. ---\")\n",
    "end = time.time()\n",
    "print(f\"--- {end - start} 초 걸림 ---\")"
   ]
  },
  {
   "cell_type": "code",
   "execution_count": null,
   "metadata": {
    "id": "eqVgWVSYQ-vu"
   },
   "outputs": [],
   "source": [
    "start = time.time()\n",
    "# summary 7\n",
    "start_index, end_index = chunk_indices[6]\n",
    "\n",
    "# 약관 텍스트 청크 추출\n",
    "clause_chunk_7 = extracted_text[start_index:end_index]\n",
    "\n",
    "print(f\"\\n===== [청크 7/10] {start_index} 부터 {end_index} 까지 요약 시작 =====\")\n",
    "# get_most_consistent_summary 함수를 사용하여 현재 청크 요약\n",
    "# 이전 청크 요약 결과인 summary_chunk_6를 previous_summary로 전달\n",
    "summary_chunk_7, _ = get_most_consistent_summary(\n",
    "    clause_text=clause_chunk_7,\n",
    "    previous_summary=summary_chunk_6, # 이전 요약 결과 전달!\n",
    "    iterations=summary_iterations,\n",
    "    model=gpt_model,\n",
    "    temperature=gpt_temperature\n",
    ")\n",
    "\n",
    "print(f\"\\n--- 청크 7/10 요약 완료. 결과가 summary_chunk_7 변수에 저장되었습니다. ---\")\n",
    "end = time.time()\n",
    "print(f\"--- {end - start} 초 걸림 ---\")"
   ]
  },
  {
   "cell_type": "code",
   "execution_count": null,
   "metadata": {
    "id": "edY_P2ACQ-yL"
   },
   "outputs": [],
   "source": [
    "start = time.time()\n",
    "# summary 8\n",
    "start_index, end_index = chunk_indices[7]\n",
    "\n",
    "# 약관 텍스트 청크 추출\n",
    "clause_chunk_8 = extracted_text[start_index:end_index]\n",
    "\n",
    "print(f\"\\n===== [청크 8/10] {start_index} 부터 {end_index} 까지 요약 시작 =====\")\n",
    "# get_most_consistent_summary 함수를 사용하여 현재 청크 요약\n",
    "# 이전 청크 요약 결과인 summary_chunk_7를 previous_summary로 전달\n",
    "summary_chunk_8, _ = get_most_consistent_summary(\n",
    "    clause_text=clause_chunk_8,\n",
    "    previous_summary=summary_chunk_7, # 이전 요약 결과 전달!\n",
    "    iterations=summary_iterations,\n",
    "    model=gpt_model,\n",
    "    temperature=gpt_temperature\n",
    ")\n",
    "\n",
    "print(f\"\\n--- 청크 8/10 요약 완료. 결과가 summary_chunk_8 변수에 저장되었습니다. ---\")\n",
    "end = time.time()\n",
    "print(f\"--- {end - start} 초 걸림 ---\")"
   ]
  },
  {
   "cell_type": "code",
   "execution_count": null,
   "metadata": {
    "id": "Nq7sTwCFQ-1U"
   },
   "outputs": [],
   "source": [
    "start = time.time()\n",
    "# summary 9\n",
    "start_index, end_index = chunk_indices[8]\n",
    "\n",
    "# 약관 텍스트 청크 추출\n",
    "clause_chunk_9 = extracted_text[start_index:end_index]\n",
    "\n",
    "print(f\"\\n===== [청크 9/10] {start_index} 부터 {end_index} 까지 요약 시작 =====\")\n",
    "# get_most_consistent_summary 함수를 사용하여 현재 청크 요약\n",
    "# 이전 청크 요약 결과인 summary_chunk_9를 previous_summary로 전달\n",
    "summary_chunk_9, _ = get_most_consistent_summary(\n",
    "    clause_text=clause_chunk_9,\n",
    "    previous_summary=summary_chunk_8, # 이전 요약 결과 전달!\n",
    "    iterations=summary_iterations,\n",
    "    model=gpt_model,\n",
    "    temperature=gpt_temperature\n",
    ")\n",
    "\n",
    "print(f\"\\n--- 청크 9/10 요약 완료. 결과가 summary_chunk_9 변수에 저장되었습니다. ---\")\n",
    "end = time.time()\n",
    "print(f\"--- {end - start} 초 걸림 ---\")"
   ]
  },
  {
   "cell_type": "code",
   "execution_count": null,
   "metadata": {
    "id": "INq6QI0tIJDE"
   },
   "outputs": [],
   "source": [
    "start = time.time()\n",
    "# summary 10\n",
    "start_index, end_index = chunk_indices[9]\n",
    "\n",
    "# 약관 텍스트 청크 추출\n",
    "clause_chunk_10 = extracted_text[start_index:end_index]\n",
    "\n",
    "print(f\"\\n===== [청크 10/10] {start_index} 부터 {end_index} 까지 요약 시작 =====\")\n",
    "# get_most_consistent_summary 함수를 사용하여 현재 청크 요약\n",
    "# 이전 청크 요약 결과인 summary_chunk_9를 previous_summary로 전달\n",
    "summary_chunk_10, _ = get_most_consistent_summary(\n",
    "    clause_text=clause_chunk_10,\n",
    "    previous_summary=summary_chunk_9, # 이전 요약 결과 전달!\n",
    "    iterations=summary_iterations,\n",
    "    model=gpt_model,\n",
    "    temperature=gpt_temperature\n",
    ")\n",
    "\n",
    "print(f\"\\n--- 청크 10/10 요약 완료. 결과가 summary_chunk_10 변수에 저장되었습니다. ---\")\n",
    "end = time.time()\n",
    "print(f\"--- {end - start} 초 걸림 ---\")"
   ]
  },
  {
   "cell_type": "code",
   "execution_count": null,
   "metadata": {
    "id": "9xD_o0M1_QD3"
   },
   "outputs": [],
   "source": [
    "print(summary_chunk_1)"
   ]
  },
  {
   "cell_type": "code",
   "execution_count": null,
   "metadata": {
    "id": "-b2meOri4MIg"
   },
   "outputs": [],
   "source": [
    "# 각 결과를 각각 text파일로 만들\n",
    "for i in range(10):\n",
    "\n",
    "    chunk_number = i + 1\n",
    "    current_text = f\"summary_chunk_{chunk_number}\"\n",
    "    file_name = f\"summary_chunk_{chunk_number}.txt\"\n",
    "    # 전체 파일 경로 생성 (저장 폴더 경로 + 파일 이름)\n",
    "    full_output_path = os.path.join('/content/drive/MyDrive/UNIV./25-1/컴퓨터네트워크/cn_api_project/txt', file_name)\n",
    "    print(f\"💾 저장 중: {full_output_path}\")\n",
    "    try:\n",
    "        with open(full_output_path, \"w\", encoding=\"utf-8\") as file:\n",
    "            file.write(current_text)\n",
    "            print(f\"{file_name} 파일을 읽었습니다.\")\n",
    "    except FileNotFoundError:\n",
    "        print(f\"{file_name} 파일을 찾을 수 없습니다.\")"
   ]
  },
  {
   "cell_type": "code",
   "execution_count": null,
   "metadata": {
    "id": "O5BFKSiZSqD2"
   },
   "outputs": [],
   "source": [
    "# 최종 약관 요약 결과 합치기\n",
    "# 이전 요약 셀 실행 이후 실행\n",
    "\n",
    "print(\"\\n\\n===== 최종 전체 약관 요약 결과 합치는 중 =====\")\n",
    "\n",
    "# 10개의 청크 요약 결과를 하나의 변수에 순서대로 합칩니다.\n",
    "# 각 변수가 존재하고 비어있지 않은 경우에만 합칩니다.\n",
    "full_extracted_summary = \"\"\n",
    "\n",
    "# summary_chunk_1 부터 summary_chunk_10 까지 순서대로 합칩니다.\n",
    "# 각 청크 요약 사이에 줄바꿈을 추가하여 구분합니다.\n",
    "\n",
    "if 'summary_chunk_1' in locals() and summary_chunk_1: # 변수 존재 및 내용 확인\n",
    "    full_extracted_summary += summary_chunk_1 + \"\\n\\n\"\n",
    "\n",
    "if 'summary_chunk_2' in locals() and summary_chunk_2:\n",
    "    full_extracted_summary += summary_chunk_2 + \"\\n\\n\"\n",
    "\n",
    "if 'summary_chunk_3' in locals() and summary_chunk_3:\n",
    "    full_extracted_summary += summary_chunk_3 + \"\\n\\n\"\n",
    "\n",
    "if 'summary_chunk_4' in locals() and summary_chunk_4:\n",
    "    full_extracted_summary += summary_chunk_4 + \"\\n\\n\"\n",
    "\n",
    "if 'summary_chunk_5' in locals() and summary_chunk_5:\n",
    "    full_extracted_summary += summary_chunk_5 + \"\\n\\n\"\n",
    "\n",
    "if 'summary_chunk_6' in locals() and summary_chunk_6:\n",
    "    full_extracted_summary += summary_chunk_6 + \"\\n\\n\"\n",
    "\n",
    "if 'summary_chunk_7' in locals() and summary_chunk_7:\n",
    "    full_extracted_summary += summary_chunk_7 + \"\\n\\n\"\n",
    "\n",
    "if 'summary_chunk_8' in locals() and summary_chunk_8:\n",
    "    full_extracted_summary += summary_chunk_8 + \"\\n\\n\"\n",
    "\n",
    "if 'summary_chunk_9' in locals() and summary_chunk_9:\n",
    "    full_extracted_summary += summary_chunk_9 + \"\\n\\n\"\n",
    "\n",
    "if 'summary_chunk_10' in locals() and summary_chunk_10:\n",
    "    # 마지막 청크 요약이므로 뒤에 줄바꿈을 과도하게 넣지 않거나 조절\n",
    "    full_extracted_summary += summary_chunk_10\n",
    "\n",
    "print(\"\\n\\n===== 최종 전체 약관 요약 결과 (full_extracted_summary 변수) =====\")\n",
    "# 최종 결과 출력\n",
    "print(full_extracted_summary)\n",
    "\n",
    "print(\"\\n--- 최종 결과 합치기 완료. full_extracted_summary 변수를 활용하세요. ---\")"
   ]
  },
  {
   "cell_type": "code",
   "execution_count": null,
   "metadata": {
    "id": "oHW7ru43CXEj"
   },
   "outputs": [],
   "source": [
    "current_text = full_extracted_summary\n",
    "file_name = \"full_summary.txt\"\n",
    "# 전체 파일 경로 생성 (저장 폴더 경로 + 파일 이름)\n",
    "file_full_path = os.path.join('/content/drive/MyDrive/UNIV./25-1/컴퓨터네트워크/cn_api_project/txt', file_name)\n",
    "print(f\"💾 저장 중: {file_full_path}\")\n",
    "try:\n",
    "    with open(file_full_path, \"w\", encoding=\"utf-8\") as file:\n",
    "        file.write(current_text)\n",
    "        print(f\"{file_name} 파일을 읽었습니다.\")\n",
    "except FileNotFoundError:\n",
    "    print(f\"{file_name} 파일을 찾을 수 없습니다.\")"
   ]
  },
  {
   "cell_type": "markdown",
   "metadata": {
    "id": "M6LOhkHyz4KX"
   },
   "source": [
    "### 실행2"
   ]
  },
  {
   "cell_type": "markdown",
   "metadata": {
    "id": "RQ-hB9NUlJRB"
   },
   "source": [
    "#### summarize_policy_in_chunks 함수 생성\n",
    "\n",
    "> 긴 약관 텍스트를 지정된 크기로 나누고, 각 청크별로 Self-consistency 요약을 수행하며,\n",
    "이전 청크의 요약 결과를 다음 청크 요약 시 참고하여 결과를 모아 반환\n"
   ]
  },
  {
   "cell_type": "code",
   "execution_count": 12,
   "metadata": {
    "id": "E1UZyVsElSMt",
    "executionInfo": {
     "status": "ok",
     "timestamp": 1748838985530,
     "user_tz": -540,
     "elapsed": 52,
     "user": {
      "displayName": "Junhee Choi",
      "userId": "01054653513821718568"
     }
    }
   },
   "outputs": [],
   "source": [
    "import time"
   ]
  },
  {
   "cell_type": "code",
   "execution_count": 13,
   "metadata": {
    "id": "6AHW_coolUCk",
    "executionInfo": {
     "status": "ok",
     "timestamp": 1748838993843,
     "user_tz": -540,
     "elapsed": 20,
     "user": {
      "displayName": "Junhee Choi",
      "userId": "01054653513821718568"
     }
    }
   },
   "outputs": [],
   "source": [
    "# --- 자동화된 약관 청크별 요약 함수 ---\n",
    "def summarize_policy_in_chunks(\n",
    "    extracted_text,\n",
    "    chunk_size=2000, # 요약할 텍스트 청크 크기\n",
    "    summary_iterations=5, # 각 청크별 Self-consistency 반복 횟수\n",
    "    model=\"gpt-4o-2024-05-13\", # 요약에 사용할 GPT 모델\n",
    "    temperature=0.7 # 요약 내용 다양성을 위한 온도 설정\n",
    "):\n",
    "    if not extracted_text:\n",
    "        print(\"오류: 요약할 텍스트가 비어있습니다.\")\n",
    "        return []\n",
    "\n",
    "    if 'get_most_consistent_summary' not in globals():\n",
    "        print(\"오류: get_most_consistent_summary 함수가 정의되지 않았습니다.\")\n",
    "        return []\n",
    "\n",
    "    if client is None:\n",
    "        print(\"오류: OpenAI API 클라이언트가 초기화되지 않았습니다.\")\n",
    "        return []\n",
    "\n",
    "    all_chunk_summaries = [] # 각 청크별 요약 결과를 저장할 리스트\n",
    "    start_index = 0 # 텍스트를 자르기 시작할 위치\n",
    "    total_text_length = len(extracted_text)\n",
    "    chunk_count = 0 # 몇 번째 청크인지 기록\n",
    "    previous_summary = \"\" # 이전 청크의 요약 결과를 저장할 변수 (초기값 빈 문자열)\n",
    "\n",
    "    print(f\"--- 전체 텍스트 길이: {total_text_length} 문자 ---\")\n",
    "    print(f\"--- {chunk_size} 문자 단위로 분할하여 요약 진행 ---\")\n",
    "\n",
    "    start_time_total = time.time() # 전체 요약 시작 시간\n",
    "\n",
    "    # extracted_text가 끝날 때까지 반복\n",
    "    while start_index < total_text_length:\n",
    "        start_time_chunk = time.time() # 청크 요약 시작 시간\n",
    "\n",
    "        # 현재 청크의 끝 위치 계산 (전체 텍스트 길이를 넘지 않도록 min 함수 사용)\n",
    "        end_index = min(start_index + chunk_size, total_text_length)\n",
    "\n",
    "        # 현재 요약할 텍스트 청크 추출\n",
    "        current_chunk = extracted_text[start_index:end_index]\n",
    "\n",
    "        # 추출된 청크가 비어있거나 공백만 있는지 확인\n",
    "        if not current_chunk.strip():\n",
    "            print(f\"청크 {chunk_count + 1}: 내용이 비어있거나 공백만 있습니다. 처리를 종료합니다.\")\n",
    "            break # 내용이 없으면 더 이상 처리할 청크가 없으므로 루프 종료\n",
    "\n",
    "        chunk_count += 1\n",
    "        print(f\"\\n\\n===== [청크 {chunk_count}] {start_index} 부터 {end_index} 까지 요약 시작 =====\")\n",
    "\n",
    "        # 정의된 get_most_consistent_summary 함수를 사용하여 현재 청크 요약\n",
    "        # 이전 청크 요약 결과 (previous_summary)를 인자로 전달합니다.\n",
    "        consistent_summary_text, _ = get_most_consistent_summary(\n",
    "            clause_text=current_chunk,\n",
    "            previous_summary=previous_summary, # <-- 이전 청크 요약 전달!\n",
    "            iterations=summary_iterations,\n",
    "            model=model,\n",
    "            temperature=temperature\n",
    "        )\n",
    "\n",
    "        # 요약 결과를 리스트에 추가\n",
    "        all_chunk_summaries.append(consistent_summary_text)\n",
    "\n",
    "        # 현재 청크의 요약 결과를 다음 청크의 '이전 요약'으로 업데이트\n",
    "        previous_summary = consistent_summary_text\n",
    "\n",
    "        # 다음 청크의 시작 위치 업데이트\n",
    "        start_index = end_index\n",
    "\n",
    "        end_time_chunk = time.time() # 청크 요약 종료 시간\n",
    "        print(f\"\\n--- 청크 {chunk_count} 요약 완료. ({end_time_chunk - start_time_chunk:.2f} 초 걸림) ---\")\n",
    "\n",
    "\n",
    "    end_time_total = time.time() # 전체 요약 종료 시간\n",
    "    print(f\"\\n--- 전체 텍스트 요약 완료. 총 {chunk_count} 개의 청크 요약 생성 ({end_time_total - start_time_total:.2f} 초 걸림) ---\")\n",
    "\n",
    "    combined_summary = \"\\n\\n\".join(all_chunk_summaries)\n",
    "    # return combined_summary, all_chunk_summaries\n",
    "\n",
    "    # 여기서는 청크별 요약 리스트만 반환합니다. 필요시 외부에서 합칩니다.\n",
    "    return all_chunk_summaries"
   ]
  },
  {
   "cell_type": "code",
   "execution_count": null,
   "metadata": {
    "id": "3biEM34Ymkd1"
   },
   "outputs": [],
   "source": [
    "with open('/content/drive/MyDrive/PROJECT/cn_api_project/data/보험약관/db_cat_terms.txt', 'r', encoding = 'utf-8') as f:\n",
    "    db_cat_terms = f.read()\n",
    "\n",
    "with open('/content/drive/MyDrive/PROJECT/cn_api_project/data/보험약관/db_injury_terms.txt', 'r', encoding = 'utf-8') as f:\n",
    "    db_injury_terms = f.read()\n",
    "\n",
    "with open('/content/drive/MyDrive/PROJECT/cn_api_project/data/보험약관/db_teeth_terms.txt', 'r', encoding = 'utf-8') as f:\n",
    "    db_teeth_terms = f.read()\n",
    "\n",
    "with open('/content/drive/MyDrive/PROJECT/컴퓨터네트워크/cn_api_project/data/보험약관/삼성화재_반려묘보험_의기냥냥.txt', 'r', encoding = 'utf-8') as f:\n",
    "    samsung_nyang_terms = f.read()\n",
    "\n",
    "with open('/content/drive/MyDrive/PROJECT/컴퓨터네트워크/cn_api_project/data/보험약관/한화_스마일펫보험.txt', 'r', encoding = 'utf-8') as f:\n",
    "    hanhwa_pet_terms = f.read()\n",
    "\n",
    "with open('/content/drive/MyDrive/PROJECT/컴퓨터네트워크/cn_api_project/data/보험약관/삼성화재_반려묘보험_애니펫.txt', 'r', encoding = 'utf-8') as f:\n",
    "    samsung_cat_anipet_terms = f.read()"
   ]
  },
  {
   "cell_type": "code",
   "execution_count": 14,
   "metadata": {
    "id": "a8-FxYz57rLU",
    "executionInfo": {
     "status": "ok",
     "timestamp": 1748839037882,
     "user_tz": -540,
     "elapsed": 3220,
     "user": {
      "displayName": "Junhee Choi",
      "userId": "01054653513821718568"
     }
    }
   },
   "outputs": [],
   "source": [
    "with open('/content/drive/MyDrive/PROJECT/cn_api_project/data/보험약관/메리츠 마음든든 반려동물보험약관.txt', 'r', encoding = 'utf-8') as f:\n",
    "    메리츠_반려동물보험약관_terms = f.read()\n",
    "\n",
    "with open('/content/drive/MyDrive/PROJECT/cn_api_project/data/보험약관/메리츠 반려동물보험약관.txt', 'r', encoding= 'utf-8') as f:\n",
    "    메리츠_마음든든_반려동물보험약관_terms = f.read()\n",
    "\n",
    "with open('/content/drive/MyDrive/PROJECT/cn_api_project/data/보험약관/KB_cat_direct_terms.txt', 'r', encoding= 'utf-8') as f:\n",
    "    KB_다이렉트_반려묘보험_terms = f.read()\n",
    "\n",
    "with open('/content/drive/MyDrive/PROJECT/cn_api_project/data/보험약관/hyundai_cat_direct_terms.txt', 'r', encoding = 'utf-8') as f:\n",
    "    hyundai_다이렉트_반려묘보험_terms = f.read()\n",
    "\n",
    "with open('/content/drive/MyDrive/PROJECT/cn_api_project/data/보험약관/meritz_direct_cat_terms.txt', 'r', encoding = 'utf-8') as f:\n",
    "    메리츠_다이렉트_펫퍼민트_반려묘보험_terms = f.read()\n",
    "\n"
   ]
  },
  {
   "cell_type": "code",
   "source": [
    "original_filename = 'db_cat_terms.txt'\n",
    "original_filename_ext, ext = os.path.splitext(original_filename)\n",
    "original_filename_without_ext = original_filename_ext\n",
    "summary_filename = f'{original_filename_ext}_summary.txt'\n",
    "save_folder = '/content/drive/MyDrive/PROJECT/cn_api_project/data/보험약관/summary'\n",
    "summary_path = os.path.join(save_folder, summary_filename)\n",
    "\n",
    "print(summary_filename, summary_path)"
   ],
   "metadata": {
    "colab": {
     "base_uri": "https://localhost:8080/"
    },
    "id": "h6cWSrw9dr7k",
    "executionInfo": {
     "status": "ok",
     "timestamp": 1748839075383,
     "user_tz": -540,
     "elapsed": 67,
     "user": {
      "displayName": "Junhee Choi",
      "userId": "01054653513821718568"
     }
    },
    "outputId": "bfa0bfd0-4721-4e12-ed29-e51b4c65c709"
   },
   "execution_count": 19,
   "outputs": [
    {
     "output_type": "stream",
     "name": "stdout",
     "text": [
      "db_cat_terms_summary.txt /content/drive/MyDrive/PROJECT/cn_api_project/data/보험약관/summary/db_cat_terms_summary.txt\n"
     ]
    }
   ]
  },
  {
   "cell_type": "code",
   "source": [
    "def summary_path_generator(original_filename):\n",
    "    original_filename_ext, ext = os.path.splitext(original_filename)\n",
    "    original_filename_without_ext = original_filename_ext\n",
    "    summary_filename = f'{original_filename_ext}_summary.txt'\n",
    "    return summary_filename"
   ],
   "metadata": {
    "id": "XiIgzikUhqC6",
    "executionInfo": {
     "status": "ok",
     "timestamp": 1748839201383,
     "user_tz": -540,
     "elapsed": 65,
     "user": {
      "displayName": "Junhee Choi",
      "userId": "01054653513821718568"
     }
    }
   },
   "execution_count": 22,
   "outputs": []
  },
  {
   "cell_type": "code",
   "source": [
    "def save_summary_txt(summary_text, summary_path):\n",
    "    try:\n",
    "        with open(save_path, 'w', encoding='utf-8') as f:\n",
    "            f.write(summary_text)\n",
    "    except:\n",
    "        print(f\"파일 저장 오류: {summary_path}\")"
   ],
   "metadata": {
    "id": "H5GyhmywfvH5",
    "executionInfo": {
     "status": "ok",
     "timestamp": 1748839054260,
     "user_tz": -540,
     "elapsed": 18,
     "user": {
      "displayName": "Junhee Choi",
      "userId": "01054653513821718568"
     }
    }
   },
   "execution_count": 17,
   "outputs": []
  },
  {
   "cell_type": "code",
   "source": [
    "extracted_text = hyundai_다이렉트_반려묘보험_terms\n",
    "original_filename = 'hyundai_다이렉트_반려묘보험_terms.txt'\n",
    "save_folder = '/content/drive/MyDrive/PROJECT/cn_api_project/data/보험약관/summary'\n",
    "summary_path = os.path.join(save_folder, summary_path_generator(original_filename))\n",
    "print(summary_path)"
   ],
   "metadata": {
    "colab": {
     "base_uri": "https://localhost:8080/"
    },
    "id": "zBUaeI_IhWl1",
    "executionInfo": {
     "status": "ok",
     "timestamp": 1748839203250,
     "user_tz": -540,
     "elapsed": 82,
     "user": {
      "displayName": "Junhee Choi",
      "userId": "01054653513821718568"
     }
    },
    "outputId": "ea1cd8a1-17ab-4348-8a1a-07ff45e345a4"
   },
   "execution_count": 23,
   "outputs": [
    {
     "output_type": "stream",
     "name": "stdout",
     "text": [
      "/content/drive/MyDrive/PROJECT/cn_api_project/data/보험약관/summary/hyundai_다이렉트_반려묘보험_terms_summary.txt\n"
     ]
    }
   ]
  },
  {
   "cell_type": "code",
   "source": [
    "if extracted_text and client is not None and 'get_most_consistent_summary' in globals():\n",
    "    print(\"\\n\\n===== 약관 청크별 자동 요약 프로세스 시작 =====\")\n",
    "\n",
    "    # 함수 호출 및 결과 받기\n",
    "    chunk_summaries_list = summarize_policy_in_chunks(\n",
    "        extracted_text=extracted_text,\n",
    "        chunk_size=3000, # 3000자씩 나누어 요약\n",
    "        summary_iterations=3, # Self-consistency 7회 반복\n",
    "        model=\"gpt-4o-2024-05-13\", # 사용할 GPT 모델\n",
    "        temperature=0.7 # 발상 온도\n",
    "    )\n",
    "\n",
    "    print(\"\\n===== 약관 청크별 자동 요약 프로세스 완료 =====\")\n",
    "\n",
    "    # 결과 활용 (예: 모든 요약 결과를 합쳐서 출력 또는 파일 저장)\n",
    "    if chunk_summaries_list:\n",
    "        print(f\"총 {len(chunk_summaries_list)}개의 청크 요약 결과가 생성되었습니다.\")\n",
    "        # 모든 청크 요약을 하나의 문자열로 합치기\n",
    "        full_extracted_summary_combined = \"\\n\\n\".join(chunk_summaries_list)\n",
    "\n",
    "        print(\"\\n--- 전체 요약 결과 (합본) ---\")\n",
    "        print(full_extracted_summary_combined) # 합쳐진 요약 결과 출력\n",
    "        save_summary_txt(full_extracted_summary_combined, summary_path)\n",
    "\n",
    "    else:\n",
    "        print(\"생성된 요약 결과가 없습니다.\")"
   ],
   "metadata": {
    "colab": {
     "base_uri": "https://localhost:8080/",
     "height": 1000
    },
    "id": "LgrR5OpohIug",
    "executionInfo": {
     "status": "error",
     "timestamp": 1748841687646,
     "user_tz": -540,
     "elapsed": 2453298,
     "user": {
      "displayName": "Junhee Choi",
      "userId": "01054653513821718568"
     }
    },
    "outputId": "9f3538df-d5b2-4b23-c2f1-db82bac5bfa7"
   },
   "execution_count": 24,
   "outputs": [
    {
     "output_type": "stream",
     "name": "stdout",
     "text": [
      "\n",
      "\n",
      "===== 약관 청크별 자동 요약 프로세스 시작 =====\n",
      "--- 전체 텍스트 길이: 469727 문자 ---\n",
      "--- 3000 문자 단위로 분할하여 요약 진행 ---\n",
      "\n",
      "\n",
      "===== [청크 1] 0 부터 3000 까지 요약 시작 =====\n",
      "\n",
      "--- 청크 1 요약 완료. (19.96 초 걸림) ---\n",
      "\n",
      "\n",
      "===== [청크 2] 3000 부터 6000 까지 요약 시작 =====\n",
      "\n",
      "--- 청크 2 요약 완료. (28.47 초 걸림) ---\n",
      "\n",
      "\n",
      "===== [청크 3] 6000 부터 9000 까지 요약 시작 =====\n",
      "\n",
      "--- 청크 3 요약 완료. (35.80 초 걸림) ---\n",
      "\n",
      "\n",
      "===== [청크 4] 9000 부터 12000 까지 요약 시작 =====\n",
      "\n",
      "--- 청크 4 요약 완료. (38.27 초 걸림) ---\n",
      "\n",
      "\n",
      "===== [청크 5] 12000 부터 15000 까지 요약 시작 =====\n",
      "\n",
      "--- 청크 5 요약 완료. (31.00 초 걸림) ---\n",
      "\n",
      "\n",
      "===== [청크 6] 15000 부터 18000 까지 요약 시작 =====\n",
      "\n",
      "--- 청크 6 요약 완료. (25.77 초 걸림) ---\n",
      "\n",
      "\n",
      "===== [청크 7] 18000 부터 21000 까지 요약 시작 =====\n",
      "\n",
      "--- 청크 7 요약 완료. (42.25 초 걸림) ---\n",
      "\n",
      "\n",
      "===== [청크 8] 21000 부터 24000 까지 요약 시작 =====\n",
      "\n",
      "--- 청크 8 요약 완료. (47.74 초 걸림) ---\n",
      "\n",
      "\n",
      "===== [청크 9] 24000 부터 27000 까지 요약 시작 =====\n",
      "\n",
      "--- 청크 9 요약 완료. (46.01 초 걸림) ---\n",
      "\n",
      "\n",
      "===== [청크 10] 27000 부터 30000 까지 요약 시작 =====\n",
      "\n",
      "--- 청크 10 요약 완료. (36.51 초 걸림) ---\n",
      "\n",
      "\n",
      "===== [청크 11] 30000 부터 33000 까지 요약 시작 =====\n",
      "\n",
      "--- 청크 11 요약 완료. (43.30 초 걸림) ---\n",
      "\n",
      "\n",
      "===== [청크 12] 33000 부터 36000 까지 요약 시작 =====\n",
      "\n",
      "--- 청크 12 요약 완료. (46.99 초 걸림) ---\n",
      "\n",
      "\n",
      "===== [청크 13] 36000 부터 39000 까지 요약 시작 =====\n",
      "\n",
      "--- 청크 13 요약 완료. (42.52 초 걸림) ---\n",
      "\n",
      "\n",
      "===== [청크 14] 39000 부터 42000 까지 요약 시작 =====\n",
      "\n",
      "--- 청크 14 요약 완료. (29.29 초 걸림) ---\n",
      "\n",
      "\n",
      "===== [청크 15] 42000 부터 45000 까지 요약 시작 =====\n",
      "\n",
      "--- 청크 15 요약 완료. (46.65 초 걸림) ---\n",
      "\n",
      "\n",
      "===== [청크 16] 45000 부터 48000 까지 요약 시작 =====\n",
      "\n",
      "--- 청크 16 요약 완료. (46.96 초 걸림) ---\n",
      "\n",
      "\n",
      "===== [청크 17] 48000 부터 51000 까지 요약 시작 =====\n",
      "\n",
      "--- 청크 17 요약 완료. (41.27 초 걸림) ---\n",
      "\n",
      "\n",
      "===== [청크 18] 51000 부터 54000 까지 요약 시작 =====\n",
      "\n",
      "--- 청크 18 요약 완료. (25.53 초 걸림) ---\n",
      "\n",
      "\n",
      "===== [청크 19] 54000 부터 57000 까지 요약 시작 =====\n",
      "\n",
      "--- 청크 19 요약 완료. (21.05 초 걸림) ---\n",
      "\n",
      "\n",
      "===== [청크 20] 57000 부터 60000 까지 요약 시작 =====\n",
      "\n",
      "--- 청크 20 요약 완료. (28.34 초 걸림) ---\n",
      "\n",
      "\n",
      "===== [청크 21] 60000 부터 63000 까지 요약 시작 =====\n",
      "\n",
      "--- 청크 21 요약 완료. (20.80 초 걸림) ---\n",
      "\n",
      "\n",
      "===== [청크 22] 63000 부터 66000 까지 요약 시작 =====\n",
      "\n",
      "--- 청크 22 요약 완료. (19.05 초 걸림) ---\n",
      "\n",
      "\n",
      "===== [청크 23] 66000 부터 69000 까지 요약 시작 =====\n",
      "\n",
      "--- 청크 23 요약 완료. (23.36 초 걸림) ---\n",
      "\n",
      "\n",
      "===== [청크 24] 69000 부터 72000 까지 요약 시작 =====\n",
      "\n",
      "--- 청크 24 요약 완료. (17.17 초 걸림) ---\n",
      "\n",
      "\n",
      "===== [청크 25] 72000 부터 75000 까지 요약 시작 =====\n",
      "\n",
      "--- 청크 25 요약 완료. (21.30 초 걸림) ---\n",
      "\n",
      "\n",
      "===== [청크 26] 75000 부터 78000 까지 요약 시작 =====\n",
      "\n",
      "--- 청크 26 요약 완료. (22.23 초 걸림) ---\n",
      "\n",
      "\n",
      "===== [청크 27] 78000 부터 81000 까지 요약 시작 =====\n",
      "\n",
      "--- 청크 27 요약 완료. (16.13 초 걸림) ---\n",
      "\n",
      "\n",
      "===== [청크 28] 81000 부터 84000 까지 요약 시작 =====\n",
      "\n",
      "--- 청크 28 요약 완료. (26.10 초 걸림) ---\n",
      "\n",
      "\n",
      "===== [청크 29] 84000 부터 87000 까지 요약 시작 =====\n",
      "\n",
      "--- 청크 29 요약 완료. (20.84 초 걸림) ---\n",
      "\n",
      "\n",
      "===== [청크 30] 87000 부터 90000 까지 요약 시작 =====\n",
      "\n",
      "--- 청크 30 요약 완료. (25.05 초 걸림) ---\n",
      "\n",
      "\n",
      "===== [청크 31] 90000 부터 93000 까지 요약 시작 =====\n",
      "\n",
      "--- 청크 31 요약 완료. (20.52 초 걸림) ---\n",
      "\n",
      "\n",
      "===== [청크 32] 93000 부터 96000 까지 요약 시작 =====\n",
      "\n",
      "--- 청크 32 요약 완료. (18.24 초 걸림) ---\n",
      "\n",
      "\n",
      "===== [청크 33] 96000 부터 99000 까지 요약 시작 =====\n",
      "\n",
      "--- 청크 33 요약 완료. (15.83 초 걸림) ---\n",
      "\n",
      "\n",
      "===== [청크 34] 99000 부터 102000 까지 요약 시작 =====\n",
      "\n",
      "--- 청크 34 요약 완료. (19.13 초 걸림) ---\n",
      "\n",
      "\n",
      "===== [청크 35] 102000 부터 105000 까지 요약 시작 =====\n",
      "\n",
      "--- 청크 35 요약 완료. (15.79 초 걸림) ---\n",
      "\n",
      "\n",
      "===== [청크 36] 105000 부터 108000 까지 요약 시작 =====\n",
      "\n",
      "--- 청크 36 요약 완료. (20.82 초 걸림) ---\n",
      "\n",
      "\n",
      "===== [청크 37] 108000 부터 111000 까지 요약 시작 =====\n",
      "\n",
      "--- 청크 37 요약 완료. (21.59 초 걸림) ---\n",
      "\n",
      "\n",
      "===== [청크 38] 111000 부터 114000 까지 요약 시작 =====\n",
      "\n",
      "--- 청크 38 요약 완료. (13.83 초 걸림) ---\n",
      "\n",
      "\n",
      "===== [청크 39] 114000 부터 117000 까지 요약 시작 =====\n",
      "\n",
      "--- 청크 39 요약 완료. (12.86 초 걸림) ---\n",
      "\n",
      "\n",
      "===== [청크 40] 117000 부터 120000 까지 요약 시작 =====\n",
      "\n",
      "--- 청크 40 요약 완료. (19.36 초 걸림) ---\n",
      "\n",
      "\n",
      "===== [청크 41] 120000 부터 123000 까지 요약 시작 =====\n",
      "\n",
      "--- 청크 41 요약 완료. (16.68 초 걸림) ---\n",
      "\n",
      "\n",
      "===== [청크 42] 123000 부터 126000 까지 요약 시작 =====\n",
      "\n",
      "--- 청크 42 요약 완료. (14.75 초 걸림) ---\n",
      "\n",
      "\n",
      "===== [청크 43] 126000 부터 129000 까지 요약 시작 =====\n",
      "\n",
      "--- 청크 43 요약 완료. (13.26 초 걸림) ---\n",
      "\n",
      "\n",
      "===== [청크 44] 129000 부터 132000 까지 요약 시작 =====\n",
      "\n",
      "--- 청크 44 요약 완료. (20.49 초 걸림) ---\n",
      "\n",
      "\n",
      "===== [청크 45] 132000 부터 135000 까지 요약 시작 =====\n",
      "\n",
      "--- 청크 45 요약 완료. (20.47 초 걸림) ---\n",
      "\n",
      "\n",
      "===== [청크 46] 135000 부터 138000 까지 요약 시작 =====\n",
      "\n",
      "--- 청크 46 요약 완료. (21.28 초 걸림) ---\n",
      "\n",
      "\n",
      "===== [청크 47] 138000 부터 141000 까지 요약 시작 =====\n",
      "\n",
      "--- 청크 47 요약 완료. (21.34 초 걸림) ---\n",
      "\n",
      "\n",
      "===== [청크 48] 141000 부터 144000 까지 요약 시작 =====\n",
      "\n",
      "--- 청크 48 요약 완료. (22.34 초 걸림) ---\n",
      "\n",
      "\n",
      "===== [청크 49] 144000 부터 147000 까지 요약 시작 =====\n",
      "\n",
      "--- 청크 49 요약 완료. (20.63 초 걸림) ---\n",
      "\n",
      "\n",
      "===== [청크 50] 147000 부터 150000 까지 요약 시작 =====\n",
      "\n",
      "--- 청크 50 요약 완료. (32.26 초 걸림) ---\n",
      "\n",
      "\n",
      "===== [청크 51] 150000 부터 153000 까지 요약 시작 =====\n",
      "\n",
      "--- 청크 51 요약 완료. (17.20 초 걸림) ---\n",
      "\n",
      "\n",
      "===== [청크 52] 153000 부터 156000 까지 요약 시작 =====\n",
      "\n",
      "--- 청크 52 요약 완료. (85.80 초 걸림) ---\n",
      "\n",
      "\n",
      "===== [청크 53] 156000 부터 159000 까지 요약 시작 =====\n",
      "\n",
      "--- 청크 53 요약 완료. (21.96 초 걸림) ---\n",
      "\n",
      "\n",
      "===== [청크 54] 159000 부터 162000 까지 요약 시작 =====\n",
      "\n",
      "--- 청크 54 요약 완료. (13.46 초 걸림) ---\n",
      "\n",
      "\n",
      "===== [청크 55] 162000 부터 165000 까지 요약 시작 =====\n",
      "\n",
      "--- 청크 55 요약 완료. (20.22 초 걸림) ---\n",
      "\n",
      "\n",
      "===== [청크 56] 165000 부터 168000 까지 요약 시작 =====\n",
      "\n",
      "--- 청크 56 요약 완료. (29.23 초 걸림) ---\n",
      "\n",
      "\n",
      "===== [청크 57] 168000 부터 171000 까지 요약 시작 =====\n",
      "\n",
      "--- 청크 57 요약 완료. (25.80 초 걸림) ---\n",
      "\n",
      "\n",
      "===== [청크 58] 171000 부터 174000 까지 요약 시작 =====\n",
      "\n",
      "--- 청크 58 요약 완료. (17.81 초 걸림) ---\n",
      "\n",
      "\n",
      "===== [청크 59] 174000 부터 177000 까지 요약 시작 =====\n",
      "\n",
      "--- 청크 59 요약 완료. (22.84 초 걸림) ---\n",
      "\n",
      "\n",
      "===== [청크 60] 177000 부터 180000 까지 요약 시작 =====\n",
      "\n",
      "--- 청크 60 요약 완료. (17.22 초 걸림) ---\n",
      "\n",
      "\n",
      "===== [청크 61] 180000 부터 183000 까지 요약 시작 =====\n",
      "\n",
      "--- 청크 61 요약 완료. (27.38 초 걸림) ---\n",
      "\n",
      "\n",
      "===== [청크 62] 183000 부터 186000 까지 요약 시작 =====\n",
      "\n",
      "--- 청크 62 요약 완료. (21.78 초 걸림) ---\n",
      "\n",
      "\n",
      "===== [청크 63] 186000 부터 189000 까지 요약 시작 =====\n",
      "\n",
      "--- 청크 63 요약 완료. (22.15 초 걸림) ---\n",
      "\n",
      "\n",
      "===== [청크 64] 189000 부터 192000 까지 요약 시작 =====\n",
      "\n",
      "--- 청크 64 요약 완료. (22.09 초 걸림) ---\n",
      "\n",
      "\n",
      "===== [청크 65] 192000 부터 195000 까지 요약 시작 =====\n",
      "\n",
      "--- 청크 65 요약 완료. (15.76 초 걸림) ---\n",
      "\n",
      "\n",
      "===== [청크 66] 195000 부터 198000 까지 요약 시작 =====\n",
      "\n",
      "--- 청크 66 요약 완료. (19.27 초 걸림) ---\n",
      "\n",
      "\n",
      "===== [청크 67] 198000 부터 201000 까지 요약 시작 =====\n",
      "\n",
      "--- 청크 67 요약 완료. (26.89 초 걸림) ---\n",
      "\n",
      "\n",
      "===== [청크 68] 201000 부터 204000 까지 요약 시작 =====\n",
      "\n",
      "--- 청크 68 요약 완료. (26.04 초 걸림) ---\n",
      "\n",
      "\n",
      "===== [청크 69] 204000 부터 207000 까지 요약 시작 =====\n",
      "\n",
      "--- 청크 69 요약 완료. (31.79 초 걸림) ---\n",
      "\n",
      "\n",
      "===== [청크 70] 207000 부터 210000 까지 요약 시작 =====\n",
      "\n",
      "--- 청크 70 요약 완료. (45.68 초 걸림) ---\n",
      "\n",
      "\n",
      "===== [청크 71] 210000 부터 213000 까지 요약 시작 =====\n",
      "\n",
      "--- 청크 71 요약 완료. (22.36 초 걸림) ---\n",
      "\n",
      "\n",
      "===== [청크 72] 213000 부터 216000 까지 요약 시작 =====\n",
      "\n",
      "--- 청크 72 요약 완료. (24.35 초 걸림) ---\n",
      "\n",
      "\n",
      "===== [청크 73] 216000 부터 219000 까지 요약 시작 =====\n",
      "\n",
      "--- 청크 73 요약 완료. (19.77 초 걸림) ---\n",
      "\n",
      "\n",
      "===== [청크 74] 219000 부터 222000 까지 요약 시작 =====\n",
      "\n",
      "--- 청크 74 요약 완료. (23.31 초 걸림) ---\n",
      "\n",
      "\n",
      "===== [청크 75] 222000 부터 225000 까지 요약 시작 =====\n",
      "\n",
      "--- 청크 75 요약 완료. (25.02 초 걸림) ---\n",
      "\n",
      "\n",
      "===== [청크 76] 225000 부터 228000 까지 요약 시작 =====\n",
      "\n",
      "--- 청크 76 요약 완료. (18.39 초 걸림) ---\n",
      "\n",
      "\n",
      "===== [청크 77] 228000 부터 231000 까지 요약 시작 =====\n",
      "\n",
      "--- 청크 77 요약 완료. (20.41 초 걸림) ---\n",
      "\n",
      "\n",
      "===== [청크 78] 231000 부터 234000 까지 요약 시작 =====\n",
      "\n",
      "--- 청크 78 요약 완료. (23.80 초 걸림) ---\n",
      "\n",
      "\n",
      "===== [청크 79] 234000 부터 237000 까지 요약 시작 =====\n",
      "\n",
      "--- 청크 79 요약 완료. (22.42 초 걸림) ---\n",
      "\n",
      "\n",
      "===== [청크 80] 237000 부터 240000 까지 요약 시작 =====\n",
      "\n",
      "--- 청크 80 요약 완료. (20.33 초 걸림) ---\n",
      "\n",
      "\n",
      "===== [청크 81] 240000 부터 243000 까지 요약 시작 =====\n",
      "\n",
      "--- 청크 81 요약 완료. (17.61 초 걸림) ---\n",
      "\n",
      "\n",
      "===== [청크 82] 243000 부터 246000 까지 요약 시작 =====\n",
      "\n",
      "--- 청크 82 요약 완료. (27.16 초 걸림) ---\n",
      "\n",
      "\n",
      "===== [청크 83] 246000 부터 249000 까지 요약 시작 =====\n",
      "\n",
      "--- 청크 83 요약 완료. (22.62 초 걸림) ---\n",
      "\n",
      "\n",
      "===== [청크 84] 249000 부터 252000 까지 요약 시작 =====\n",
      "\n",
      "--- 청크 84 요약 완료. (17.17 초 걸림) ---\n",
      "\n",
      "\n",
      "===== [청크 85] 252000 부터 255000 까지 요약 시작 =====\n",
      "\n",
      "--- 청크 85 요약 완료. (208.59 초 걸림) ---\n",
      "\n",
      "\n",
      "===== [청크 86] 255000 부터 258000 까지 요약 시작 =====\n",
      "API 호출 중 오류 발생: Error code: 429 - {'error': {'message': 'You exceeded your current quota, please check your plan and billing details. For more information on this error, read the docs: https://platform.openai.com/docs/guides/error-codes/api-errors.', 'type': 'insufficient_quota', 'param': None, 'code': 'insufficient_quota'}}\n",
      "API 호출 중 오류 발생: Error code: 429 - {'error': {'message': 'You exceeded your current quota, please check your plan and billing details. For more information on this error, read the docs: https://platform.openai.com/docs/guides/error-codes/api-errors.', 'type': 'insufficient_quota', 'param': None, 'code': 'insufficient_quota'}}\n",
      "API 호출 중 오류 발생: Error code: 429 - {'error': {'message': 'You exceeded your current quota, please check your plan and billing details. For more information on this error, read the docs: https://platform.openai.com/docs/guides/error-codes/api-errors.', 'type': 'insufficient_quota', 'param': None, 'code': 'insufficient_quota'}}\n",
      "\n",
      "--- 청크 86 요약 완료. (5.03 초 걸림) ---\n",
      "\n",
      "\n",
      "===== [청크 87] 258000 부터 261000 까지 요약 시작 =====\n",
      "API 호출 중 오류 발생: Error code: 429 - {'error': {'message': 'You exceeded your current quota, please check your plan and billing details. For more information on this error, read the docs: https://platform.openai.com/docs/guides/error-codes/api-errors.', 'type': 'insufficient_quota', 'param': None, 'code': 'insufficient_quota'}}\n",
      "API 호출 중 오류 발생: Error code: 429 - {'error': {'message': 'You exceeded your current quota, please check your plan and billing details. For more information on this error, read the docs: https://platform.openai.com/docs/guides/error-codes/api-errors.', 'type': 'insufficient_quota', 'param': None, 'code': 'insufficient_quota'}}\n",
      "API 호출 중 오류 발생: Error code: 429 - {'error': {'message': 'You exceeded your current quota, please check your plan and billing details. For more information on this error, read the docs: https://platform.openai.com/docs/guides/error-codes/api-errors.', 'type': 'insufficient_quota', 'param': None, 'code': 'insufficient_quota'}}\n",
      "\n",
      "--- 청크 87 요약 완료. (4.73 초 걸림) ---\n",
      "\n",
      "\n",
      "===== [청크 88] 261000 부터 264000 까지 요약 시작 =====\n",
      "API 호출 중 오류 발생: Error code: 429 - {'error': {'message': 'You exceeded your current quota, please check your plan and billing details. For more information on this error, read the docs: https://platform.openai.com/docs/guides/error-codes/api-errors.', 'type': 'insufficient_quota', 'param': None, 'code': 'insufficient_quota'}}\n",
      "API 호출 중 오류 발생: Error code: 429 - {'error': {'message': 'You exceeded your current quota, please check your plan and billing details. For more information on this error, read the docs: https://platform.openai.com/docs/guides/error-codes/api-errors.', 'type': 'insufficient_quota', 'param': None, 'code': 'insufficient_quota'}}\n",
      "API 호출 중 오류 발생: Error code: 429 - {'error': {'message': 'You exceeded your current quota, please check your plan and billing details. For more information on this error, read the docs: https://platform.openai.com/docs/guides/error-codes/api-errors.', 'type': 'insufficient_quota', 'param': None, 'code': 'insufficient_quota'}}\n",
      "\n",
      "--- 청크 88 요약 완료. (4.74 초 걸림) ---\n",
      "\n",
      "\n",
      "===== [청크 89] 264000 부터 267000 까지 요약 시작 =====\n",
      "API 호출 중 오류 발생: Error code: 429 - {'error': {'message': 'You exceeded your current quota, please check your plan and billing details. For more information on this error, read the docs: https://platform.openai.com/docs/guides/error-codes/api-errors.', 'type': 'insufficient_quota', 'param': None, 'code': 'insufficient_quota'}}\n",
      "API 호출 중 오류 발생: Error code: 429 - {'error': {'message': 'You exceeded your current quota, please check your plan and billing details. For more information on this error, read the docs: https://platform.openai.com/docs/guides/error-codes/api-errors.', 'type': 'insufficient_quota', 'param': None, 'code': 'insufficient_quota'}}\n",
      "API 호출 중 오류 발생: Error code: 429 - {'error': {'message': 'You exceeded your current quota, please check your plan and billing details. For more information on this error, read the docs: https://platform.openai.com/docs/guides/error-codes/api-errors.', 'type': 'insufficient_quota', 'param': None, 'code': 'insufficient_quota'}}\n",
      "\n",
      "--- 청크 89 요약 완료. (4.56 초 걸림) ---\n",
      "\n",
      "\n",
      "===== [청크 90] 267000 부터 270000 까지 요약 시작 =====\n",
      "API 호출 중 오류 발생: Error code: 429 - {'error': {'message': 'You exceeded your current quota, please check your plan and billing details. For more information on this error, read the docs: https://platform.openai.com/docs/guides/error-codes/api-errors.', 'type': 'insufficient_quota', 'param': None, 'code': 'insufficient_quota'}}\n",
      "API 호출 중 오류 발생: Error code: 429 - {'error': {'message': 'You exceeded your current quota, please check your plan and billing details. For more information on this error, read the docs: https://platform.openai.com/docs/guides/error-codes/api-errors.', 'type': 'insufficient_quota', 'param': None, 'code': 'insufficient_quota'}}\n",
      "API 호출 중 오류 발생: Error code: 429 - {'error': {'message': 'You exceeded your current quota, please check your plan and billing details. For more information on this error, read the docs: https://platform.openai.com/docs/guides/error-codes/api-errors.', 'type': 'insufficient_quota', 'param': None, 'code': 'insufficient_quota'}}\n",
      "\n",
      "--- 청크 90 요약 완료. (4.97 초 걸림) ---\n",
      "\n",
      "\n",
      "===== [청크 91] 270000 부터 273000 까지 요약 시작 =====\n",
      "API 호출 중 오류 발생: Error code: 429 - {'error': {'message': 'You exceeded your current quota, please check your plan and billing details. For more information on this error, read the docs: https://platform.openai.com/docs/guides/error-codes/api-errors.', 'type': 'insufficient_quota', 'param': None, 'code': 'insufficient_quota'}}\n",
      "API 호출 중 오류 발생: Error code: 429 - {'error': {'message': 'You exceeded your current quota, please check your plan and billing details. For more information on this error, read the docs: https://platform.openai.com/docs/guides/error-codes/api-errors.', 'type': 'insufficient_quota', 'param': None, 'code': 'insufficient_quota'}}\n",
      "API 호출 중 오류 발생: Error code: 429 - {'error': {'message': 'You exceeded your current quota, please check your plan and billing details. For more information on this error, read the docs: https://platform.openai.com/docs/guides/error-codes/api-errors.', 'type': 'insufficient_quota', 'param': None, 'code': 'insufficient_quota'}}\n",
      "\n",
      "--- 청크 91 요약 완료. (4.58 초 걸림) ---\n",
      "\n",
      "\n",
      "===== [청크 92] 273000 부터 276000 까지 요약 시작 =====\n",
      "API 호출 중 오류 발생: Error code: 429 - {'error': {'message': 'You exceeded your current quota, please check your plan and billing details. For more information on this error, read the docs: https://platform.openai.com/docs/guides/error-codes/api-errors.', 'type': 'insufficient_quota', 'param': None, 'code': 'insufficient_quota'}}\n",
      "API 호출 중 오류 발생: Error code: 429 - {'error': {'message': 'You exceeded your current quota, please check your plan and billing details. For more information on this error, read the docs: https://platform.openai.com/docs/guides/error-codes/api-errors.', 'type': 'insufficient_quota', 'param': None, 'code': 'insufficient_quota'}}\n",
      "API 호출 중 오류 발생: Error code: 429 - {'error': {'message': 'You exceeded your current quota, please check your plan and billing details. For more information on this error, read the docs: https://platform.openai.com/docs/guides/error-codes/api-errors.', 'type': 'insufficient_quota', 'param': None, 'code': 'insufficient_quota'}}\n",
      "\n",
      "--- 청크 92 요약 완료. (4.46 초 걸림) ---\n",
      "\n",
      "\n",
      "===== [청크 93] 276000 부터 279000 까지 요약 시작 =====\n",
      "API 호출 중 오류 발생: Error code: 429 - {'error': {'message': 'You exceeded your current quota, please check your plan and billing details. For more information on this error, read the docs: https://platform.openai.com/docs/guides/error-codes/api-errors.', 'type': 'insufficient_quota', 'param': None, 'code': 'insufficient_quota'}}\n",
      "API 호출 중 오류 발생: Error code: 429 - {'error': {'message': 'You exceeded your current quota, please check your plan and billing details. For more information on this error, read the docs: https://platform.openai.com/docs/guides/error-codes/api-errors.', 'type': 'insufficient_quota', 'param': None, 'code': 'insufficient_quota'}}\n",
      "API 호출 중 오류 발생: Error code: 429 - {'error': {'message': 'You exceeded your current quota, please check your plan and billing details. For more information on this error, read the docs: https://platform.openai.com/docs/guides/error-codes/api-errors.', 'type': 'insufficient_quota', 'param': None, 'code': 'insufficient_quota'}}\n",
      "\n",
      "--- 청크 93 요약 완료. (4.59 초 걸림) ---\n",
      "\n",
      "\n",
      "===== [청크 94] 279000 부터 282000 까지 요약 시작 =====\n",
      "API 호출 중 오류 발생: Error code: 429 - {'error': {'message': 'You exceeded your current quota, please check your plan and billing details. For more information on this error, read the docs: https://platform.openai.com/docs/guides/error-codes/api-errors.', 'type': 'insufficient_quota', 'param': None, 'code': 'insufficient_quota'}}\n",
      "API 호출 중 오류 발생: Error code: 429 - {'error': {'message': 'You exceeded your current quota, please check your plan and billing details. For more information on this error, read the docs: https://platform.openai.com/docs/guides/error-codes/api-errors.', 'type': 'insufficient_quota', 'param': None, 'code': 'insufficient_quota'}}\n",
      "API 호출 중 오류 발생: Error code: 429 - {'error': {'message': 'You exceeded your current quota, please check your plan and billing details. For more information on this error, read the docs: https://platform.openai.com/docs/guides/error-codes/api-errors.', 'type': 'insufficient_quota', 'param': None, 'code': 'insufficient_quota'}}\n",
      "\n",
      "--- 청크 94 요약 완료. (4.58 초 걸림) ---\n",
      "\n",
      "\n",
      "===== [청크 95] 282000 부터 285000 까지 요약 시작 =====\n",
      "API 호출 중 오류 발생: Error code: 429 - {'error': {'message': 'You exceeded your current quota, please check your plan and billing details. For more information on this error, read the docs: https://platform.openai.com/docs/guides/error-codes/api-errors.', 'type': 'insufficient_quota', 'param': None, 'code': 'insufficient_quota'}}\n",
      "API 호출 중 오류 발생: Error code: 429 - {'error': {'message': 'You exceeded your current quota, please check your plan and billing details. For more information on this error, read the docs: https://platform.openai.com/docs/guides/error-codes/api-errors.', 'type': 'insufficient_quota', 'param': None, 'code': 'insufficient_quota'}}\n",
      "API 호출 중 오류 발생: Error code: 429 - {'error': {'message': 'You exceeded your current quota, please check your plan and billing details. For more information on this error, read the docs: https://platform.openai.com/docs/guides/error-codes/api-errors.', 'type': 'insufficient_quota', 'param': None, 'code': 'insufficient_quota'}}\n",
      "\n",
      "--- 청크 95 요약 완료. (4.58 초 걸림) ---\n",
      "\n",
      "\n",
      "===== [청크 96] 285000 부터 288000 까지 요약 시작 =====\n",
      "API 호출 중 오류 발생: Error code: 429 - {'error': {'message': 'You exceeded your current quota, please check your plan and billing details. For more information on this error, read the docs: https://platform.openai.com/docs/guides/error-codes/api-errors.', 'type': 'insufficient_quota', 'param': None, 'code': 'insufficient_quota'}}\n",
      "API 호출 중 오류 발생: Error code: 429 - {'error': {'message': 'You exceeded your current quota, please check your plan and billing details. For more information on this error, read the docs: https://platform.openai.com/docs/guides/error-codes/api-errors.', 'type': 'insufficient_quota', 'param': None, 'code': 'insufficient_quota'}}\n",
      "API 호출 중 오류 발생: Error code: 429 - {'error': {'message': 'You exceeded your current quota, please check your plan and billing details. For more information on this error, read the docs: https://platform.openai.com/docs/guides/error-codes/api-errors.', 'type': 'insufficient_quota', 'param': None, 'code': 'insufficient_quota'}}\n",
      "\n",
      "--- 청크 96 요약 완료. (4.63 초 걸림) ---\n",
      "\n",
      "\n",
      "===== [청크 97] 288000 부터 291000 까지 요약 시작 =====\n",
      "API 호출 중 오류 발생: Error code: 429 - {'error': {'message': 'You exceeded your current quota, please check your plan and billing details. For more information on this error, read the docs: https://platform.openai.com/docs/guides/error-codes/api-errors.', 'type': 'insufficient_quota', 'param': None, 'code': 'insufficient_quota'}}\n",
      "API 호출 중 오류 발생: Error code: 429 - {'error': {'message': 'You exceeded your current quota, please check your plan and billing details. For more information on this error, read the docs: https://platform.openai.com/docs/guides/error-codes/api-errors.', 'type': 'insufficient_quota', 'param': None, 'code': 'insufficient_quota'}}\n",
      "API 호출 중 오류 발생: Error code: 429 - {'error': {'message': 'You exceeded your current quota, please check your plan and billing details. For more information on this error, read the docs: https://platform.openai.com/docs/guides/error-codes/api-errors.', 'type': 'insufficient_quota', 'param': None, 'code': 'insufficient_quota'}}\n",
      "\n",
      "--- 청크 97 요약 완료. (4.71 초 걸림) ---\n",
      "\n",
      "\n",
      "===== [청크 98] 291000 부터 294000 까지 요약 시작 =====\n",
      "API 호출 중 오류 발생: Error code: 429 - {'error': {'message': 'You exceeded your current quota, please check your plan and billing details. For more information on this error, read the docs: https://platform.openai.com/docs/guides/error-codes/api-errors.', 'type': 'insufficient_quota', 'param': None, 'code': 'insufficient_quota'}}\n",
      "API 호출 중 오류 발생: Error code: 429 - {'error': {'message': 'You exceeded your current quota, please check your plan and billing details. For more information on this error, read the docs: https://platform.openai.com/docs/guides/error-codes/api-errors.', 'type': 'insufficient_quota', 'param': None, 'code': 'insufficient_quota'}}\n",
      "API 호출 중 오류 발생: Error code: 429 - {'error': {'message': 'You exceeded your current quota, please check your plan and billing details. For more information on this error, read the docs: https://platform.openai.com/docs/guides/error-codes/api-errors.', 'type': 'insufficient_quota', 'param': None, 'code': 'insufficient_quota'}}\n",
      "\n",
      "--- 청크 98 요약 완료. (4.61 초 걸림) ---\n",
      "\n",
      "\n",
      "===== [청크 99] 294000 부터 297000 까지 요약 시작 =====\n",
      "API 호출 중 오류 발생: Error code: 429 - {'error': {'message': 'You exceeded your current quota, please check your plan and billing details. For more information on this error, read the docs: https://platform.openai.com/docs/guides/error-codes/api-errors.', 'type': 'insufficient_quota', 'param': None, 'code': 'insufficient_quota'}}\n",
      "API 호출 중 오류 발생: Error code: 429 - {'error': {'message': 'You exceeded your current quota, please check your plan and billing details. For more information on this error, read the docs: https://platform.openai.com/docs/guides/error-codes/api-errors.', 'type': 'insufficient_quota', 'param': None, 'code': 'insufficient_quota'}}\n",
      "API 호출 중 오류 발생: Error code: 429 - {'error': {'message': 'You exceeded your current quota, please check your plan and billing details. For more information on this error, read the docs: https://platform.openai.com/docs/guides/error-codes/api-errors.', 'type': 'insufficient_quota', 'param': None, 'code': 'insufficient_quota'}}\n",
      "\n",
      "--- 청크 99 요약 완료. (4.46 초 걸림) ---\n",
      "\n",
      "\n",
      "===== [청크 100] 297000 부터 300000 까지 요약 시작 =====\n",
      "API 호출 중 오류 발생: Error code: 429 - {'error': {'message': 'You exceeded your current quota, please check your plan and billing details. For more information on this error, read the docs: https://platform.openai.com/docs/guides/error-codes/api-errors.', 'type': 'insufficient_quota', 'param': None, 'code': 'insufficient_quota'}}\n",
      "API 호출 중 오류 발생: Error code: 429 - {'error': {'message': 'You exceeded your current quota, please check your plan and billing details. For more information on this error, read the docs: https://platform.openai.com/docs/guides/error-codes/api-errors.', 'type': 'insufficient_quota', 'param': None, 'code': 'insufficient_quota'}}\n",
      "API 호출 중 오류 발생: Error code: 429 - {'error': {'message': 'You exceeded your current quota, please check your plan and billing details. For more information on this error, read the docs: https://platform.openai.com/docs/guides/error-codes/api-errors.', 'type': 'insufficient_quota', 'param': None, 'code': 'insufficient_quota'}}\n",
      "\n",
      "--- 청크 100 요약 완료. (5.77 초 걸림) ---\n",
      "\n",
      "\n",
      "===== [청크 101] 300000 부터 303000 까지 요약 시작 =====\n",
      "API 호출 중 오류 발생: Error code: 429 - {'error': {'message': 'You exceeded your current quota, please check your plan and billing details. For more information on this error, read the docs: https://platform.openai.com/docs/guides/error-codes/api-errors.', 'type': 'insufficient_quota', 'param': None, 'code': 'insufficient_quota'}}\n",
      "API 호출 중 오류 발생: Error code: 429 - {'error': {'message': 'You exceeded your current quota, please check your plan and billing details. For more information on this error, read the docs: https://platform.openai.com/docs/guides/error-codes/api-errors.', 'type': 'insufficient_quota', 'param': None, 'code': 'insufficient_quota'}}\n",
      "API 호출 중 오류 발생: Error code: 429 - {'error': {'message': 'You exceeded your current quota, please check your plan and billing details. For more information on this error, read the docs: https://platform.openai.com/docs/guides/error-codes/api-errors.', 'type': 'insufficient_quota', 'param': None, 'code': 'insufficient_quota'}}\n",
      "\n",
      "--- 청크 101 요약 완료. (4.95 초 걸림) ---\n",
      "\n",
      "\n",
      "===== [청크 102] 303000 부터 306000 까지 요약 시작 =====\n",
      "API 호출 중 오류 발생: Error code: 429 - {'error': {'message': 'You exceeded your current quota, please check your plan and billing details. For more information on this error, read the docs: https://platform.openai.com/docs/guides/error-codes/api-errors.', 'type': 'insufficient_quota', 'param': None, 'code': 'insufficient_quota'}}\n",
      "API 호출 중 오류 발생: Error code: 429 - {'error': {'message': 'You exceeded your current quota, please check your plan and billing details. For more information on this error, read the docs: https://platform.openai.com/docs/guides/error-codes/api-errors.', 'type': 'insufficient_quota', 'param': None, 'code': 'insufficient_quota'}}\n",
      "API 호출 중 오류 발생: Error code: 429 - {'error': {'message': 'You exceeded your current quota, please check your plan and billing details. For more information on this error, read the docs: https://platform.openai.com/docs/guides/error-codes/api-errors.', 'type': 'insufficient_quota', 'param': None, 'code': 'insufficient_quota'}}\n",
      "\n",
      "--- 청크 102 요약 완료. (4.67 초 걸림) ---\n",
      "\n",
      "\n",
      "===== [청크 103] 306000 부터 309000 까지 요약 시작 =====\n",
      "API 호출 중 오류 발생: Error code: 429 - {'error': {'message': 'You exceeded your current quota, please check your plan and billing details. For more information on this error, read the docs: https://platform.openai.com/docs/guides/error-codes/api-errors.', 'type': 'insufficient_quota', 'param': None, 'code': 'insufficient_quota'}}\n",
      "API 호출 중 오류 발생: Error code: 429 - {'error': {'message': 'You exceeded your current quota, please check your plan and billing details. For more information on this error, read the docs: https://platform.openai.com/docs/guides/error-codes/api-errors.', 'type': 'insufficient_quota', 'param': None, 'code': 'insufficient_quota'}}\n",
      "API 호출 중 오류 발생: Error code: 429 - {'error': {'message': 'You exceeded your current quota, please check your plan and billing details. For more information on this error, read the docs: https://platform.openai.com/docs/guides/error-codes/api-errors.', 'type': 'insufficient_quota', 'param': None, 'code': 'insufficient_quota'}}\n",
      "\n",
      "--- 청크 103 요약 완료. (4.61 초 걸림) ---\n",
      "\n",
      "\n",
      "===== [청크 104] 309000 부터 312000 까지 요약 시작 =====\n",
      "API 호출 중 오류 발생: Error code: 429 - {'error': {'message': 'You exceeded your current quota, please check your plan and billing details. For more information on this error, read the docs: https://platform.openai.com/docs/guides/error-codes/api-errors.', 'type': 'insufficient_quota', 'param': None, 'code': 'insufficient_quota'}}\n",
      "API 호출 중 오류 발생: Error code: 429 - {'error': {'message': 'You exceeded your current quota, please check your plan and billing details. For more information on this error, read the docs: https://platform.openai.com/docs/guides/error-codes/api-errors.', 'type': 'insufficient_quota', 'param': None, 'code': 'insufficient_quota'}}\n",
      "API 호출 중 오류 발생: Error code: 429 - {'error': {'message': 'You exceeded your current quota, please check your plan and billing details. For more information on this error, read the docs: https://platform.openai.com/docs/guides/error-codes/api-errors.', 'type': 'insufficient_quota', 'param': None, 'code': 'insufficient_quota'}}\n",
      "\n",
      "--- 청크 104 요약 완료. (4.80 초 걸림) ---\n",
      "\n",
      "\n",
      "===== [청크 105] 312000 부터 315000 까지 요약 시작 =====\n",
      "API 호출 중 오류 발생: Error code: 429 - {'error': {'message': 'You exceeded your current quota, please check your plan and billing details. For more information on this error, read the docs: https://platform.openai.com/docs/guides/error-codes/api-errors.', 'type': 'insufficient_quota', 'param': None, 'code': 'insufficient_quota'}}\n"
     ]
    },
    {
     "output_type": "error",
     "ename": "KeyboardInterrupt",
     "evalue": "",
     "traceback": [
      "\u001B[0;31m---------------------------------------------------------------------------\u001B[0m",
      "\u001B[0;31mHTTPStatusError\u001B[0m                           Traceback (most recent call last)",
      "\u001B[0;32m/usr/local/lib/python3.11/dist-packages/openai/_base_client.py\u001B[0m in \u001B[0;36mrequest\u001B[0;34m(self, cast_to, options, stream, stream_cls)\u001B[0m\n\u001B[1;32m   1013\u001B[0m             \u001B[0;32mtry\u001B[0m\u001B[0;34m:\u001B[0m\u001B[0;34m\u001B[0m\u001B[0;34m\u001B[0m\u001B[0m\n\u001B[0;32m-> 1014\u001B[0;31m                 \u001B[0mresponse\u001B[0m\u001B[0;34m.\u001B[0m\u001B[0mraise_for_status\u001B[0m\u001B[0;34m(\u001B[0m\u001B[0;34m)\u001B[0m\u001B[0;34m\u001B[0m\u001B[0;34m\u001B[0m\u001B[0m\n\u001B[0m\u001B[1;32m   1015\u001B[0m             \u001B[0;32mexcept\u001B[0m \u001B[0mhttpx\u001B[0m\u001B[0;34m.\u001B[0m\u001B[0mHTTPStatusError\u001B[0m \u001B[0;32mas\u001B[0m \u001B[0merr\u001B[0m\u001B[0;34m:\u001B[0m  \u001B[0;31m# thrown on 4xx and 5xx status code\u001B[0m\u001B[0;34m\u001B[0m\u001B[0;34m\u001B[0m\u001B[0m\n",
      "\u001B[0;32m/usr/local/lib/python3.11/dist-packages/httpx/_models.py\u001B[0m in \u001B[0;36mraise_for_status\u001B[0;34m(self)\u001B[0m\n\u001B[1;32m    828\u001B[0m         \u001B[0mmessage\u001B[0m \u001B[0;34m=\u001B[0m \u001B[0mmessage\u001B[0m\u001B[0;34m.\u001B[0m\u001B[0mformat\u001B[0m\u001B[0;34m(\u001B[0m\u001B[0mself\u001B[0m\u001B[0;34m,\u001B[0m \u001B[0merror_type\u001B[0m\u001B[0;34m=\u001B[0m\u001B[0merror_type\u001B[0m\u001B[0;34m)\u001B[0m\u001B[0;34m\u001B[0m\u001B[0;34m\u001B[0m\u001B[0m\n\u001B[0;32m--> 829\u001B[0;31m         \u001B[0;32mraise\u001B[0m \u001B[0mHTTPStatusError\u001B[0m\u001B[0;34m(\u001B[0m\u001B[0mmessage\u001B[0m\u001B[0;34m,\u001B[0m \u001B[0mrequest\u001B[0m\u001B[0;34m=\u001B[0m\u001B[0mrequest\u001B[0m\u001B[0;34m,\u001B[0m \u001B[0mresponse\u001B[0m\u001B[0;34m=\u001B[0m\u001B[0mself\u001B[0m\u001B[0;34m)\u001B[0m\u001B[0;34m\u001B[0m\u001B[0;34m\u001B[0m\u001B[0m\n\u001B[0m\u001B[1;32m    830\u001B[0m \u001B[0;34m\u001B[0m\u001B[0m\n",
      "\u001B[0;31mHTTPStatusError\u001B[0m: Client error '429 Too Many Requests' for url 'https://api.openai.com/v1/chat/completions'\nFor more information check: https://developer.mozilla.org/en-US/docs/Web/HTTP/Status/429",
      "\nDuring handling of the above exception, another exception occurred:\n",
      "\u001B[0;31mKeyboardInterrupt\u001B[0m                         Traceback (most recent call last)",
      "\u001B[0;32m<ipython-input-24-46d93582b625>\u001B[0m in \u001B[0;36m<cell line: 0>\u001B[0;34m()\u001B[0m\n\u001B[1;32m      3\u001B[0m \u001B[0;34m\u001B[0m\u001B[0m\n\u001B[1;32m      4\u001B[0m     \u001B[0;31m# 함수 호출 및 결과 받기\u001B[0m\u001B[0;34m\u001B[0m\u001B[0;34m\u001B[0m\u001B[0m\n\u001B[0;32m----> 5\u001B[0;31m     chunk_summaries_list = summarize_policy_in_chunks(\n\u001B[0m\u001B[1;32m      6\u001B[0m         \u001B[0mextracted_text\u001B[0m\u001B[0;34m=\u001B[0m\u001B[0mextracted_text\u001B[0m\u001B[0;34m,\u001B[0m\u001B[0;34m\u001B[0m\u001B[0;34m\u001B[0m\u001B[0m\n\u001B[1;32m      7\u001B[0m         \u001B[0mchunk_size\u001B[0m\u001B[0;34m=\u001B[0m\u001B[0;36m3000\u001B[0m\u001B[0;34m,\u001B[0m \u001B[0;31m# 3000자씩 나누어 요약\u001B[0m\u001B[0;34m\u001B[0m\u001B[0;34m\u001B[0m\u001B[0m\n",
      "\u001B[0;32m<ipython-input-13-8b7baf392f20>\u001B[0m in \u001B[0;36msummarize_policy_in_chunks\u001B[0;34m(extracted_text, chunk_size, summary_iterations, model, temperature)\u001B[0m\n\u001B[1;32m     50\u001B[0m         \u001B[0;31m# 정의된 get_most_consistent_summary 함수를 사용하여 현재 청크 요약\u001B[0m\u001B[0;34m\u001B[0m\u001B[0;34m\u001B[0m\u001B[0m\n\u001B[1;32m     51\u001B[0m         \u001B[0;31m# 이전 청크 요약 결과 (previous_summary)를 인자로 전달합니다.\u001B[0m\u001B[0;34m\u001B[0m\u001B[0;34m\u001B[0m\u001B[0m\n\u001B[0;32m---> 52\u001B[0;31m         consistent_summary_text, _ = get_most_consistent_summary(\n\u001B[0m\u001B[1;32m     53\u001B[0m             \u001B[0mclause_text\u001B[0m\u001B[0;34m=\u001B[0m\u001B[0mcurrent_chunk\u001B[0m\u001B[0;34m,\u001B[0m\u001B[0;34m\u001B[0m\u001B[0;34m\u001B[0m\u001B[0m\n\u001B[1;32m     54\u001B[0m             \u001B[0mprevious_summary\u001B[0m\u001B[0;34m=\u001B[0m\u001B[0mprevious_summary\u001B[0m\u001B[0;34m,\u001B[0m \u001B[0;31m# <-- 이전 청크 요약 전달!\u001B[0m\u001B[0;34m\u001B[0m\u001B[0;34m\u001B[0m\u001B[0m\n",
      "\u001B[0;32m<ipython-input-9-7072779bbe4c>\u001B[0m in \u001B[0;36mget_most_consistent_summary\u001B[0;34m(clause_text, previous_summary, iterations, model, temperature)\u001B[0m\n\u001B[1;32m     24\u001B[0m \u001B[0;34m\u001B[0m\u001B[0m\n\u001B[1;32m     25\u001B[0m         \u001B[0;32mtry\u001B[0m\u001B[0;34m:\u001B[0m\u001B[0;34m\u001B[0m\u001B[0;34m\u001B[0m\u001B[0m\n\u001B[0;32m---> 26\u001B[0;31m             response = client.chat.completions.create(\n\u001B[0m\u001B[1;32m     27\u001B[0m                 \u001B[0mmodel\u001B[0m\u001B[0;34m=\u001B[0m\u001B[0mmodel\u001B[0m\u001B[0;34m,\u001B[0m\u001B[0;34m\u001B[0m\u001B[0;34m\u001B[0m\u001B[0m\n\u001B[1;32m     28\u001B[0m                 \u001B[0mmessages\u001B[0m\u001B[0;34m=\u001B[0m\u001B[0;34m[\u001B[0m\u001B[0;34m{\u001B[0m\u001B[0;34m\"role\"\u001B[0m\u001B[0;34m:\u001B[0m \u001B[0;34m\"user\"\u001B[0m\u001B[0;34m,\u001B[0m \u001B[0;34m\"content\"\u001B[0m\u001B[0;34m:\u001B[0m \u001B[0mmessage\u001B[0m\u001B[0;34m}\u001B[0m\u001B[0;34m]\u001B[0m\u001B[0;34m,\u001B[0m\u001B[0;34m\u001B[0m\u001B[0;34m\u001B[0m\u001B[0m\n",
      "\u001B[0;32m/usr/local/lib/python3.11/dist-packages/openai/_utils/_utils.py\u001B[0m in \u001B[0;36mwrapper\u001B[0;34m(*args, **kwargs)\u001B[0m\n\u001B[1;32m    285\u001B[0m                         \u001B[0mmsg\u001B[0m \u001B[0;34m=\u001B[0m \u001B[0;34mf\"Missing required argument: {quote(missing[0])}\"\u001B[0m\u001B[0;34m\u001B[0m\u001B[0;34m\u001B[0m\u001B[0m\n\u001B[1;32m    286\u001B[0m                 \u001B[0;32mraise\u001B[0m \u001B[0mTypeError\u001B[0m\u001B[0;34m(\u001B[0m\u001B[0mmsg\u001B[0m\u001B[0;34m)\u001B[0m\u001B[0;34m\u001B[0m\u001B[0;34m\u001B[0m\u001B[0m\n\u001B[0;32m--> 287\u001B[0;31m             \u001B[0;32mreturn\u001B[0m \u001B[0mfunc\u001B[0m\u001B[0;34m(\u001B[0m\u001B[0;34m*\u001B[0m\u001B[0margs\u001B[0m\u001B[0;34m,\u001B[0m \u001B[0;34m**\u001B[0m\u001B[0mkwargs\u001B[0m\u001B[0;34m)\u001B[0m\u001B[0;34m\u001B[0m\u001B[0;34m\u001B[0m\u001B[0m\n\u001B[0m\u001B[1;32m    288\u001B[0m \u001B[0;34m\u001B[0m\u001B[0m\n\u001B[1;32m    289\u001B[0m         \u001B[0;32mreturn\u001B[0m \u001B[0mwrapper\u001B[0m  \u001B[0;31m# type: ignore\u001B[0m\u001B[0;34m\u001B[0m\u001B[0;34m\u001B[0m\u001B[0m\n",
      "\u001B[0;32m/usr/local/lib/python3.11/dist-packages/openai/resources/chat/completions/completions.py\u001B[0m in \u001B[0;36mcreate\u001B[0;34m(self, messages, model, audio, frequency_penalty, function_call, functions, logit_bias, logprobs, max_completion_tokens, max_tokens, metadata, modalities, n, parallel_tool_calls, prediction, presence_penalty, reasoning_effort, response_format, seed, service_tier, stop, store, stream, stream_options, temperature, tool_choice, tools, top_logprobs, top_p, user, web_search_options, extra_headers, extra_query, extra_body, timeout)\u001B[0m\n\u001B[1;32m    923\u001B[0m     ) -> ChatCompletion | Stream[ChatCompletionChunk]:\n\u001B[1;32m    924\u001B[0m         \u001B[0mvalidate_response_format\u001B[0m\u001B[0;34m(\u001B[0m\u001B[0mresponse_format\u001B[0m\u001B[0;34m)\u001B[0m\u001B[0;34m\u001B[0m\u001B[0;34m\u001B[0m\u001B[0m\n\u001B[0;32m--> 925\u001B[0;31m         return self._post(\n\u001B[0m\u001B[1;32m    926\u001B[0m             \u001B[0;34m\"/chat/completions\"\u001B[0m\u001B[0;34m,\u001B[0m\u001B[0;34m\u001B[0m\u001B[0;34m\u001B[0m\u001B[0m\n\u001B[1;32m    927\u001B[0m             body=maybe_transform(\n",
      "\u001B[0;32m/usr/local/lib/python3.11/dist-packages/openai/_base_client.py\u001B[0m in \u001B[0;36mpost\u001B[0;34m(self, path, cast_to, body, options, files, stream, stream_cls)\u001B[0m\n\u001B[1;32m   1237\u001B[0m             \u001B[0mmethod\u001B[0m\u001B[0;34m=\u001B[0m\u001B[0;34m\"post\"\u001B[0m\u001B[0;34m,\u001B[0m \u001B[0murl\u001B[0m\u001B[0;34m=\u001B[0m\u001B[0mpath\u001B[0m\u001B[0;34m,\u001B[0m \u001B[0mjson_data\u001B[0m\u001B[0;34m=\u001B[0m\u001B[0mbody\u001B[0m\u001B[0;34m,\u001B[0m \u001B[0mfiles\u001B[0m\u001B[0;34m=\u001B[0m\u001B[0mto_httpx_files\u001B[0m\u001B[0;34m(\u001B[0m\u001B[0mfiles\u001B[0m\u001B[0;34m)\u001B[0m\u001B[0;34m,\u001B[0m \u001B[0;34m**\u001B[0m\u001B[0moptions\u001B[0m\u001B[0;34m\u001B[0m\u001B[0;34m\u001B[0m\u001B[0m\n\u001B[1;32m   1238\u001B[0m         )\n\u001B[0;32m-> 1239\u001B[0;31m         \u001B[0;32mreturn\u001B[0m \u001B[0mcast\u001B[0m\u001B[0;34m(\u001B[0m\u001B[0mResponseT\u001B[0m\u001B[0;34m,\u001B[0m \u001B[0mself\u001B[0m\u001B[0;34m.\u001B[0m\u001B[0mrequest\u001B[0m\u001B[0;34m(\u001B[0m\u001B[0mcast_to\u001B[0m\u001B[0;34m,\u001B[0m \u001B[0mopts\u001B[0m\u001B[0;34m,\u001B[0m \u001B[0mstream\u001B[0m\u001B[0;34m=\u001B[0m\u001B[0mstream\u001B[0m\u001B[0;34m,\u001B[0m \u001B[0mstream_cls\u001B[0m\u001B[0;34m=\u001B[0m\u001B[0mstream_cls\u001B[0m\u001B[0;34m)\u001B[0m\u001B[0;34m)\u001B[0m\u001B[0;34m\u001B[0m\u001B[0;34m\u001B[0m\u001B[0m\n\u001B[0m\u001B[1;32m   1240\u001B[0m \u001B[0;34m\u001B[0m\u001B[0m\n\u001B[1;32m   1241\u001B[0m     def patch(\n",
      "\u001B[0;32m/usr/local/lib/python3.11/dist-packages/openai/_base_client.py\u001B[0m in \u001B[0;36mrequest\u001B[0;34m(self, cast_to, options, stream, stream_cls)\u001B[0m\n\u001B[1;32m   1018\u001B[0m                 \u001B[0;32mif\u001B[0m \u001B[0mremaining_retries\u001B[0m \u001B[0;34m>\u001B[0m \u001B[0;36m0\u001B[0m \u001B[0;32mand\u001B[0m \u001B[0mself\u001B[0m\u001B[0;34m.\u001B[0m\u001B[0m_should_retry\u001B[0m\u001B[0;34m(\u001B[0m\u001B[0merr\u001B[0m\u001B[0;34m.\u001B[0m\u001B[0mresponse\u001B[0m\u001B[0;34m)\u001B[0m\u001B[0;34m:\u001B[0m\u001B[0;34m\u001B[0m\u001B[0;34m\u001B[0m\u001B[0m\n\u001B[1;32m   1019\u001B[0m                     \u001B[0merr\u001B[0m\u001B[0;34m.\u001B[0m\u001B[0mresponse\u001B[0m\u001B[0;34m.\u001B[0m\u001B[0mclose\u001B[0m\u001B[0;34m(\u001B[0m\u001B[0;34m)\u001B[0m\u001B[0;34m\u001B[0m\u001B[0;34m\u001B[0m\u001B[0m\n\u001B[0;32m-> 1020\u001B[0;31m                     self._sleep_for_retry(\n\u001B[0m\u001B[1;32m   1021\u001B[0m                         \u001B[0mretries_taken\u001B[0m\u001B[0;34m=\u001B[0m\u001B[0mretries_taken\u001B[0m\u001B[0;34m,\u001B[0m\u001B[0;34m\u001B[0m\u001B[0;34m\u001B[0m\u001B[0m\n\u001B[1;32m   1022\u001B[0m                         \u001B[0mmax_retries\u001B[0m\u001B[0;34m=\u001B[0m\u001B[0mmax_retries\u001B[0m\u001B[0;34m,\u001B[0m\u001B[0;34m\u001B[0m\u001B[0;34m\u001B[0m\u001B[0m\n",
      "\u001B[0;32m/usr/local/lib/python3.11/dist-packages/openai/_base_client.py\u001B[0m in \u001B[0;36m_sleep_for_retry\u001B[0;34m(self, retries_taken, max_retries, options, response)\u001B[0m\n\u001B[1;32m   1058\u001B[0m         \u001B[0mlog\u001B[0m\u001B[0;34m.\u001B[0m\u001B[0minfo\u001B[0m\u001B[0;34m(\u001B[0m\u001B[0;34m\"Retrying request to %s in %f seconds\"\u001B[0m\u001B[0;34m,\u001B[0m \u001B[0moptions\u001B[0m\u001B[0;34m.\u001B[0m\u001B[0murl\u001B[0m\u001B[0;34m,\u001B[0m \u001B[0mtimeout\u001B[0m\u001B[0;34m)\u001B[0m\u001B[0;34m\u001B[0m\u001B[0;34m\u001B[0m\u001B[0m\n\u001B[1;32m   1059\u001B[0m \u001B[0;34m\u001B[0m\u001B[0m\n\u001B[0;32m-> 1060\u001B[0;31m         \u001B[0mtime\u001B[0m\u001B[0;34m.\u001B[0m\u001B[0msleep\u001B[0m\u001B[0;34m(\u001B[0m\u001B[0mtimeout\u001B[0m\u001B[0;34m)\u001B[0m\u001B[0;34m\u001B[0m\u001B[0;34m\u001B[0m\u001B[0m\n\u001B[0m\u001B[1;32m   1061\u001B[0m \u001B[0;34m\u001B[0m\u001B[0m\n\u001B[1;32m   1062\u001B[0m     def _process_response(\n",
      "\u001B[0;31mKeyboardInterrupt\u001B[0m: "
     ]
    }
   ]
  },
  {
   "cell_type": "code",
   "source": [],
   "metadata": {
    "id": "_fVw2To58T8V"
   },
   "execution_count": null,
   "outputs": []
  },
  {
   "cell_type": "markdown",
   "metadata": {
    "id": "kup2KFKKu9yz"
   },
   "source": [
    "#### 청크로 나누고 요약하는 함수 실행"
   ]
  },
  {
   "cell_type": "markdown",
   "metadata": {
    "id": "aO7_vJPdvMxZ"
   },
   "source": [
    "- db손해보험-반려묘 보험"
   ]
  },
  {
   "cell_type": "code",
   "source": [],
   "metadata": {
    "id": "GTJIcZx3dqer"
   },
   "execution_count": null,
   "outputs": []
  },
  {
   "cell_type": "code",
   "execution_count": null,
   "metadata": {
    "id": "X8iwi5s9t_yk"
   },
   "outputs": [],
   "source": [
    "extracted_text = db_cat_terms\n",
    "save_path = '/content/drive/MyDrive/UNIV./25-1/컴퓨터네트워크/cn_api_project/txt/summary/db_cat_terms_summary.txt'"
   ]
  },
  {
   "cell_type": "code",
   "execution_count": null,
   "metadata": {
    "id": "KnbBT5WxvJ8I"
   },
   "outputs": [],
   "source": [
    "if extracted_text and client is not None and 'get_most_consistent_summary' in globals():\n",
    "    print(\"\\n\\n===== 약관 청크별 자동 요약 프로세스 시작 =====\")\n",
    "\n",
    "    # 함수 호출 및 결과 받기\n",
    "    chunk_summaries_list = summarize_policy_in_chunks(\n",
    "        extracted_text=extracted_text,\n",
    "        chunk_size=3000, # 3000자씩 나누어 요약\n",
    "        summary_iterations=3, # Self-consistency 7회 반복\n",
    "        model=\"gpt-4o-2024-05-13\", # 사용할 GPT 모델\n",
    "        temperature=0.7 # 발상 온도\n",
    "    )\n",
    "\n",
    "    print(\"\\n===== 약관 청크별 자동 요약 프로세스 완료 =====\")\n",
    "\n",
    "    # 결과 활용 (예: 모든 요약 결과를 합쳐서 출력 또는 파일 저장)\n",
    "    if chunk_summaries_list:\n",
    "        print(f\"총 {len(chunk_summaries_list)}개의 청크 요약 결과가 생성되었습니다.\")\n",
    "        # 모든 청크 요약을 하나의 문자열로 합치기\n",
    "        full_extracted_summary_combined = \"\\n\\n\".join(chunk_summaries_list)\n",
    "\n",
    "        print(\"\\n--- 전체 요약 결과 (합본) ---\")\n",
    "        print(full_extracted_summary_combined) # 합쳐진 요약 결과 출력\n",
    "\n",
    "        # 필요하다면 이 합쳐진 요약 결과를 파일로 저장할 수 있습니다.\n",
    "        try:\n",
    "            with open(save_path, 'w', encoding='utf-8') as f:\n",
    "                f.write(full_extracted_summary_combined)\n",
    "            print(f\"\\n전체 요약 결과 파일 저장 완료: {save_path}\")\n",
    "        except Exception as e: print(f\"파일 저장 오류: {e}\")\n",
    "\n",
    "    else:\n",
    "        print(\"생성된 요약 결과가 없습니다.\")\n",
    "\n",
    "else:\n",
    "    print(\"\\n\\n===== 자동 요약 프로세스 실행 불가 =====\")\n",
    "    if not extracted_text: print(\"요약할 extracted_text가 비어있습니다.\")\n",
    "    if client is None: print(\"OpenAI API 클라이언트가 초기화되지 않았습니다.\")\n",
    "    if 'get_most_consistent_summary' not in globals(): print(\"get_most_consistent_summary 함수가 정의되지 않았습니다.\")\n"
   ]
  },
  {
   "cell_type": "markdown",
   "metadata": {
    "id": "8pvA8_0t0dix"
   },
   "source": [
    "* 삼성생명 의기냥냥 펫보험"
   ]
  },
  {
   "cell_type": "code",
   "execution_count": null,
   "metadata": {
    "id": "8ISJjA7Q0kCh"
   },
   "outputs": [],
   "source": [
    "extracted_text = samsung_nyang_terms\n",
    "save_path = '/content/drive/MyDrive/UNIV./25-1/컴퓨터네트워크/cn_api_project/txt/summary/samsung_nyang_terms_summary.txt'"
   ]
  },
  {
   "cell_type": "code",
   "source": [],
   "metadata": {
    "id": "h9XzRthNgv74"
   },
   "execution_count": null,
   "outputs": []
  },
  {
   "cell_type": "code",
   "execution_count": null,
   "metadata": {
    "id": "-2VzDNynonFx"
   },
   "outputs": [],
   "source": [
    "if extracted_text and client is not None and 'get_most_consistent_summary' in globals():\n",
    "    print(\"\\n\\n===== 약관 청크별 자동 요약 프로세스 시작 =====\")\n",
    "\n",
    "    # 함수 호출 및 결과 받기\n",
    "    chunk_summaries_list = summarize_policy_in_chunks(\n",
    "        extracted_text=extracted_text,\n",
    "        chunk_size=2000, # 3000자씩 나누어 요약\n",
    "        summary_iterations=3, # Self-consistency 7회 반복\n",
    "        model=\"gpt-4o-2024-05-13\", # 사용할 GPT 모델\n",
    "        temperature=0.7 # 발상 온도\n",
    "    )\n",
    "\n",
    "    print(\"\\n===== 약관 청크별 자동 요약 프로세스 완료 =====\")\n",
    "\n",
    "    # 결과 활용 (예: 모든 요약 결과를 합쳐서 출력 또는 파일 저장)\n",
    "    if chunk_summaries_list:\n",
    "        print(f\"총 {len(chunk_summaries_list)}개의 청크 요약 결과가 생성되었습니다.\")\n",
    "        # 모든 청크 요약을 하나의 문자열로 합치기\n",
    "        full_extracted_summary_combined = \"\\n\\n\".join(chunk_summaries_list)\n",
    "\n",
    "        print(\"\\n--- 전체 요약 결과 (합본) ---\")\n",
    "        print(full_extracted_summary_combined) # 합쳐진 요약 결과 출력\n",
    "\n",
    "        # 필요하다면 이 합쳐진 요약 결과를 파일로 저장할 수 있습니다.\n",
    "        try:\n",
    "            with open(save_path, 'w', encoding='utf-8') as f:\n",
    "                f.write(full_extracted_summary_combined)\n",
    "            print(f\"\\n전체 요약 결과 파일 저장 완료: {save_path}\")\n",
    "        except Exception as e: print(f\"파일 저장 오류: {e}\")\n",
    "\n",
    "    else:\n",
    "        print(\"생성된 요약 결과가 없습니다.\")\n",
    "\n",
    "else:\n",
    "    print(\"\\n\\n===== 자동 요약 프로세스 실행 불가 =====\")\n",
    "    if not extracted_text: print(\"요약할 extracted_text가 비어있습니다.\")\n",
    "    if client is None: print(\"OpenAI API 클라이언트가 초기화되지 않았습니다.\")\n",
    "    if 'get_most_consistent_summary' not in globals(): print(\"get_most_consistent_summary 함수가 정의되지 않았습니다.\")"
   ]
  },
  {
   "cell_type": "code",
   "execution_count": 23,
   "metadata": {
    "id": "IOrlMEdJnily",
    "executionInfo": {
     "status": "ok",
     "timestamp": 1748815221814,
     "user_tz": -540,
     "elapsed": 106,
     "user": {
      "displayName": "Junhee Choi",
      "userId": "01054653513821718568"
     }
    }
   },
   "outputs": [],
   "source": [
    "extracted_text = 메리츠_반려동물보험약관_terms\n",
    "save_path = '/content/drive/MyDrive/UNIV./25-1/컴퓨터네트워크/cn_api_project/txt/summary/메리츠_반려동물보험약관_terms_summary.txt'"
   ]
  },
  {
   "cell_type": "code",
   "source": [
    "if extracted_text and client is not None and 'get_most_consistent_summary' in globals():\n",
    "    print(\"\\n\\n===== 약관 청크별 자동 요약 프로세스 시작 =====\")\n",
    "\n",
    "    # 함수 호출 및 결과 받기\n",
    "    chunk_summaries_list = summarize_policy_in_chunks(\n",
    "        extracted_text=extracted_text,\n",
    "        chunk_size=3000, # 3000자씩 나누어 요약\n",
    "        summary_iterations=3, # Self-consistency 7회 반복\n",
    "        model=\"gpt-4o-2024-05-13\", # 사용할 GPT 모델\n",
    "        temperature=0.7 # 발상 온도\n",
    "    )\n",
    "\n",
    "    print(\"\\n===== 약관 청크별 자동 요약 프로세스 완료 =====\")\n",
    "\n",
    "    # 결과 활용 (예: 모든 요약 결과를 합쳐서 출력 또는 파일 저장)\n",
    "    if chunk_summaries_list:\n",
    "        print(f\"총 {len(chunk_summaries_list)}개의 청크 요약 결과가 생성되었습니다.\")\n",
    "        # 모든 청크 요약을 하나의 문자열로 합치기\n",
    "        full_extracted_summary_combined = \"\\n\\n\".join(chunk_summaries_list)\n",
    "\n",
    "        print(\"\\n--- 전체 요약 결과 (합본) ---\")\n",
    "        print(full_extracted_summary_combined) # 합쳐진 요약 결과 출력\n",
    "\n",
    "        # 필요하다면 이 합쳐진 요약 결과를 파일로 저장할 수 있습니다.\n",
    "        try:\n",
    "            with open(save_path, 'w', encoding='utf-8') as f:\n",
    "                f.write(full_extracted_summary_combined)\n",
    "            print(f\"\\n전체 요약 결과 파일 저장 완료: {save_path}\")\n",
    "        except Exception as e: print(f\"파일 저장 오류: {e}\")\n",
    "\n",
    "    else:\n",
    "        print(\"생성된 요약 결과가 없습니다.\")\n",
    "\n",
    "else:\n",
    "    print(\"\\n\\n===== 자동 요약 프로세스 실행 불가 =====\")\n",
    "    if not extracted_text: print(\"요약할 extracted_text가 비어있습니다.\")\n",
    "    if client is None: print(\"OpenAI API 클라이언트가 초기화되지 않았습니다.\")\n",
    "    if 'get_most_consistent_summary' not in globals(): print(\"get_most_consistent_summary 함수가 정의되지 않았습니다.\")"
   ],
   "metadata": {
    "colab": {
     "base_uri": "https://localhost:8080/"
    },
    "id": "bsy839zwgB3w",
    "outputId": "ac5b99b4-9daf-4d98-a727-9f98729df59d"
   },
   "execution_count": null,
   "outputs": [
    {
     "output_type": "stream",
     "name": "stdout",
     "text": [
      "\n",
      "\n",
      "===== 약관 청크별 자동 요약 프로세스 시작 =====\n",
      "--- 전체 텍스트 길이: 95178 문자 ---\n",
      "--- 3000 문자 단위로 분할하여 요약 진행 ---\n",
      "\n",
      "\n",
      "===== [청크 1] 0 부터 3000 까지 요약 시작 =====\n",
      "\n",
      "--- 청크 1 요약 완료. (24.88 초 걸림) ---\n",
      "\n",
      "\n",
      "===== [청크 2] 3000 부터 6000 까지 요약 시작 =====\n",
      "\n",
      "--- 청크 2 요약 완료. (21.06 초 걸림) ---\n",
      "\n",
      "\n",
      "===== [청크 3] 6000 부터 9000 까지 요약 시작 =====\n",
      "\n",
      "--- 청크 3 요약 완료. (23.50 초 걸림) ---\n",
      "\n",
      "\n",
      "===== [청크 4] 9000 부터 12000 까지 요약 시작 =====\n",
      "\n",
      "--- 청크 4 요약 완료. (16.28 초 걸림) ---\n",
      "\n",
      "\n",
      "===== [청크 5] 12000 부터 15000 까지 요약 시작 =====\n",
      "\n",
      "--- 청크 5 요약 완료. (23.98 초 걸림) ---\n",
      "\n",
      "\n",
      "===== [청크 6] 15000 부터 18000 까지 요약 시작 =====\n",
      "\n",
      "--- 청크 6 요약 완료. (22.98 초 걸림) ---\n",
      "\n",
      "\n",
      "===== [청크 7] 18000 부터 21000 까지 요약 시작 =====\n",
      "\n",
      "--- 청크 7 요약 완료. (14.90 초 걸림) ---\n",
      "\n",
      "\n",
      "===== [청크 8] 21000 부터 24000 까지 요약 시작 =====\n",
      "\n",
      "--- 청크 8 요약 완료. (22.32 초 걸림) ---\n",
      "\n",
      "\n",
      "===== [청크 9] 24000 부터 27000 까지 요약 시작 =====\n",
      "\n",
      "--- 청크 9 요약 완료. (28.31 초 걸림) ---\n",
      "\n",
      "\n",
      "===== [청크 10] 27000 부터 30000 까지 요약 시작 =====\n"
     ]
    }
   ]
  },
  {
   "cell_type": "markdown",
   "source": [],
   "metadata": {
    "id": "rPWqpIqxgK_K"
   }
  },
  {
   "cell_type": "markdown",
   "metadata": {
    "id": "nRKjHwc01DYd"
   },
   "source": [
    "* 삼성생명 애니펫 반려묘보험(펫보험)"
   ]
  },
  {
   "cell_type": "code",
   "execution_count": 21,
   "metadata": {
    "id": "BriAiMw71K08",
    "colab": {
     "base_uri": "https://localhost:8080/",
     "height": 182
    },
    "executionInfo": {
     "status": "error",
     "timestamp": 1748815186015,
     "user_tz": -540,
     "elapsed": 79,
     "user": {
      "displayName": "Junhee Choi",
      "userId": "01054653513821718568"
     }
    },
    "outputId": "8e501cad-a298-425e-fc92-bd46f48ee95b"
   },
   "outputs": [
    {
     "output_type": "error",
     "ename": "NameError",
     "evalue": "name 'samsung_cat_anipet_terms' is not defined",
     "traceback": [
      "\u001B[0;31m---------------------------------------------------------------------------\u001B[0m",
      "\u001B[0;31mNameError\u001B[0m                                 Traceback (most recent call last)",
      "\u001B[0;32m<ipython-input-21-97a35d9bd5dc>\u001B[0m in \u001B[0;36m<cell line: 0>\u001B[0;34m()\u001B[0m\n\u001B[0;32m----> 1\u001B[0;31m \u001B[0mextracted_text\u001B[0m \u001B[0;34m=\u001B[0m \u001B[0msamsung_cat_anipet_terms\u001B[0m\u001B[0;34m\u001B[0m\u001B[0;34m\u001B[0m\u001B[0m\n\u001B[0m\u001B[1;32m      2\u001B[0m \u001B[0msave_path\u001B[0m \u001B[0;34m=\u001B[0m \u001B[0;34m'/content/drive/MyDrive/UNIV./25-1/컴퓨터네트워크/cn_api_project/txt/summary/samsung_cat_anipet_terms_summary.txt'\u001B[0m\u001B[0;34m\u001B[0m\u001B[0;34m\u001B[0m\u001B[0m\n",
      "\u001B[0;31mNameError\u001B[0m: name 'samsung_cat_anipet_terms' is not defined"
     ]
    }
   ],
   "source": [
    "extracted_text = samsung_cat_anipet_terms\n",
    "save_path = '/content/drive/MyDrive/UNIV./25-1/컴퓨터네트워크/cn_api_project/txt/summary/samsung_cat_anipet_terms_summary.txt'"
   ]
  },
  {
   "cell_type": "code",
   "execution_count": null,
   "metadata": {
    "id": "rqsG7496JVUi"
   },
   "outputs": [],
   "source": [
    "if extracted_text and client is not None and 'get_most_consistent_summary' in globals():\n",
    "    print(\"\\n\\n===== 약관 청크별 자동 요약 프로세스 시작 =====\")\n",
    "\n",
    "    # 함수 호출 및 결과 받기\n",
    "    chunk_summaries_list = summarize_policy_in_chunks(\n",
    "        extracted_text=extracted_text,\n",
    "        chunk_size=3000, # 3000자씩 나누어 요약\n",
    "        summary_iterations=3, # Self-consistency 7회 반복\n",
    "        model=\"gpt-4o-2024-05-13\", # 사용할 GPT 모델\n",
    "        temperature=0.7 # 발상 온도\n",
    "    )\n",
    "\n",
    "    print(\"\\n===== 약관 청크별 자동 요약 프로세스 완료 =====\")\n",
    "\n",
    "    # 결과 활용 (예: 모든 요약 결과를 합쳐서 출력 또는 파일 저장)\n",
    "    if chunk_summaries_list:\n",
    "        print(f\"총 {len(chunk_summaries_list)}개의 청크 요약 결과가 생성되었습니다.\")\n",
    "        # 모든 청크 요약을 하나의 문자열로 합치기\n",
    "        full_extracted_summary_combined = \"\\n\\n\".join(chunk_summaries_list)\n",
    "\n",
    "        print(\"\\n--- 전체 요약 결과 (합본) ---\")\n",
    "        print(full_extracted_summary_combined) # 합쳐진 요약 결과 출력\n",
    "\n",
    "        # 필요하다면 이 합쳐진 요약 결과를 파일로 저장할 수 있습니다.\n",
    "        try:\n",
    "            with open(save_path, 'w', encoding='utf-8') as f:\n",
    "                f.write(full_extracted_summary_combined)\n",
    "            print(f\"\\n전체 요약 결과 파일 저장 완료: {save_path}\")\n",
    "        except Exception as e: print(f\"파일 저장 오류: {e}\")\n",
    "\n",
    "    else:\n",
    "        print(\"생성된 요약 결과가 없습니다.\")\n",
    "\n",
    "else:\n",
    "    print(\"\\n\\n===== 자동 요약 프로세스 실행 불가 =====\")\n",
    "    if not extracted_text: print(\"요약할 extracted_text가 비어있습니다.\")\n",
    "    if client is None: print(\"OpenAI API 클라이언트가 초기화되지 않았습니다.\")\n",
    "    if 'get_most_consistent_summary' not in globals(): print(\"get_most_consistent_summary 함수가 정의되지 않았습니다.\")"
   ]
  },
  {
   "cell_type": "markdown",
   "metadata": {
    "id": "pmMQZTKI1dQS"
   },
   "source": [
    "* 한화 스마일펫 펫보험"
   ]
  },
  {
   "cell_type": "code",
   "execution_count": null,
   "metadata": {
    "id": "ozb2iJFy1gkv"
   },
   "outputs": [],
   "source": [
    "extracted_text = hanhwa_pet_terms\n",
    "save_path = '/content/drive/MyDrive/UNIV./25-1/컴퓨터네트워크/cn_api_project/txt/summary/hanhwa_pet_terms_summary.txt'"
   ]
  },
  {
   "cell_type": "code",
   "execution_count": null,
   "metadata": {
    "id": "zxqBG3-jKVkB"
   },
   "outputs": [],
   "source": [
    "if extracted_text and client is not None and 'get_most_consistent_summary' in globals():\n",
    "    print(\"\\n\\n===== 약관 청크별 자동 요약 프로세스 시작 =====\")\n",
    "\n",
    "    # 함수 호출 및 결과 받기\n",
    "    chunk_summaries_list = summarize_policy_in_chunks(\n",
    "        extracted_text=extracted_text,\n",
    "        chunk_size=3000, # 3000자씩 나누어 요약\n",
    "        summary_iterations=3, # Self-consistency 7회 반복\n",
    "        model=\"gpt-4o-2024-05-13\", # 사용할 GPT 모델\n",
    "        temperature=0.7 # 발상 온도\n",
    "    )\n",
    "\n",
    "    print(\"\\n===== 약관 청크별 자동 요약 프로세스 완료 =====\")\n",
    "\n",
    "    # 결과 활용 (예: 모든 요약 결과를 합쳐서 출력 또는 파일 저장)\n",
    "    if chunk_summaries_list:\n",
    "        print(f\"총 {len(chunk_summaries_list)}개의 청크 요약 결과가 생성되었습니다.\")\n",
    "        # 모든 청크 요약을 하나의 문자열로 합치기\n",
    "        full_extracted_summary_combined = \"\\n\\n\".join(chunk_summaries_list)\n",
    "\n",
    "        print(\"\\n--- 전체 요약 결과 (합본) ---\")\n",
    "        print(full_extracted_summary_combined) # 합쳐진 요약 결과 출력\n",
    "\n",
    "        # 필요하다면 이 합쳐진 요약 결과를 파일로 저장할 수 있습니다.\n",
    "        try:\n",
    "            with open(save_path, 'w', encoding='utf-8') as f:\n",
    "                f.write(full_extracted_summary_combined)\n",
    "            print(f\"\\n전체 요약 결과 파일 저장 완료: {save_path}\")\n",
    "        except Exception as e: print(f\"파일 저장 오류: {e}\")\n",
    "\n",
    "    else:\n",
    "        print(\"생성된 요약 결과가 없습니다.\")\n",
    "\n",
    "else:\n",
    "    print(\"\\n\\n===== 자동 요약 프로세스 실행 불가 =====\")\n",
    "    if not extracted_text: print(\"요약할 extracted_text가 비어있습니다.\")\n",
    "    if client is None: print(\"OpenAI API 클라이언트가 초기화되지 않았습니다.\")\n",
    "    if 'get_most_consistent_summary' not in globals(): print(\"get_most_consistent_summary 함수가 정의되지 않았습니다.\")"
   ]
  },
  {
   "cell_type": "markdown",
   "metadata": {
    "id": "n2f9VDyX_V-7"
   },
   "source": [
    "* 메리츠 마음든든 펫보험"
   ]
  },
  {
   "cell_type": "code",
   "execution_count": null,
   "metadata": {
    "id": "tWxQDsvH_aNZ"
   },
   "outputs": [],
   "source": [
    "extracted_text = meritz_cat_1_terms\n",
    "save_path = '/content/drive/MyDrive/UNIV./25-1/컴퓨터네트워크/cn_api_project/txt/summary/meritz_cat_1_terms.txt'"
   ]
  },
  {
   "cell_type": "code",
   "execution_count": null,
   "metadata": {
    "id": "8b7gw7nt1KEE"
   },
   "outputs": [],
   "source": [
    "if extracted_text and client is not None and 'get_most_consistent_summary' in globals():\n",
    "    print(\"\\n\\n===== 약관 청크별 자동 요약 프로세스 시작 =====\")\n",
    "\n",
    "    # 함수 호출 및 결과 받기\n",
    "    chunk_summaries_list = summarize_policy_in_chunks(\n",
    "        extracted_text=extracted_text,\n",
    "        chunk_size=2000, # 3000자씩 나누어 요약\n",
    "        summary_iterations=3, # Self-consistency 7회 반복\n",
    "        model=\"gpt-4o-2024-05-13\", # 사용할 GPT 모델\n",
    "        temperature=0.7 # 발상 온도\n",
    "    )\n",
    "\n",
    "    print(\"\\n===== 약관 청크별 자동 요약 프로세스 완료 =====\")\n",
    "\n",
    "    # 결과 활용 (예: 모든 요약 결과를 합쳐서 출력 또는 파일 저장)\n",
    "    if chunk_summaries_list:\n",
    "        print(f\"총 {len(chunk_summaries_list)}개의 청크 요약 결과가 생성되었습니다.\")\n",
    "        # 모든 청크 요약을 하나의 문자열로 합치기\n",
    "        full_extracted_summary_combined = \"\\n\\n\".join(chunk_summaries_list)\n",
    "\n",
    "        print(\"\\n--- 전체 요약 결과 (합본) ---\")\n",
    "        print(full_extracted_summary_combined) # 합쳐진 요약 결과 출력\n",
    "\n",
    "        # 필요하다면 이 합쳐진 요약 결과를 파일로 저장할 수 있습니다.\n",
    "        try:\n",
    "            with open(save_path, 'w', encoding='utf-8') as f:\n",
    "                f.write(full_extracted_summary_combined)\n",
    "            print(f\"\\n전체 요약 결과 파일 저장 완료: {save_path}\")\n",
    "        except Exception as e: print(f\"파일 저장 오류: {e}\")\n",
    "\n",
    "    else:\n",
    "        print(\"생성된 요약 결과가 없습니다.\")\n",
    "\n",
    "else:\n",
    "    print(\"\\n\\n===== 자동 요약 프로세스 실행 불가 =====\")\n",
    "    if not extracted_text: print(\"요약할 extracted_text가 비어있습니다.\")\n",
    "    if client is None: print(\"OpenAI API 클라이언트가 초기화되지 않았습니다.\")\n",
    "    if 'get_most_consistent_summary' not in globals(): print(\"get_most_consistent_summary 함수가 정의되지 않았습니다.\")"
   ]
  },
  {
   "cell_type": "markdown",
   "metadata": {
    "id": "ZMU31XqU_uhb"
   },
   "source": [
    "* 메리츠 반려동물 보험약관"
   ]
  },
  {
   "cell_type": "code",
   "execution_count": 19,
   "metadata": {
    "id": "rjgl4eQc1cnD",
    "colab": {
     "base_uri": "https://localhost:8080/",
     "height": 182
    },
    "executionInfo": {
     "status": "error",
     "timestamp": 1748815143621,
     "user_tz": -540,
     "elapsed": 56,
     "user": {
      "displayName": "Junhee Choi",
      "userId": "01054653513821718568"
     }
    },
    "outputId": "1b7d8dae-8706-4d69-927e-da32b08af987"
   },
   "outputs": [
    {
     "output_type": "error",
     "ename": "NameError",
     "evalue": "name 'meritz_cat_2_terms' is not defined",
     "traceback": [
      "\u001B[0;31m---------------------------------------------------------------------------\u001B[0m",
      "\u001B[0;31mNameError\u001B[0m                                 Traceback (most recent call last)",
      "\u001B[0;32m<ipython-input-19-ebb39bfb8667>\u001B[0m in \u001B[0;36m<cell line: 0>\u001B[0;34m()\u001B[0m\n\u001B[0;32m----> 1\u001B[0;31m \u001B[0mextracted_text\u001B[0m \u001B[0;34m=\u001B[0m \u001B[0mmeritz_cat_2_terms\u001B[0m\u001B[0;34m\u001B[0m\u001B[0;34m\u001B[0m\u001B[0m\n\u001B[0m\u001B[1;32m      2\u001B[0m \u001B[0msave_path\u001B[0m \u001B[0;34m=\u001B[0m \u001B[0;34m'/content/drive/MyDrive/PROJECT/cn_api_project/txt/summary/meritz_cat_2_terms.txt'\u001B[0m\u001B[0;34m\u001B[0m\u001B[0;34m\u001B[0m\u001B[0m\n",
      "\u001B[0;31mNameError\u001B[0m: name 'meritz_cat_2_terms' is not defined"
     ]
    }
   ],
   "source": [
    "extracted_text = meritz_cat_2_terms\n",
    "save_path = '/content/drive/MyDrive/PROJECT/cn_api_project/txt/summary/meritz_cat_2_terms.txt'"
   ]
  },
  {
   "cell_type": "code",
   "execution_count": null,
   "metadata": {
    "id": "1aN8feLi_3jb"
   },
   "outputs": [],
   "source": [
    "start = time.time()\n",
    "if extracted_text and client is not None and 'get_most_consistent_summary' in globals():\n",
    "    print(\"\\n\\n===== 약관 청크별 자동 요약 프로세스 시작 =====\")\n",
    "\n",
    "    # 함수 호출 및 결과 받기\n",
    "    chunk_summaries_list = summarize_policy_in_chunks(\n",
    "        extracted_text=extracted_text,\n",
    "        chunk_size=2000, # 3000자씩 나누어 요약\n",
    "        summary_iterations=3, # Self-consistency 7회 반복\n",
    "        model=\"gpt-4o-2024-05-13\", # 사용할 GPT 모델\n",
    "        temperature=0.7 # 발상 온도\n",
    "    )\n",
    "\n",
    "    print(\"\\n===== 약관 청크별 자동 요약 프로세스 완료 =====\")\n",
    "\n",
    "    # 결과 활용 (예: 모든 요약 결과를 합쳐서 출력 또는 파일 저장)\n",
    "    if chunk_summaries_list:\n",
    "        print(f\"총 {len(chunk_summaries_list)}개의 청크 요약 결과가 생성되었습니다.\")\n",
    "        # 모든 청크 요약을 하나의 문자열로 합치기\n",
    "        full_extracted_summary_combined = \"\\n\\n\".join(chunk_summaries_list)\n",
    "\n",
    "        print(\"\\n--- 전체 요약 결과 (합본) ---\")\n",
    "        print(full_extracted_summary_combined) # 합쳐진 요약 결과 출력\n",
    "\n",
    "        # 필요하다면 이 합쳐진 요약 결과를 파일로 저장할 수 있습니다.\n",
    "        try:\n",
    "            with open(save_path, 'w', encoding='utf-8') as f:\n",
    "                f.write(full_extracted_summary_combined)\n",
    "            print(f\"\\n전체 요약 결과 파일 저장 완료: {save_path}\")\n",
    "        except Exception as e: print(f\"파일 저장 오류: {e}\")\n",
    "\n",
    "    else:\n",
    "        print(\"생성된 요약 결과가 없습니다.\")\n",
    "\n",
    "else:\n",
    "    print(\"\\n\\n===== 자동 요약 프로세스 실행 불가 =====\")\n",
    "    if not extracted_text: print(\"요약할 extracted_text가 비어있습니다.\")\n",
    "    if client is None: print(\"OpenAI API 클라이언트가 초기화되지 않았습니다.\")\n",
    "    if 'get_most_consistent_summary' not in globals(): print(\"get_most_consistent_summary 함수가 정의되지 않았습니다.\")\n",
    "\n",
    "end = time.time()\n",
    "print(f'({end}-{start})초 걸림')"
   ]
  },
  {
   "cell_type": "markdown",
   "metadata": {
    "id": "mMAAnBYgUac4"
   },
   "source": [
    "#### save folder -> data/보험약관 폴더를 순회하며 보험약관 요약하기"
   ]
  },
  {
   "cell_type": "code",
   "execution_count": 15,
   "metadata": {
    "colab": {
     "base_uri": "https://localhost:8080/",
     "height": 1000
    },
    "id": "0JL4bqytsLzd",
    "executionInfo": {
     "status": "error",
     "timestamp": 1748815138137,
     "user_tz": -540,
     "elapsed": 641649,
     "user": {
      "displayName": "Junhee Choi",
      "userId": "01054653513821718568"
     }
    },
    "outputId": "ce788868-63c8-4a22-c2da-04ccbd9539d4"
   },
   "outputs": [
    {
     "output_type": "stream",
     "name": "stdout",
     "text": [
      "저장 폴더 확인: '/content/drive/MyDrive/PROJECT/cn_api_project/data/보험약관/summary'\n",
      "\n",
      "--- 폴더 내 .txt 파일 순회 및 요약 시작: '/content/drive/MyDrive/PROJECT/cn_api_project/data/보험약관/' ---\n",
      "\n",
      "\n",
      "✅ 이미 요약된 파일 존재: '무배당 삼성화재 다이렉트보험약관_summary.txt'. 요약 건너뜁니다.\n",
      "\n",
      "\n",
      "✅ 이미 요약된 파일 존재: '삼성화재_반려묘보험_애니펫_summary.txt'. 요약 건너뜁니다.\n",
      "\n",
      "\n",
      "✅ 이미 요약된 파일 존재: '삼성화재_반려묘보험_의기냥냥_summary.txt'. 요약 건너뜁니다.\n",
      "\n",
      "\n",
      "✅ 이미 요약된 파일 존재: '한화_스마일펫보험_summary.txt'. 요약 건너뜁니다.\n",
      "\n",
      "\n",
      "✅ 이미 요약된 파일 존재: 'samsung_anicar_terms_summary.txt'. 요약 건너뜁니다.\n",
      "\n",
      "\n",
      "✅ 이미 요약된 파일 존재: 'samsung_anicar_direct_terms_summary.txt'. 요약 건너뜁니다.\n",
      "\n",
      "\n",
      "📄 파일 요약 시작: samsung_child_terms.txt\n",
      "  - 요약 함수 호출 중...\n",
      "--- 전체 텍스트 길이: 2023225 문자 ---\n",
      "--- 2000 문자 단위로 분할하여 요약 진행 ---\n",
      "\n",
      "\n",
      "===== [청크 1] 0 부터 2000 까지 요약 시작 =====\n",
      "\n",
      "--- 청크 1 요약 완료. (28.64 초 걸림) ---\n",
      "\n",
      "\n",
      "===== [청크 2] 2000 부터 4000 까지 요약 시작 =====\n",
      "\n",
      "--- 청크 2 요약 완료. (30.87 초 걸림) ---\n",
      "\n",
      "\n",
      "===== [청크 3] 4000 부터 6000 까지 요약 시작 =====\n",
      "\n",
      "--- 청크 3 요약 완료. (28.30 초 걸림) ---\n",
      "\n",
      "\n",
      "===== [청크 4] 6000 부터 8000 까지 요약 시작 =====\n",
      "\n",
      "--- 청크 4 요약 완료. (28.34 초 걸림) ---\n",
      "\n",
      "\n",
      "===== [청크 5] 8000 부터 10000 까지 요약 시작 =====\n",
      "\n",
      "--- 청크 5 요약 완료. (40.80 초 걸림) ---\n",
      "\n",
      "\n",
      "===== [청크 6] 10000 부터 12000 까지 요약 시작 =====\n",
      "\n",
      "--- 청크 6 요약 완료. (37.88 초 걸림) ---\n",
      "\n",
      "\n",
      "===== [청크 7] 12000 부터 14000 까지 요약 시작 =====\n",
      "\n",
      "--- 청크 7 요약 완료. (31.91 초 걸림) ---\n",
      "\n",
      "\n",
      "===== [청크 8] 14000 부터 16000 까지 요약 시작 =====\n",
      "\n",
      "--- 청크 8 요약 완료. (34.52 초 걸림) ---\n",
      "\n",
      "\n",
      "===== [청크 9] 16000 부터 18000 까지 요약 시작 =====\n",
      "\n",
      "--- 청크 9 요약 완료. (26.92 초 걸림) ---\n",
      "\n",
      "\n",
      "===== [청크 10] 18000 부터 20000 까지 요약 시작 =====\n",
      "\n",
      "--- 청크 10 요약 완료. (27.56 초 걸림) ---\n",
      "\n",
      "\n",
      "===== [청크 11] 20000 부터 22000 까지 요약 시작 =====\n",
      "\n",
      "--- 청크 11 요약 완료. (25.01 초 걸림) ---\n",
      "\n",
      "\n",
      "===== [청크 12] 22000 부터 24000 까지 요약 시작 =====\n",
      "\n",
      "--- 청크 12 요약 완료. (34.12 초 걸림) ---\n",
      "\n",
      "\n",
      "===== [청크 13] 24000 부터 26000 까지 요약 시작 =====\n",
      "\n",
      "--- 청크 13 요약 완료. (29.01 초 걸림) ---\n",
      "\n",
      "\n",
      "===== [청크 14] 26000 부터 28000 까지 요약 시작 =====\n",
      "\n",
      "--- 청크 14 요약 완료. (36.58 초 걸림) ---\n",
      "\n",
      "\n",
      "===== [청크 15] 28000 부터 30000 까지 요약 시작 =====\n",
      "\n",
      "--- 청크 15 요약 완료. (32.26 초 걸림) ---\n",
      "\n",
      "\n",
      "===== [청크 16] 30000 부터 32000 까지 요약 시작 =====\n",
      "\n",
      "--- 청크 16 요약 완료. (37.01 초 걸림) ---\n",
      "\n",
      "\n",
      "===== [청크 17] 32000 부터 34000 까지 요약 시작 =====\n",
      "\n",
      "--- 청크 17 요약 완료. (41.12 초 걸림) ---\n",
      "\n",
      "\n",
      "===== [청크 18] 34000 부터 36000 까지 요약 시작 =====\n",
      "\n",
      "--- 청크 18 요약 완료. (43.41 초 걸림) ---\n",
      "\n",
      "\n",
      "===== [청크 19] 36000 부터 38000 까지 요약 시작 =====\n",
      "\n",
      "--- 청크 19 요약 완료. (44.24 초 걸림) ---\n",
      "\n",
      "\n",
      "===== [청크 20] 38000 부터 40000 까지 요약 시작 =====\n",
      "\n",
      "--- 청크 20 요약 완료. (32.12 초 걸림) ---\n",
      "\n",
      "\n",
      "===== [청크 21] 40000 부터 42000 까지 요약 시작 =====\n",
      "\n",
      "--- 청크 21 요약 완료. (47.99 초 걸림) ---\n",
      "\n",
      "\n",
      "===== [청크 22] 42000 부터 44000 까지 요약 시작 =====\n",
      "\n",
      "--- 청크 22 요약 완료. (67.37 초 걸림) ---\n",
      "\n",
      "\n",
      "===== [청크 23] 44000 부터 46000 까지 요약 시작 =====\n",
      "\n",
      "--- 청크 23 요약 완료. (47.05 초 걸림) ---\n",
      "\n",
      "\n",
      "===== [청크 24] 46000 부터 48000 까지 요약 시작 =====\n",
      "\n",
      "--- 청크 24 요약 완료. (48.65 초 걸림) ---\n",
      "\n",
      "\n",
      "===== [청크 25] 48000 부터 50000 까지 요약 시작 =====\n",
      "\n",
      "--- 청크 25 요약 완료. (69.29 초 걸림) ---\n",
      "\n",
      "\n",
      "===== [청크 26] 50000 부터 52000 까지 요약 시작 =====\n",
      "\n",
      "--- 청크 26 요약 완료. (50.29 초 걸림) ---\n",
      "\n",
      "\n",
      "===== [청크 27] 52000 부터 54000 까지 요약 시작 =====\n",
      "\n",
      "--- 청크 27 요약 완료. (26.66 초 걸림) ---\n",
      "\n",
      "\n",
      "===== [청크 28] 54000 부터 56000 까지 요약 시작 =====\n",
      "\n",
      "--- 청크 28 요약 완료. (40.39 초 걸림) ---\n",
      "\n",
      "\n",
      "===== [청크 29] 56000 부터 58000 까지 요약 시작 =====\n",
      "\n",
      "--- 청크 29 요약 완료. (24.48 초 걸림) ---\n",
      "\n",
      "\n",
      "===== [청크 30] 58000 부터 60000 까지 요약 시작 =====\n"
     ]
    },
    {
     "output_type": "error",
     "ename": "KeyboardInterrupt",
     "evalue": "",
     "traceback": [
      "\u001B[0;31m---------------------------------------------------------------------------\u001B[0m",
      "\u001B[0;31mKeyboardInterrupt\u001B[0m                         Traceback (most recent call last)",
      "\u001B[0;32m<ipython-input-15-ea5ffe21e547>\u001B[0m in \u001B[0;36m<cell line: 0>\u001B[0;34m()\u001B[0m\n\u001B[1;32m     55\u001B[0m                 \u001B[0;31m# 이 함수 내부에서 get_most_consistent_summary가 호출됩니다.\u001B[0m\u001B[0;34m\u001B[0m\u001B[0;34m\u001B[0m\u001B[0m\n\u001B[1;32m     56\u001B[0m                 \u001B[0mprint\u001B[0m\u001B[0;34m(\u001B[0m\u001B[0;34m\"  - 요약 함수 호출 중...\"\u001B[0m\u001B[0;34m)\u001B[0m\u001B[0;34m\u001B[0m\u001B[0;34m\u001B[0m\u001B[0m\n\u001B[0;32m---> 57\u001B[0;31m                 chunk_summaries = summarize_policy_in_chunks(\n\u001B[0m\u001B[1;32m     58\u001B[0m                     \u001B[0mextracted_text\u001B[0m\u001B[0;34m,\u001B[0m\u001B[0;34m\u001B[0m\u001B[0;34m\u001B[0m\u001B[0m\n\u001B[1;32m     59\u001B[0m                     \u001B[0mchunk_size\u001B[0m\u001B[0;34m=\u001B[0m\u001B[0;36m2000\u001B[0m\u001B[0;34m,\u001B[0m \u001B[0;31m# 요약 청크 크기 (조절 가능)\u001B[0m\u001B[0;34m\u001B[0m\u001B[0;34m\u001B[0m\u001B[0m\n",
      "\u001B[0;32m<ipython-input-13-8b7baf392f20>\u001B[0m in \u001B[0;36msummarize_policy_in_chunks\u001B[0;34m(extracted_text, chunk_size, summary_iterations, model, temperature)\u001B[0m\n\u001B[1;32m     50\u001B[0m         \u001B[0;31m# 정의된 get_most_consistent_summary 함수를 사용하여 현재 청크 요약\u001B[0m\u001B[0;34m\u001B[0m\u001B[0;34m\u001B[0m\u001B[0m\n\u001B[1;32m     51\u001B[0m         \u001B[0;31m# 이전 청크 요약 결과 (previous_summary)를 인자로 전달합니다.\u001B[0m\u001B[0;34m\u001B[0m\u001B[0;34m\u001B[0m\u001B[0m\n\u001B[0;32m---> 52\u001B[0;31m         consistent_summary_text, _ = get_most_consistent_summary(\n\u001B[0m\u001B[1;32m     53\u001B[0m             \u001B[0mclause_text\u001B[0m\u001B[0;34m=\u001B[0m\u001B[0mcurrent_chunk\u001B[0m\u001B[0;34m,\u001B[0m\u001B[0;34m\u001B[0m\u001B[0;34m\u001B[0m\u001B[0m\n\u001B[1;32m     54\u001B[0m             \u001B[0mprevious_summary\u001B[0m\u001B[0;34m=\u001B[0m\u001B[0mprevious_summary\u001B[0m\u001B[0;34m,\u001B[0m \u001B[0;31m# <-- 이전 청크 요약 전달!\u001B[0m\u001B[0;34m\u001B[0m\u001B[0;34m\u001B[0m\u001B[0m\n",
      "\u001B[0;32m<ipython-input-9-7072779bbe4c>\u001B[0m in \u001B[0;36mget_most_consistent_summary\u001B[0;34m(clause_text, previous_summary, iterations, model, temperature)\u001B[0m\n\u001B[1;32m     24\u001B[0m \u001B[0;34m\u001B[0m\u001B[0m\n\u001B[1;32m     25\u001B[0m         \u001B[0;32mtry\u001B[0m\u001B[0;34m:\u001B[0m\u001B[0;34m\u001B[0m\u001B[0;34m\u001B[0m\u001B[0m\n\u001B[0;32m---> 26\u001B[0;31m             response = client.chat.completions.create(\n\u001B[0m\u001B[1;32m     27\u001B[0m                 \u001B[0mmodel\u001B[0m\u001B[0;34m=\u001B[0m\u001B[0mmodel\u001B[0m\u001B[0;34m,\u001B[0m\u001B[0;34m\u001B[0m\u001B[0;34m\u001B[0m\u001B[0m\n\u001B[1;32m     28\u001B[0m                 \u001B[0mmessages\u001B[0m\u001B[0;34m=\u001B[0m\u001B[0;34m[\u001B[0m\u001B[0;34m{\u001B[0m\u001B[0;34m\"role\"\u001B[0m\u001B[0;34m:\u001B[0m \u001B[0;34m\"user\"\u001B[0m\u001B[0;34m,\u001B[0m \u001B[0;34m\"content\"\u001B[0m\u001B[0;34m:\u001B[0m \u001B[0mmessage\u001B[0m\u001B[0;34m}\u001B[0m\u001B[0;34m]\u001B[0m\u001B[0;34m,\u001B[0m\u001B[0;34m\u001B[0m\u001B[0;34m\u001B[0m\u001B[0m\n",
      "\u001B[0;32m/usr/local/lib/python3.11/dist-packages/openai/_utils/_utils.py\u001B[0m in \u001B[0;36mwrapper\u001B[0;34m(*args, **kwargs)\u001B[0m\n\u001B[1;32m    285\u001B[0m                         \u001B[0mmsg\u001B[0m \u001B[0;34m=\u001B[0m \u001B[0;34mf\"Missing required argument: {quote(missing[0])}\"\u001B[0m\u001B[0;34m\u001B[0m\u001B[0;34m\u001B[0m\u001B[0m\n\u001B[1;32m    286\u001B[0m                 \u001B[0;32mraise\u001B[0m \u001B[0mTypeError\u001B[0m\u001B[0;34m(\u001B[0m\u001B[0mmsg\u001B[0m\u001B[0;34m)\u001B[0m\u001B[0;34m\u001B[0m\u001B[0;34m\u001B[0m\u001B[0m\n\u001B[0;32m--> 287\u001B[0;31m             \u001B[0;32mreturn\u001B[0m \u001B[0mfunc\u001B[0m\u001B[0;34m(\u001B[0m\u001B[0;34m*\u001B[0m\u001B[0margs\u001B[0m\u001B[0;34m,\u001B[0m \u001B[0;34m**\u001B[0m\u001B[0mkwargs\u001B[0m\u001B[0;34m)\u001B[0m\u001B[0;34m\u001B[0m\u001B[0;34m\u001B[0m\u001B[0m\n\u001B[0m\u001B[1;32m    288\u001B[0m \u001B[0;34m\u001B[0m\u001B[0m\n\u001B[1;32m    289\u001B[0m         \u001B[0;32mreturn\u001B[0m \u001B[0mwrapper\u001B[0m  \u001B[0;31m# type: ignore\u001B[0m\u001B[0;34m\u001B[0m\u001B[0;34m\u001B[0m\u001B[0m\n",
      "\u001B[0;32m/usr/local/lib/python3.11/dist-packages/openai/resources/chat/completions/completions.py\u001B[0m in \u001B[0;36mcreate\u001B[0;34m(self, messages, model, audio, frequency_penalty, function_call, functions, logit_bias, logprobs, max_completion_tokens, max_tokens, metadata, modalities, n, parallel_tool_calls, prediction, presence_penalty, reasoning_effort, response_format, seed, service_tier, stop, store, stream, stream_options, temperature, tool_choice, tools, top_logprobs, top_p, user, web_search_options, extra_headers, extra_query, extra_body, timeout)\u001B[0m\n\u001B[1;32m    923\u001B[0m     ) -> ChatCompletion | Stream[ChatCompletionChunk]:\n\u001B[1;32m    924\u001B[0m         \u001B[0mvalidate_response_format\u001B[0m\u001B[0;34m(\u001B[0m\u001B[0mresponse_format\u001B[0m\u001B[0;34m)\u001B[0m\u001B[0;34m\u001B[0m\u001B[0;34m\u001B[0m\u001B[0m\n\u001B[0;32m--> 925\u001B[0;31m         return self._post(\n\u001B[0m\u001B[1;32m    926\u001B[0m             \u001B[0;34m\"/chat/completions\"\u001B[0m\u001B[0;34m,\u001B[0m\u001B[0;34m\u001B[0m\u001B[0;34m\u001B[0m\u001B[0m\n\u001B[1;32m    927\u001B[0m             body=maybe_transform(\n",
      "\u001B[0;32m/usr/local/lib/python3.11/dist-packages/openai/_base_client.py\u001B[0m in \u001B[0;36mpost\u001B[0;34m(self, path, cast_to, body, options, files, stream, stream_cls)\u001B[0m\n\u001B[1;32m   1237\u001B[0m             \u001B[0mmethod\u001B[0m\u001B[0;34m=\u001B[0m\u001B[0;34m\"post\"\u001B[0m\u001B[0;34m,\u001B[0m \u001B[0murl\u001B[0m\u001B[0;34m=\u001B[0m\u001B[0mpath\u001B[0m\u001B[0;34m,\u001B[0m \u001B[0mjson_data\u001B[0m\u001B[0;34m=\u001B[0m\u001B[0mbody\u001B[0m\u001B[0;34m,\u001B[0m \u001B[0mfiles\u001B[0m\u001B[0;34m=\u001B[0m\u001B[0mto_httpx_files\u001B[0m\u001B[0;34m(\u001B[0m\u001B[0mfiles\u001B[0m\u001B[0;34m)\u001B[0m\u001B[0;34m,\u001B[0m \u001B[0;34m**\u001B[0m\u001B[0moptions\u001B[0m\u001B[0;34m\u001B[0m\u001B[0;34m\u001B[0m\u001B[0m\n\u001B[1;32m   1238\u001B[0m         )\n\u001B[0;32m-> 1239\u001B[0;31m         \u001B[0;32mreturn\u001B[0m \u001B[0mcast\u001B[0m\u001B[0;34m(\u001B[0m\u001B[0mResponseT\u001B[0m\u001B[0;34m,\u001B[0m \u001B[0mself\u001B[0m\u001B[0;34m.\u001B[0m\u001B[0mrequest\u001B[0m\u001B[0;34m(\u001B[0m\u001B[0mcast_to\u001B[0m\u001B[0;34m,\u001B[0m \u001B[0mopts\u001B[0m\u001B[0;34m,\u001B[0m \u001B[0mstream\u001B[0m\u001B[0;34m=\u001B[0m\u001B[0mstream\u001B[0m\u001B[0;34m,\u001B[0m \u001B[0mstream_cls\u001B[0m\u001B[0;34m=\u001B[0m\u001B[0mstream_cls\u001B[0m\u001B[0;34m)\u001B[0m\u001B[0;34m)\u001B[0m\u001B[0;34m\u001B[0m\u001B[0;34m\u001B[0m\u001B[0m\n\u001B[0m\u001B[1;32m   1240\u001B[0m \u001B[0;34m\u001B[0m\u001B[0m\n\u001B[1;32m   1241\u001B[0m     def patch(\n",
      "\u001B[0;32m/usr/local/lib/python3.11/dist-packages/openai/_base_client.py\u001B[0m in \u001B[0;36mrequest\u001B[0;34m(self, cast_to, options, stream, stream_cls)\u001B[0m\n\u001B[1;32m    967\u001B[0m             \u001B[0mresponse\u001B[0m \u001B[0;34m=\u001B[0m \u001B[0;32mNone\u001B[0m\u001B[0;34m\u001B[0m\u001B[0;34m\u001B[0m\u001B[0m\n\u001B[1;32m    968\u001B[0m             \u001B[0;32mtry\u001B[0m\u001B[0;34m:\u001B[0m\u001B[0;34m\u001B[0m\u001B[0;34m\u001B[0m\u001B[0m\n\u001B[0;32m--> 969\u001B[0;31m                 response = self._client.send(\n\u001B[0m\u001B[1;32m    970\u001B[0m                     \u001B[0mrequest\u001B[0m\u001B[0;34m,\u001B[0m\u001B[0;34m\u001B[0m\u001B[0;34m\u001B[0m\u001B[0m\n\u001B[1;32m    971\u001B[0m                     \u001B[0mstream\u001B[0m\u001B[0;34m=\u001B[0m\u001B[0mstream\u001B[0m \u001B[0;32mor\u001B[0m \u001B[0mself\u001B[0m\u001B[0;34m.\u001B[0m\u001B[0m_should_stream_response_body\u001B[0m\u001B[0;34m(\u001B[0m\u001B[0mrequest\u001B[0m\u001B[0;34m=\u001B[0m\u001B[0mrequest\u001B[0m\u001B[0;34m)\u001B[0m\u001B[0;34m,\u001B[0m\u001B[0;34m\u001B[0m\u001B[0;34m\u001B[0m\u001B[0m\n",
      "\u001B[0;32m/usr/local/lib/python3.11/dist-packages/httpx/_client.py\u001B[0m in \u001B[0;36msend\u001B[0;34m(self, request, stream, auth, follow_redirects)\u001B[0m\n\u001B[1;32m    912\u001B[0m         \u001B[0mauth\u001B[0m \u001B[0;34m=\u001B[0m \u001B[0mself\u001B[0m\u001B[0;34m.\u001B[0m\u001B[0m_build_request_auth\u001B[0m\u001B[0;34m(\u001B[0m\u001B[0mrequest\u001B[0m\u001B[0;34m,\u001B[0m \u001B[0mauth\u001B[0m\u001B[0;34m)\u001B[0m\u001B[0;34m\u001B[0m\u001B[0;34m\u001B[0m\u001B[0m\n\u001B[1;32m    913\u001B[0m \u001B[0;34m\u001B[0m\u001B[0m\n\u001B[0;32m--> 914\u001B[0;31m         response = self._send_handling_auth(\n\u001B[0m\u001B[1;32m    915\u001B[0m             \u001B[0mrequest\u001B[0m\u001B[0;34m,\u001B[0m\u001B[0;34m\u001B[0m\u001B[0;34m\u001B[0m\u001B[0m\n\u001B[1;32m    916\u001B[0m             \u001B[0mauth\u001B[0m\u001B[0;34m=\u001B[0m\u001B[0mauth\u001B[0m\u001B[0;34m,\u001B[0m\u001B[0;34m\u001B[0m\u001B[0;34m\u001B[0m\u001B[0m\n",
      "\u001B[0;32m/usr/local/lib/python3.11/dist-packages/httpx/_client.py\u001B[0m in \u001B[0;36m_send_handling_auth\u001B[0;34m(self, request, auth, follow_redirects, history)\u001B[0m\n\u001B[1;32m    940\u001B[0m \u001B[0;34m\u001B[0m\u001B[0m\n\u001B[1;32m    941\u001B[0m             \u001B[0;32mwhile\u001B[0m \u001B[0;32mTrue\u001B[0m\u001B[0;34m:\u001B[0m\u001B[0;34m\u001B[0m\u001B[0;34m\u001B[0m\u001B[0m\n\u001B[0;32m--> 942\u001B[0;31m                 response = self._send_handling_redirects(\n\u001B[0m\u001B[1;32m    943\u001B[0m                     \u001B[0mrequest\u001B[0m\u001B[0;34m,\u001B[0m\u001B[0;34m\u001B[0m\u001B[0;34m\u001B[0m\u001B[0m\n\u001B[1;32m    944\u001B[0m                     \u001B[0mfollow_redirects\u001B[0m\u001B[0;34m=\u001B[0m\u001B[0mfollow_redirects\u001B[0m\u001B[0;34m,\u001B[0m\u001B[0;34m\u001B[0m\u001B[0;34m\u001B[0m\u001B[0m\n",
      "\u001B[0;32m/usr/local/lib/python3.11/dist-packages/httpx/_client.py\u001B[0m in \u001B[0;36m_send_handling_redirects\u001B[0;34m(self, request, follow_redirects, history)\u001B[0m\n\u001B[1;32m    977\u001B[0m                 \u001B[0mhook\u001B[0m\u001B[0;34m(\u001B[0m\u001B[0mrequest\u001B[0m\u001B[0;34m)\u001B[0m\u001B[0;34m\u001B[0m\u001B[0;34m\u001B[0m\u001B[0m\n\u001B[1;32m    978\u001B[0m \u001B[0;34m\u001B[0m\u001B[0m\n\u001B[0;32m--> 979\u001B[0;31m             \u001B[0mresponse\u001B[0m \u001B[0;34m=\u001B[0m \u001B[0mself\u001B[0m\u001B[0;34m.\u001B[0m\u001B[0m_send_single_request\u001B[0m\u001B[0;34m(\u001B[0m\u001B[0mrequest\u001B[0m\u001B[0;34m)\u001B[0m\u001B[0;34m\u001B[0m\u001B[0;34m\u001B[0m\u001B[0m\n\u001B[0m\u001B[1;32m    980\u001B[0m             \u001B[0;32mtry\u001B[0m\u001B[0;34m:\u001B[0m\u001B[0;34m\u001B[0m\u001B[0;34m\u001B[0m\u001B[0m\n\u001B[1;32m    981\u001B[0m                 \u001B[0;32mfor\u001B[0m \u001B[0mhook\u001B[0m \u001B[0;32min\u001B[0m \u001B[0mself\u001B[0m\u001B[0;34m.\u001B[0m\u001B[0m_event_hooks\u001B[0m\u001B[0;34m[\u001B[0m\u001B[0;34m\"response\"\u001B[0m\u001B[0;34m]\u001B[0m\u001B[0;34m:\u001B[0m\u001B[0;34m\u001B[0m\u001B[0;34m\u001B[0m\u001B[0m\n",
      "\u001B[0;32m/usr/local/lib/python3.11/dist-packages/httpx/_client.py\u001B[0m in \u001B[0;36m_send_single_request\u001B[0;34m(self, request)\u001B[0m\n\u001B[1;32m   1012\u001B[0m \u001B[0;34m\u001B[0m\u001B[0m\n\u001B[1;32m   1013\u001B[0m         \u001B[0;32mwith\u001B[0m \u001B[0mrequest_context\u001B[0m\u001B[0;34m(\u001B[0m\u001B[0mrequest\u001B[0m\u001B[0;34m=\u001B[0m\u001B[0mrequest\u001B[0m\u001B[0;34m)\u001B[0m\u001B[0;34m:\u001B[0m\u001B[0;34m\u001B[0m\u001B[0;34m\u001B[0m\u001B[0m\n\u001B[0;32m-> 1014\u001B[0;31m             \u001B[0mresponse\u001B[0m \u001B[0;34m=\u001B[0m \u001B[0mtransport\u001B[0m\u001B[0;34m.\u001B[0m\u001B[0mhandle_request\u001B[0m\u001B[0;34m(\u001B[0m\u001B[0mrequest\u001B[0m\u001B[0;34m)\u001B[0m\u001B[0;34m\u001B[0m\u001B[0;34m\u001B[0m\u001B[0m\n\u001B[0m\u001B[1;32m   1015\u001B[0m \u001B[0;34m\u001B[0m\u001B[0m\n\u001B[1;32m   1016\u001B[0m         \u001B[0;32massert\u001B[0m \u001B[0misinstance\u001B[0m\u001B[0;34m(\u001B[0m\u001B[0mresponse\u001B[0m\u001B[0;34m.\u001B[0m\u001B[0mstream\u001B[0m\u001B[0;34m,\u001B[0m \u001B[0mSyncByteStream\u001B[0m\u001B[0;34m)\u001B[0m\u001B[0;34m\u001B[0m\u001B[0;34m\u001B[0m\u001B[0m\n",
      "\u001B[0;32m/usr/local/lib/python3.11/dist-packages/httpx/_transports/default.py\u001B[0m in \u001B[0;36mhandle_request\u001B[0;34m(self, request)\u001B[0m\n\u001B[1;32m    248\u001B[0m         )\n\u001B[1;32m    249\u001B[0m         \u001B[0;32mwith\u001B[0m \u001B[0mmap_httpcore_exceptions\u001B[0m\u001B[0;34m(\u001B[0m\u001B[0;34m)\u001B[0m\u001B[0;34m:\u001B[0m\u001B[0;34m\u001B[0m\u001B[0;34m\u001B[0m\u001B[0m\n\u001B[0;32m--> 250\u001B[0;31m             \u001B[0mresp\u001B[0m \u001B[0;34m=\u001B[0m \u001B[0mself\u001B[0m\u001B[0;34m.\u001B[0m\u001B[0m_pool\u001B[0m\u001B[0;34m.\u001B[0m\u001B[0mhandle_request\u001B[0m\u001B[0;34m(\u001B[0m\u001B[0mreq\u001B[0m\u001B[0;34m)\u001B[0m\u001B[0;34m\u001B[0m\u001B[0;34m\u001B[0m\u001B[0m\n\u001B[0m\u001B[1;32m    251\u001B[0m \u001B[0;34m\u001B[0m\u001B[0m\n\u001B[1;32m    252\u001B[0m         \u001B[0;32massert\u001B[0m \u001B[0misinstance\u001B[0m\u001B[0;34m(\u001B[0m\u001B[0mresp\u001B[0m\u001B[0;34m.\u001B[0m\u001B[0mstream\u001B[0m\u001B[0;34m,\u001B[0m \u001B[0mtyping\u001B[0m\u001B[0;34m.\u001B[0m\u001B[0mIterable\u001B[0m\u001B[0;34m)\u001B[0m\u001B[0;34m\u001B[0m\u001B[0;34m\u001B[0m\u001B[0m\n",
      "\u001B[0;32m/usr/local/lib/python3.11/dist-packages/httpcore/_sync/connection_pool.py\u001B[0m in \u001B[0;36mhandle_request\u001B[0;34m(self, request)\u001B[0m\n\u001B[1;32m    254\u001B[0m \u001B[0;34m\u001B[0m\u001B[0m\n\u001B[1;32m    255\u001B[0m             \u001B[0mself\u001B[0m\u001B[0;34m.\u001B[0m\u001B[0m_close_connections\u001B[0m\u001B[0;34m(\u001B[0m\u001B[0mclosing\u001B[0m\u001B[0;34m)\u001B[0m\u001B[0;34m\u001B[0m\u001B[0;34m\u001B[0m\u001B[0m\n\u001B[0;32m--> 256\u001B[0;31m             \u001B[0;32mraise\u001B[0m \u001B[0mexc\u001B[0m \u001B[0;32mfrom\u001B[0m \u001B[0;32mNone\u001B[0m\u001B[0;34m\u001B[0m\u001B[0;34m\u001B[0m\u001B[0m\n\u001B[0m\u001B[1;32m    257\u001B[0m \u001B[0;34m\u001B[0m\u001B[0m\n\u001B[1;32m    258\u001B[0m         \u001B[0;31m# Return the response. Note that in this case we still have to manage\u001B[0m\u001B[0;34m\u001B[0m\u001B[0;34m\u001B[0m\u001B[0m\n",
      "\u001B[0;32m/usr/local/lib/python3.11/dist-packages/httpcore/_sync/connection_pool.py\u001B[0m in \u001B[0;36mhandle_request\u001B[0;34m(self, request)\u001B[0m\n\u001B[1;32m    234\u001B[0m                 \u001B[0;32mtry\u001B[0m\u001B[0;34m:\u001B[0m\u001B[0;34m\u001B[0m\u001B[0;34m\u001B[0m\u001B[0m\n\u001B[1;32m    235\u001B[0m                     \u001B[0;31m# Send the request on the assigned connection.\u001B[0m\u001B[0;34m\u001B[0m\u001B[0;34m\u001B[0m\u001B[0m\n\u001B[0;32m--> 236\u001B[0;31m                     response = connection.handle_request(\n\u001B[0m\u001B[1;32m    237\u001B[0m                         \u001B[0mpool_request\u001B[0m\u001B[0;34m.\u001B[0m\u001B[0mrequest\u001B[0m\u001B[0;34m\u001B[0m\u001B[0;34m\u001B[0m\u001B[0m\n\u001B[1;32m    238\u001B[0m                     )\n",
      "\u001B[0;32m/usr/local/lib/python3.11/dist-packages/httpcore/_sync/connection.py\u001B[0m in \u001B[0;36mhandle_request\u001B[0;34m(self, request)\u001B[0m\n\u001B[1;32m    101\u001B[0m             \u001B[0;32mraise\u001B[0m \u001B[0mexc\u001B[0m\u001B[0;34m\u001B[0m\u001B[0;34m\u001B[0m\u001B[0m\n\u001B[1;32m    102\u001B[0m \u001B[0;34m\u001B[0m\u001B[0m\n\u001B[0;32m--> 103\u001B[0;31m         \u001B[0;32mreturn\u001B[0m \u001B[0mself\u001B[0m\u001B[0;34m.\u001B[0m\u001B[0m_connection\u001B[0m\u001B[0;34m.\u001B[0m\u001B[0mhandle_request\u001B[0m\u001B[0;34m(\u001B[0m\u001B[0mrequest\u001B[0m\u001B[0;34m)\u001B[0m\u001B[0;34m\u001B[0m\u001B[0;34m\u001B[0m\u001B[0m\n\u001B[0m\u001B[1;32m    104\u001B[0m \u001B[0;34m\u001B[0m\u001B[0m\n\u001B[1;32m    105\u001B[0m     \u001B[0;32mdef\u001B[0m \u001B[0m_connect\u001B[0m\u001B[0;34m(\u001B[0m\u001B[0mself\u001B[0m\u001B[0;34m,\u001B[0m \u001B[0mrequest\u001B[0m\u001B[0;34m:\u001B[0m \u001B[0mRequest\u001B[0m\u001B[0;34m)\u001B[0m \u001B[0;34m->\u001B[0m \u001B[0mNetworkStream\u001B[0m\u001B[0;34m:\u001B[0m\u001B[0;34m\u001B[0m\u001B[0;34m\u001B[0m\u001B[0m\n",
      "\u001B[0;32m/usr/local/lib/python3.11/dist-packages/httpcore/_sync/http11.py\u001B[0m in \u001B[0;36mhandle_request\u001B[0;34m(self, request)\u001B[0m\n\u001B[1;32m    134\u001B[0m                 \u001B[0;32mwith\u001B[0m \u001B[0mTrace\u001B[0m\u001B[0;34m(\u001B[0m\u001B[0;34m\"response_closed\"\u001B[0m\u001B[0;34m,\u001B[0m \u001B[0mlogger\u001B[0m\u001B[0;34m,\u001B[0m \u001B[0mrequest\u001B[0m\u001B[0;34m)\u001B[0m \u001B[0;32mas\u001B[0m \u001B[0mtrace\u001B[0m\u001B[0;34m:\u001B[0m\u001B[0;34m\u001B[0m\u001B[0;34m\u001B[0m\u001B[0m\n\u001B[1;32m    135\u001B[0m                     \u001B[0mself\u001B[0m\u001B[0;34m.\u001B[0m\u001B[0m_response_closed\u001B[0m\u001B[0;34m(\u001B[0m\u001B[0;34m)\u001B[0m\u001B[0;34m\u001B[0m\u001B[0;34m\u001B[0m\u001B[0m\n\u001B[0;32m--> 136\u001B[0;31m             \u001B[0;32mraise\u001B[0m \u001B[0mexc\u001B[0m\u001B[0;34m\u001B[0m\u001B[0;34m\u001B[0m\u001B[0m\n\u001B[0m\u001B[1;32m    137\u001B[0m \u001B[0;34m\u001B[0m\u001B[0m\n\u001B[1;32m    138\u001B[0m     \u001B[0;31m# Sending the request...\u001B[0m\u001B[0;34m\u001B[0m\u001B[0;34m\u001B[0m\u001B[0m\n",
      "\u001B[0;32m/usr/local/lib/python3.11/dist-packages/httpcore/_sync/http11.py\u001B[0m in \u001B[0;36mhandle_request\u001B[0;34m(self, request)\u001B[0m\n\u001B[1;32m    104\u001B[0m                     \u001B[0mheaders\u001B[0m\u001B[0;34m,\u001B[0m\u001B[0;34m\u001B[0m\u001B[0;34m\u001B[0m\u001B[0m\n\u001B[1;32m    105\u001B[0m                     \u001B[0mtrailing_data\u001B[0m\u001B[0;34m,\u001B[0m\u001B[0;34m\u001B[0m\u001B[0;34m\u001B[0m\u001B[0m\n\u001B[0;32m--> 106\u001B[0;31m                 ) = self._receive_response_headers(**kwargs)\n\u001B[0m\u001B[1;32m    107\u001B[0m                 trace.return_value = (\n\u001B[1;32m    108\u001B[0m                     \u001B[0mhttp_version\u001B[0m\u001B[0;34m,\u001B[0m\u001B[0;34m\u001B[0m\u001B[0;34m\u001B[0m\u001B[0m\n",
      "\u001B[0;32m/usr/local/lib/python3.11/dist-packages/httpcore/_sync/http11.py\u001B[0m in \u001B[0;36m_receive_response_headers\u001B[0;34m(self, request)\u001B[0m\n\u001B[1;32m    175\u001B[0m \u001B[0;34m\u001B[0m\u001B[0m\n\u001B[1;32m    176\u001B[0m         \u001B[0;32mwhile\u001B[0m \u001B[0;32mTrue\u001B[0m\u001B[0;34m:\u001B[0m\u001B[0;34m\u001B[0m\u001B[0;34m\u001B[0m\u001B[0m\n\u001B[0;32m--> 177\u001B[0;31m             \u001B[0mevent\u001B[0m \u001B[0;34m=\u001B[0m \u001B[0mself\u001B[0m\u001B[0;34m.\u001B[0m\u001B[0m_receive_event\u001B[0m\u001B[0;34m(\u001B[0m\u001B[0mtimeout\u001B[0m\u001B[0;34m=\u001B[0m\u001B[0mtimeout\u001B[0m\u001B[0;34m)\u001B[0m\u001B[0;34m\u001B[0m\u001B[0;34m\u001B[0m\u001B[0m\n\u001B[0m\u001B[1;32m    178\u001B[0m             \u001B[0;32mif\u001B[0m \u001B[0misinstance\u001B[0m\u001B[0;34m(\u001B[0m\u001B[0mevent\u001B[0m\u001B[0;34m,\u001B[0m \u001B[0mh11\u001B[0m\u001B[0;34m.\u001B[0m\u001B[0mResponse\u001B[0m\u001B[0;34m)\u001B[0m\u001B[0;34m:\u001B[0m\u001B[0;34m\u001B[0m\u001B[0;34m\u001B[0m\u001B[0m\n\u001B[1;32m    179\u001B[0m                 \u001B[0;32mbreak\u001B[0m\u001B[0;34m\u001B[0m\u001B[0;34m\u001B[0m\u001B[0m\n",
      "\u001B[0;32m/usr/local/lib/python3.11/dist-packages/httpcore/_sync/http11.py\u001B[0m in \u001B[0;36m_receive_event\u001B[0;34m(self, timeout)\u001B[0m\n\u001B[1;32m    215\u001B[0m \u001B[0;34m\u001B[0m\u001B[0m\n\u001B[1;32m    216\u001B[0m             \u001B[0;32mif\u001B[0m \u001B[0mevent\u001B[0m \u001B[0;32mis\u001B[0m \u001B[0mh11\u001B[0m\u001B[0;34m.\u001B[0m\u001B[0mNEED_DATA\u001B[0m\u001B[0;34m:\u001B[0m\u001B[0;34m\u001B[0m\u001B[0;34m\u001B[0m\u001B[0m\n\u001B[0;32m--> 217\u001B[0;31m                 data = self._network_stream.read(\n\u001B[0m\u001B[1;32m    218\u001B[0m                     \u001B[0mself\u001B[0m\u001B[0;34m.\u001B[0m\u001B[0mREAD_NUM_BYTES\u001B[0m\u001B[0;34m,\u001B[0m \u001B[0mtimeout\u001B[0m\u001B[0;34m=\u001B[0m\u001B[0mtimeout\u001B[0m\u001B[0;34m\u001B[0m\u001B[0;34m\u001B[0m\u001B[0m\n\u001B[1;32m    219\u001B[0m                 )\n",
      "\u001B[0;32m/usr/local/lib/python3.11/dist-packages/httpcore/_backends/sync.py\u001B[0m in \u001B[0;36mread\u001B[0;34m(self, max_bytes, timeout)\u001B[0m\n\u001B[1;32m    126\u001B[0m         \u001B[0;32mwith\u001B[0m \u001B[0mmap_exceptions\u001B[0m\u001B[0;34m(\u001B[0m\u001B[0mexc_map\u001B[0m\u001B[0;34m)\u001B[0m\u001B[0;34m:\u001B[0m\u001B[0;34m\u001B[0m\u001B[0;34m\u001B[0m\u001B[0m\n\u001B[1;32m    127\u001B[0m             \u001B[0mself\u001B[0m\u001B[0;34m.\u001B[0m\u001B[0m_sock\u001B[0m\u001B[0;34m.\u001B[0m\u001B[0msettimeout\u001B[0m\u001B[0;34m(\u001B[0m\u001B[0mtimeout\u001B[0m\u001B[0;34m)\u001B[0m\u001B[0;34m\u001B[0m\u001B[0;34m\u001B[0m\u001B[0m\n\u001B[0;32m--> 128\u001B[0;31m             \u001B[0;32mreturn\u001B[0m \u001B[0mself\u001B[0m\u001B[0;34m.\u001B[0m\u001B[0m_sock\u001B[0m\u001B[0;34m.\u001B[0m\u001B[0mrecv\u001B[0m\u001B[0;34m(\u001B[0m\u001B[0mmax_bytes\u001B[0m\u001B[0;34m)\u001B[0m\u001B[0;34m\u001B[0m\u001B[0;34m\u001B[0m\u001B[0m\n\u001B[0m\u001B[1;32m    129\u001B[0m \u001B[0;34m\u001B[0m\u001B[0m\n\u001B[1;32m    130\u001B[0m     \u001B[0;32mdef\u001B[0m \u001B[0mwrite\u001B[0m\u001B[0;34m(\u001B[0m\u001B[0mself\u001B[0m\u001B[0;34m,\u001B[0m \u001B[0mbuffer\u001B[0m\u001B[0;34m:\u001B[0m \u001B[0mbytes\u001B[0m\u001B[0;34m,\u001B[0m \u001B[0mtimeout\u001B[0m\u001B[0;34m:\u001B[0m \u001B[0mfloat\u001B[0m \u001B[0;34m|\u001B[0m \u001B[0;32mNone\u001B[0m \u001B[0;34m=\u001B[0m \u001B[0;32mNone\u001B[0m\u001B[0;34m)\u001B[0m \u001B[0;34m->\u001B[0m \u001B[0;32mNone\u001B[0m\u001B[0;34m:\u001B[0m\u001B[0;34m\u001B[0m\u001B[0;34m\u001B[0m\u001B[0m\n",
      "\u001B[0;32m/usr/lib/python3.11/ssl.py\u001B[0m in \u001B[0;36mrecv\u001B[0;34m(self, buflen, flags)\u001B[0m\n\u001B[1;32m   1293\u001B[0m                     \u001B[0;34m\"non-zero flags not allowed in calls to recv() on %s\"\u001B[0m \u001B[0;34m%\u001B[0m\u001B[0;34m\u001B[0m\u001B[0;34m\u001B[0m\u001B[0m\n\u001B[1;32m   1294\u001B[0m                     self.__class__)\n\u001B[0;32m-> 1295\u001B[0;31m             \u001B[0;32mreturn\u001B[0m \u001B[0mself\u001B[0m\u001B[0;34m.\u001B[0m\u001B[0mread\u001B[0m\u001B[0;34m(\u001B[0m\u001B[0mbuflen\u001B[0m\u001B[0;34m)\u001B[0m\u001B[0;34m\u001B[0m\u001B[0;34m\u001B[0m\u001B[0m\n\u001B[0m\u001B[1;32m   1296\u001B[0m         \u001B[0;32melse\u001B[0m\u001B[0;34m:\u001B[0m\u001B[0;34m\u001B[0m\u001B[0;34m\u001B[0m\u001B[0m\n\u001B[1;32m   1297\u001B[0m             \u001B[0;32mreturn\u001B[0m \u001B[0msuper\u001B[0m\u001B[0;34m(\u001B[0m\u001B[0;34m)\u001B[0m\u001B[0;34m.\u001B[0m\u001B[0mrecv\u001B[0m\u001B[0;34m(\u001B[0m\u001B[0mbuflen\u001B[0m\u001B[0;34m,\u001B[0m \u001B[0mflags\u001B[0m\u001B[0;34m)\u001B[0m\u001B[0;34m\u001B[0m\u001B[0;34m\u001B[0m\u001B[0m\n",
      "\u001B[0;32m/usr/lib/python3.11/ssl.py\u001B[0m in \u001B[0;36mread\u001B[0;34m(self, len, buffer)\u001B[0m\n\u001B[1;32m   1166\u001B[0m                 \u001B[0;32mreturn\u001B[0m \u001B[0mself\u001B[0m\u001B[0;34m.\u001B[0m\u001B[0m_sslobj\u001B[0m\u001B[0;34m.\u001B[0m\u001B[0mread\u001B[0m\u001B[0;34m(\u001B[0m\u001B[0mlen\u001B[0m\u001B[0;34m,\u001B[0m \u001B[0mbuffer\u001B[0m\u001B[0;34m)\u001B[0m\u001B[0;34m\u001B[0m\u001B[0;34m\u001B[0m\u001B[0m\n\u001B[1;32m   1167\u001B[0m             \u001B[0;32melse\u001B[0m\u001B[0;34m:\u001B[0m\u001B[0;34m\u001B[0m\u001B[0;34m\u001B[0m\u001B[0m\n\u001B[0;32m-> 1168\u001B[0;31m                 \u001B[0;32mreturn\u001B[0m \u001B[0mself\u001B[0m\u001B[0;34m.\u001B[0m\u001B[0m_sslobj\u001B[0m\u001B[0;34m.\u001B[0m\u001B[0mread\u001B[0m\u001B[0;34m(\u001B[0m\u001B[0mlen\u001B[0m\u001B[0;34m)\u001B[0m\u001B[0;34m\u001B[0m\u001B[0;34m\u001B[0m\u001B[0m\n\u001B[0m\u001B[1;32m   1169\u001B[0m         \u001B[0;32mexcept\u001B[0m \u001B[0mSSLError\u001B[0m \u001B[0;32mas\u001B[0m \u001B[0mx\u001B[0m\u001B[0;34m:\u001B[0m\u001B[0;34m\u001B[0m\u001B[0;34m\u001B[0m\u001B[0m\n\u001B[1;32m   1170\u001B[0m             \u001B[0;32mif\u001B[0m \u001B[0mx\u001B[0m\u001B[0;34m.\u001B[0m\u001B[0margs\u001B[0m\u001B[0;34m[\u001B[0m\u001B[0;36m0\u001B[0m\u001B[0;34m]\u001B[0m \u001B[0;34m==\u001B[0m \u001B[0mSSL_ERROR_EOF\u001B[0m \u001B[0;32mand\u001B[0m \u001B[0mself\u001B[0m\u001B[0;34m.\u001B[0m\u001B[0msuppress_ragged_eofs\u001B[0m\u001B[0;34m:\u001B[0m\u001B[0;34m\u001B[0m\u001B[0;34m\u001B[0m\u001B[0m\n",
      "\u001B[0;31mKeyboardInterrupt\u001B[0m: "
     ]
    }
   ],
   "source": [
    "# --- 💡 사용자 경로 (원본 및 저장 경로) ---\n",
    "# 요약할 원본 .txt 파일들이 있는 폴더 경로\n",
    "source_folder = '/content/drive/MyDrive/PROJECT/cn_api_project/data/보험약관/' # 예시 경로\n",
    "# 요약 결과를 저장할 폴더 경로\n",
    "save_folder = '/content/drive/MyDrive/PROJECT/cn_api_project/data/보험약관/summary' # 예시 경로\n",
    "\n",
    "# --- 📦 필요한 함수 및 객체 (미리 정의되어 있어야 함) ---\n",
    "# 예: summarize_policy_in_chunks 함수, get_most_consistent_summary 함수, client 객체\n",
    "\n",
    "# --- ✅ 요약 결과 저장 폴더 생성 (만약 없다면) ---\n",
    "# 요약 결과를 저장할 폴더가 없다면 미리 생성합니다.\n",
    "if not os.path.exists(save_folder):\n",
    "    os.makedirs(save_folder, exist_ok=True)\n",
    "    print(f\"저장 폴더 생성: '{save_folder}'\")\n",
    "else:\n",
    "    print(f\"저장 폴더 확인: '{save_folder}'\")\n",
    "\n",
    "\n",
    "# --- 🔁 디렉토리 내 모든 .txt 파일 순회 및 조건부 요약 실행 ---\n",
    "print(f\"\\n--- 폴더 내 .txt 파일 순회 및 요약 시작: '{source_folder}' ---\")\n",
    "\n",
    "# os.listdir()은 폴더 안의 파일/폴더 이름 리스트만 반환합니다.\n",
    "# 하위 폴더까지 탐색하려면 os.walk()를 사용해야 합니다.\n",
    "# 여기서는 일단 source_folder 바로 아래의 .txt 파일만 대상으로 합니다.\n",
    "# 하위 폴더까지 포함하려면 이 루프를 os.walk() 기반으로 변경해야 합니다.\n",
    "\n",
    "for filename in os.listdir(source_folder):\n",
    "    # 파일 이름이 .txt로 끝나는지 확인 (확장자는 소문자로 변환 후 비교)\n",
    "    if filename.lower().endswith('.txt'):\n",
    "        file_path = os.path.join(source_folder, filename) # 원본 .txt 파일 전체 경로\n",
    "\n",
    "        # 요약 결과를 저장할 파일 이름 만들기\n",
    "        # 원본 파일 이름에서 확장자(.txt)를 제거하고 '_summary.txt'를 붙입니다.\n",
    "        name_part = os.path.splitext(filename)[0] # 확장자 제거\n",
    "        summary_filename = f\"{name_part}_summary.txt\" # 예: \"원본파일_summary.txt\"\n",
    "        save_path = os.path.join(save_folder, summary_filename) # 저장될 요약 파일의 전체 경로\n",
    "\n",
    "\n",
    "        # --- !!! 요약 파일 존재 여부 확인 및 조건부 요약 실행 !!! ---\n",
    "        if os.path.exists(save_path):\n",
    "            # 요약 파일이 이미 존재하면 요약 과정을 건너뜁니다.\n",
    "            print(f\"\\n\\n✅ 이미 요약된 파일 존재: '{summary_filename}'. 요약 건너뜁니다.\")\n",
    "            continue # 현재 파일 처리를 중단하고 다음 파일로 넘어갑니다.\n",
    "        else:\n",
    "            # 요약 파일이 존재하지 않으면 요약을 진행합니다.\n",
    "            print(f\"\\n\\n📄 파일 요약 시작: {filename}\")\n",
    "\n",
    "            try:\n",
    "                # 원본 .txt 파일 내용 읽기\n",
    "                with open(file_path, 'r', encoding='utf-8') as f:\n",
    "                    extracted_text = f.read()\n",
    "\n",
    "                # --- 약관 요약 실행 ---\n",
    "                # summarize_policy_in_chunks 함수가 정의되어 있다고 가정합니다.\n",
    "                # 이 함수 내부에서 get_most_consistent_summary가 호출됩니다.\n",
    "                print(\"  - 요약 함수 호출 중...\")\n",
    "                chunk_summaries = summarize_policy_in_chunks(\n",
    "                    extracted_text,\n",
    "                    chunk_size=2000, # 요약 청크 크기 (조절 가능)\n",
    "                    summary_iterations=5, # Self-consistency 반복 횟수 (조절 가능)\n",
    "                    model=\"gpt-4o-2024-05-13\",\n",
    "                    temperature=0.7\n",
    "                )\n",
    "                print(\"  - 요약 함수 실행 완료.\")\n",
    "\n",
    "\n",
    "                # --- 요약 결과 저장 ---\n",
    "                # 요약 파일이 존재하지 않으므로 저장합니다.\n",
    "                # save_path 변수는 이미 위에서 만들어졌습니다.\n",
    "                print(f\"  - 요약 결과 저장 중: '{summary_filename}'\")\n",
    "                try:\n",
    "                    # 파일을 쓰기 모드('w')로 열고 요약 결과 쓰기\n",
    "                    with open(save_path, 'w', encoding='utf-8') as out_file:\n",
    "                        # chunk_summaries는 요약된 각 청크 문자열의 리스트입니다.\n",
    "                        for i, chunk in enumerate(chunk_summaries, start=1):\n",
    "                            out_file.write(f\"### 청크 {i} 요약 ###\\n{chunk}\\n\\n\") # 각 청크 요약 결과 쓰기\n",
    "\n",
    "                    print(f\"✅ 저장 완료: '{summary_filename}'\")\n",
    "\n",
    "                except IOError as e:\n",
    "                    print(f\"❌ 파일 저장 오류 ({summary_filename}): {e}\")\n",
    "                    print(f\"경로 확인: '{save_path}' 경로에 쓸 수 있는지, Google Drive 마운트 상태가 올바른지 확인하세요.\")\n",
    "\n",
    "            except Exception as e:\n",
    "                # 파일 읽기 또는 요약 실행 중 발생한 다른 오류 처리\n",
    "                print(f\"❌ 파일 처리 중 오류 발생 ({filename}): {e}\")\n",
    "\n",
    "print(\"\\n--- 모든 .txt 파일 요약 프로세스 완료 ---\")\n"
   ]
  }
 ],
 "metadata": {
  "colab": {
   "collapsed_sections": [
    "i5w76z6plmlX"
   ],
   "provenance": [],
   "mount_file_id": "1aa3AhIi_U1Io7pb2_LeQgYHeRdvdJqNk",
   "authorship_tag": "ABX9TyO+qEncDlFDcZa6sRc9E07N"
  },
  "kernelspec": {
   "display_name": "Python 3",
   "name": "python3"
  },
  "language_info": {
   "name": "python"
  }
 },
 "nbformat": 4,
 "nbformat_minor": 0
}
